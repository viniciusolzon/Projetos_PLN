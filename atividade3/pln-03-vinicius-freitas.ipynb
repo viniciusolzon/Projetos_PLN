{
 "cells": [
  {
   "cell_type": "markdown",
   "metadata": {},
   "source": [
    "Nome: Vinicius Freitas Schiavinato Olzon\n"
   ]
  },
  {
   "cell_type": "markdown",
   "metadata": {},
   "source": [
    "Matrícula: 20210026803\n"
   ]
  },
  {
   "cell_type": "markdown",
   "metadata": {},
   "source": [
    "- O objetivo deste exercício é treinar e avaliar uma rede neural recorrente (RNN\n",
    "ou LSTM) para classificar um conjunto de dados sobre notícias de acordo com\n",
    "suas categorias.\n",
    "- A rede neural pode ser criada utilizando o PyTorch ou Tensorflow/Keras. A rede\n",
    "neural deve ser avaliada através do cálculo da acurácia (quantidade de acertos\n",
    "dividido pela quantidade total de testes)."
   ]
  },
  {
   "cell_type": "markdown",
   "metadata": {},
   "source": [
    "### Carrega as bibliotecas necessárias para puxar o dataset"
   ]
  },
  {
   "cell_type": "code",
   "execution_count": 55,
   "metadata": {},
   "outputs": [
    {
     "name": "stdout",
     "output_type": "stream",
     "text": [
      "Defaulting to user installation because normal site-packages is not writeable\n",
      "Requirement already satisfied: torch in /home/vinicius_olzon/.local/lib/python3.10/site-packages (2.2.1)\n",
      "Requirement already satisfied: torchvision in /home/vinicius_olzon/.local/lib/python3.10/site-packages (0.17.1)\n",
      "Requirement already satisfied: torchaudio in /home/vinicius_olzon/.local/lib/python3.10/site-packages (2.2.1)\n",
      "Requirement already satisfied: nvidia-cuda-nvrtc-cu12==12.1.105 in /home/vinicius_olzon/.local/lib/python3.10/site-packages (from torch) (12.1.105)\n",
      "Requirement already satisfied: nvidia-curand-cu12==10.3.2.106 in /home/vinicius_olzon/.local/lib/python3.10/site-packages (from torch) (10.3.2.106)\n",
      "Requirement already satisfied: nvidia-nccl-cu12==2.19.3 in /home/vinicius_olzon/.local/lib/python3.10/site-packages (from torch) (2.19.3)\n",
      "Requirement already satisfied: sympy in /home/vinicius_olzon/.local/lib/python3.10/site-packages (from torch) (1.12)\n",
      "Requirement already satisfied: nvidia-cuda-runtime-cu12==12.1.105 in /home/vinicius_olzon/.local/lib/python3.10/site-packages (from torch) (12.1.105)\n",
      "Requirement already satisfied: networkx in /home/vinicius_olzon/.local/lib/python3.10/site-packages (from torch) (3.2.1)\n",
      "Requirement already satisfied: nvidia-cudnn-cu12==8.9.2.26 in /home/vinicius_olzon/.local/lib/python3.10/site-packages (from torch) (8.9.2.26)\n",
      "Requirement already satisfied: jinja2 in /home/vinicius_olzon/.local/lib/python3.10/site-packages (from torch) (3.1.3)\n",
      "Requirement already satisfied: nvidia-cusparse-cu12==12.1.0.106 in /home/vinicius_olzon/.local/lib/python3.10/site-packages (from torch) (12.1.0.106)\n",
      "Requirement already satisfied: nvidia-nvtx-cu12==12.1.105 in /home/vinicius_olzon/.local/lib/python3.10/site-packages (from torch) (12.1.105)\n",
      "Requirement already satisfied: fsspec in /home/vinicius_olzon/.local/lib/python3.10/site-packages (from torch) (2024.2.0)\n",
      "Requirement already satisfied: typing-extensions>=4.8.0 in /home/vinicius_olzon/.local/lib/python3.10/site-packages (from torch) (4.10.0)\n",
      "Requirement already satisfied: triton==2.2.0 in /home/vinicius_olzon/.local/lib/python3.10/site-packages (from torch) (2.2.0)\n",
      "Requirement already satisfied: nvidia-cusolver-cu12==11.4.5.107 in /home/vinicius_olzon/.local/lib/python3.10/site-packages (from torch) (11.4.5.107)\n",
      "Requirement already satisfied: nvidia-cuda-cupti-cu12==12.1.105 in /home/vinicius_olzon/.local/lib/python3.10/site-packages (from torch) (12.1.105)\n",
      "Requirement already satisfied: nvidia-cufft-cu12==11.0.2.54 in /home/vinicius_olzon/.local/lib/python3.10/site-packages (from torch) (11.0.2.54)\n",
      "Requirement already satisfied: nvidia-cublas-cu12==12.1.3.1 in /home/vinicius_olzon/.local/lib/python3.10/site-packages (from torch) (12.1.3.1)\n",
      "Requirement already satisfied: filelock in /home/vinicius_olzon/.local/lib/python3.10/site-packages (from torch) (3.13.3)\n",
      "Requirement already satisfied: nvidia-nvjitlink-cu12 in /home/vinicius_olzon/.local/lib/python3.10/site-packages (from nvidia-cusolver-cu12==11.4.5.107->torch) (12.4.99)\n",
      "Requirement already satisfied: numpy in /home/vinicius_olzon/.local/lib/python3.10/site-packages (from torchvision) (1.26.4)\n",
      "Requirement already satisfied: pillow!=8.3.*,>=5.3.0 in /usr/lib/python3/dist-packages (from torchvision) (9.0.1)\n",
      "Requirement already satisfied: MarkupSafe>=2.0 in /usr/lib/python3/dist-packages (from jinja2->torch) (2.0.1)\n",
      "Requirement already satisfied: mpmath>=0.19 in /home/vinicius_olzon/.local/lib/python3.10/site-packages (from sympy->torch) (1.3.0)\n",
      "Note: you may need to restart the kernel to use updated packages.\n",
      "Defaulting to user installation because normal site-packages is not writeable\n",
      "Requirement already satisfied: ipywidgets in /home/vinicius_olzon/.local/lib/python3.10/site-packages (8.1.2)\n",
      "Requirement already satisfied: ipython>=6.1.0 in /home/vinicius_olzon/.local/lib/python3.10/site-packages (from ipywidgets) (8.22.2)\n",
      "Requirement already satisfied: traitlets>=4.3.1 in /home/vinicius_olzon/.local/lib/python3.10/site-packages (from ipywidgets) (5.14.2)\n",
      "Requirement already satisfied: widgetsnbextension~=4.0.10 in /home/vinicius_olzon/.local/lib/python3.10/site-packages (from ipywidgets) (4.0.10)\n",
      "Requirement already satisfied: comm>=0.1.3 in /home/vinicius_olzon/.local/lib/python3.10/site-packages (from ipywidgets) (0.2.2)\n",
      "Requirement already satisfied: jupyterlab-widgets~=3.0.10 in /home/vinicius_olzon/.local/lib/python3.10/site-packages (from ipywidgets) (3.0.10)\n",
      "Requirement already satisfied: exceptiongroup in /home/vinicius_olzon/.local/lib/python3.10/site-packages (from ipython>=6.1.0->ipywidgets) (1.2.0)\n",
      "Requirement already satisfied: pexpect>4.3 in /usr/lib/python3/dist-packages (from ipython>=6.1.0->ipywidgets) (4.8.0)\n",
      "Requirement already satisfied: pygments>=2.4.0 in /home/vinicius_olzon/.local/lib/python3.10/site-packages (from ipython>=6.1.0->ipywidgets) (2.17.2)\n",
      "Requirement already satisfied: prompt-toolkit<3.1.0,>=3.0.41 in /home/vinicius_olzon/.local/lib/python3.10/site-packages (from ipython>=6.1.0->ipywidgets) (3.0.43)\n",
      "Requirement already satisfied: decorator in /home/vinicius_olzon/.local/lib/python3.10/site-packages (from ipython>=6.1.0->ipywidgets) (5.1.1)\n",
      "Requirement already satisfied: jedi>=0.16 in /home/vinicius_olzon/.local/lib/python3.10/site-packages (from ipython>=6.1.0->ipywidgets) (0.19.1)\n",
      "Requirement already satisfied: matplotlib-inline in /home/vinicius_olzon/.local/lib/python3.10/site-packages (from ipython>=6.1.0->ipywidgets) (0.1.6)\n",
      "Requirement already satisfied: stack-data in /home/vinicius_olzon/.local/lib/python3.10/site-packages (from ipython>=6.1.0->ipywidgets) (0.6.3)\n",
      "Requirement already satisfied: parso<0.9.0,>=0.8.3 in /home/vinicius_olzon/.local/lib/python3.10/site-packages (from jedi>=0.16->ipython>=6.1.0->ipywidgets) (0.8.3)\n",
      "Requirement already satisfied: wcwidth in /home/vinicius_olzon/.local/lib/python3.10/site-packages (from prompt-toolkit<3.1.0,>=3.0.41->ipython>=6.1.0->ipywidgets) (0.2.13)\n",
      "Requirement already satisfied: executing>=1.2.0 in /home/vinicius_olzon/.local/lib/python3.10/site-packages (from stack-data->ipython>=6.1.0->ipywidgets) (2.0.1)\n",
      "Requirement already satisfied: pure-eval in /home/vinicius_olzon/.local/lib/python3.10/site-packages (from stack-data->ipython>=6.1.0->ipywidgets) (0.2.2)\n",
      "Requirement already satisfied: asttokens>=2.1.0 in /home/vinicius_olzon/.local/lib/python3.10/site-packages (from stack-data->ipython>=6.1.0->ipywidgets) (2.4.1)\n",
      "Requirement already satisfied: six>=1.12.0 in /usr/lib/python3/dist-packages (from asttokens>=2.1.0->stack-data->ipython>=6.1.0->ipywidgets) (1.16.0)\n",
      "Note: you may need to restart the kernel to use updated packages.\n",
      "Defaulting to user installation because normal site-packages is not writeable\n",
      "Requirement already satisfied: torchtext in /home/vinicius_olzon/.local/lib/python3.10/site-packages (0.17.1)\n",
      "Requirement already satisfied: requests in /usr/lib/python3/dist-packages (from torchtext) (2.25.1)\n",
      "Requirement already satisfied: numpy in /home/vinicius_olzon/.local/lib/python3.10/site-packages (from torchtext) (1.26.4)\n",
      "Requirement already satisfied: torch==2.2.1 in /home/vinicius_olzon/.local/lib/python3.10/site-packages (from torchtext) (2.2.1)\n",
      "Requirement already satisfied: tqdm in /home/vinicius_olzon/.local/lib/python3.10/site-packages (from torchtext) (4.66.2)\n",
      "Requirement already satisfied: torchdata==0.7.1 in /home/vinicius_olzon/.local/lib/python3.10/site-packages (from torchtext) (0.7.1)\n",
      "Requirement already satisfied: nvidia-cublas-cu12==12.1.3.1 in /home/vinicius_olzon/.local/lib/python3.10/site-packages (from torch==2.2.1->torchtext) (12.1.3.1)\n",
      "Requirement already satisfied: nvidia-nvtx-cu12==12.1.105 in /home/vinicius_olzon/.local/lib/python3.10/site-packages (from torch==2.2.1->torchtext) (12.1.105)\n",
      "Requirement already satisfied: nvidia-cusparse-cu12==12.1.0.106 in /home/vinicius_olzon/.local/lib/python3.10/site-packages (from torch==2.2.1->torchtext) (12.1.0.106)\n",
      "Requirement already satisfied: typing-extensions>=4.8.0 in /home/vinicius_olzon/.local/lib/python3.10/site-packages (from torch==2.2.1->torchtext) (4.10.0)\n",
      "Requirement already satisfied: nvidia-curand-cu12==10.3.2.106 in /home/vinicius_olzon/.local/lib/python3.10/site-packages (from torch==2.2.1->torchtext) (10.3.2.106)\n",
      "Requirement already satisfied: nvidia-cuda-runtime-cu12==12.1.105 in /home/vinicius_olzon/.local/lib/python3.10/site-packages (from torch==2.2.1->torchtext) (12.1.105)\n",
      "Requirement already satisfied: nvidia-cuda-cupti-cu12==12.1.105 in /home/vinicius_olzon/.local/lib/python3.10/site-packages (from torch==2.2.1->torchtext) (12.1.105)\n",
      "Requirement already satisfied: filelock in /home/vinicius_olzon/.local/lib/python3.10/site-packages (from torch==2.2.1->torchtext) (3.13.3)\n",
      "Requirement already satisfied: nvidia-nccl-cu12==2.19.3 in /home/vinicius_olzon/.local/lib/python3.10/site-packages (from torch==2.2.1->torchtext) (2.19.3)\n",
      "Requirement already satisfied: fsspec in /home/vinicius_olzon/.local/lib/python3.10/site-packages (from torch==2.2.1->torchtext) (2024.2.0)\n",
      "Requirement already satisfied: triton==2.2.0 in /home/vinicius_olzon/.local/lib/python3.10/site-packages (from torch==2.2.1->torchtext) (2.2.0)\n",
      "Requirement already satisfied: nvidia-cudnn-cu12==8.9.2.26 in /home/vinicius_olzon/.local/lib/python3.10/site-packages (from torch==2.2.1->torchtext) (8.9.2.26)\n",
      "Requirement already satisfied: networkx in /home/vinicius_olzon/.local/lib/python3.10/site-packages (from torch==2.2.1->torchtext) (3.2.1)\n",
      "Requirement already satisfied: nvidia-cuda-nvrtc-cu12==12.1.105 in /home/vinicius_olzon/.local/lib/python3.10/site-packages (from torch==2.2.1->torchtext) (12.1.105)\n",
      "Requirement already satisfied: sympy in /home/vinicius_olzon/.local/lib/python3.10/site-packages (from torch==2.2.1->torchtext) (1.12)\n",
      "Requirement already satisfied: jinja2 in /home/vinicius_olzon/.local/lib/python3.10/site-packages (from torch==2.2.1->torchtext) (3.1.3)\n",
      "Requirement already satisfied: nvidia-cusolver-cu12==11.4.5.107 in /home/vinicius_olzon/.local/lib/python3.10/site-packages (from torch==2.2.1->torchtext) (11.4.5.107)\n",
      "Requirement already satisfied: nvidia-cufft-cu12==11.0.2.54 in /home/vinicius_olzon/.local/lib/python3.10/site-packages (from torch==2.2.1->torchtext) (11.0.2.54)\n",
      "Requirement already satisfied: urllib3>=1.25 in /usr/lib/python3/dist-packages (from torchdata==0.7.1->torchtext) (1.26.5)\n",
      "Requirement already satisfied: nvidia-nvjitlink-cu12 in /home/vinicius_olzon/.local/lib/python3.10/site-packages (from nvidia-cusolver-cu12==11.4.5.107->torch==2.2.1->torchtext) (12.4.99)\n",
      "Requirement already satisfied: MarkupSafe>=2.0 in /usr/lib/python3/dist-packages (from jinja2->torch==2.2.1->torchtext) (2.0.1)\n",
      "Requirement already satisfied: mpmath>=0.19 in /home/vinicius_olzon/.local/lib/python3.10/site-packages (from sympy->torch==2.2.1->torchtext) (1.3.0)\n",
      "Note: you may need to restart the kernel to use updated packages.\n",
      "Defaulting to user installation because normal site-packages is not writeable\n",
      "Requirement already satisfied: datasets in /home/vinicius_olzon/.local/lib/python3.10/site-packages (2.18.0)\n",
      "Requirement already satisfied: pyarrow>=12.0.0 in /home/vinicius_olzon/.local/lib/python3.10/site-packages (from datasets) (15.0.2)\n",
      "Requirement already satisfied: dill<0.3.9,>=0.3.0 in /home/vinicius_olzon/.local/lib/python3.10/site-packages (from datasets) (0.3.8)\n",
      "Requirement already satisfied: huggingface-hub>=0.19.4 in /home/vinicius_olzon/.local/lib/python3.10/site-packages (from datasets) (0.22.0)\n",
      "Requirement already satisfied: requests>=2.19.0 in /usr/lib/python3/dist-packages (from datasets) (2.25.1)\n",
      "Requirement already satisfied: fsspec[http]<=2024.2.0,>=2023.1.0 in /home/vinicius_olzon/.local/lib/python3.10/site-packages (from datasets) (2024.2.0)\n",
      "Requirement already satisfied: pandas in /home/vinicius_olzon/.local/lib/python3.10/site-packages (from datasets) (2.2.1)\n",
      "Requirement already satisfied: filelock in /home/vinicius_olzon/.local/lib/python3.10/site-packages (from datasets) (3.13.3)\n",
      "Requirement already satisfied: tqdm>=4.62.1 in /home/vinicius_olzon/.local/lib/python3.10/site-packages (from datasets) (4.66.2)\n",
      "Requirement already satisfied: xxhash in /home/vinicius_olzon/.local/lib/python3.10/site-packages (from datasets) (3.4.1)\n",
      "Requirement already satisfied: packaging in /home/vinicius_olzon/.local/lib/python3.10/site-packages (from datasets) (24.0)\n",
      "Requirement already satisfied: aiohttp in /home/vinicius_olzon/.local/lib/python3.10/site-packages (from datasets) (3.9.3)\n",
      "Requirement already satisfied: pyyaml>=5.1 in /usr/lib/python3/dist-packages (from datasets) (5.4.1)\n",
      "Requirement already satisfied: multiprocess in /home/vinicius_olzon/.local/lib/python3.10/site-packages (from datasets) (0.70.16)\n",
      "Requirement already satisfied: numpy>=1.17 in /home/vinicius_olzon/.local/lib/python3.10/site-packages (from datasets) (1.26.4)\n",
      "Requirement already satisfied: pyarrow-hotfix in /home/vinicius_olzon/.local/lib/python3.10/site-packages (from datasets) (0.6)\n",
      "Requirement already satisfied: attrs>=17.3.0 in /home/vinicius_olzon/.local/lib/python3.10/site-packages (from aiohttp->datasets) (23.2.0)\n",
      "Requirement already satisfied: multidict<7.0,>=4.5 in /home/vinicius_olzon/.local/lib/python3.10/site-packages (from aiohttp->datasets) (6.0.5)\n",
      "Requirement already satisfied: yarl<2.0,>=1.0 in /home/vinicius_olzon/.local/lib/python3.10/site-packages (from aiohttp->datasets) (1.9.4)\n",
      "Requirement already satisfied: async-timeout<5.0,>=4.0 in /home/vinicius_olzon/.local/lib/python3.10/site-packages (from aiohttp->datasets) (4.0.3)\n",
      "Requirement already satisfied: aiosignal>=1.1.2 in /home/vinicius_olzon/.local/lib/python3.10/site-packages (from aiohttp->datasets) (1.3.1)\n",
      "Requirement already satisfied: frozenlist>=1.1.1 in /home/vinicius_olzon/.local/lib/python3.10/site-packages (from aiohttp->datasets) (1.4.1)\n",
      "Requirement already satisfied: typing-extensions>=3.7.4.3 in /home/vinicius_olzon/.local/lib/python3.10/site-packages (from huggingface-hub>=0.19.4->datasets) (4.10.0)\n",
      "Requirement already satisfied: tzdata>=2022.7 in /home/vinicius_olzon/.local/lib/python3.10/site-packages (from pandas->datasets) (2024.1)\n",
      "Requirement already satisfied: python-dateutil>=2.8.2 in /home/vinicius_olzon/.local/lib/python3.10/site-packages (from pandas->datasets) (2.9.0.post0)\n",
      "Requirement already satisfied: pytz>=2020.1 in /usr/lib/python3/dist-packages (from pandas->datasets) (2022.1)\n",
      "Requirement already satisfied: six>=1.5 in /usr/lib/python3/dist-packages (from python-dateutil>=2.8.2->pandas->datasets) (1.16.0)\n",
      "Requirement already satisfied: idna>=2.0 in /usr/lib/python3/dist-packages (from yarl<2.0,>=1.0->aiohttp->datasets) (3.3)\n",
      "Note: you may need to restart the kernel to use updated packages.\n"
     ]
    }
   ],
   "source": [
    "%pip install torch torchvision torchaudio\n",
    "%pip install ipywidgets\n",
    "%pip install torchtext\n",
    "%pip install datasets"
   ]
  },
  {
   "cell_type": "code",
   "execution_count": 56,
   "metadata": {},
   "outputs": [
    {
     "name": "stdout",
     "output_type": "stream",
     "text": [
      "Defaulting to user installation because normal site-packages is not writeable\n",
      "Requirement already satisfied: ipywidgets in /home/vinicius_olzon/.local/lib/python3.10/site-packages (8.1.2)\n",
      "Requirement already satisfied: widgetsnbextension in /home/vinicius_olzon/.local/lib/python3.10/site-packages (4.0.10)\n",
      "Requirement already satisfied: pandas-profiling in /home/vinicius_olzon/.local/lib/python3.10/site-packages (3.6.6)\n",
      "Requirement already satisfied: ipython>=6.1.0 in /home/vinicius_olzon/.local/lib/python3.10/site-packages (from ipywidgets) (8.22.2)\n",
      "Requirement already satisfied: jupyterlab-widgets~=3.0.10 in /home/vinicius_olzon/.local/lib/python3.10/site-packages (from ipywidgets) (3.0.10)\n",
      "Requirement already satisfied: traitlets>=4.3.1 in /home/vinicius_olzon/.local/lib/python3.10/site-packages (from ipywidgets) (5.14.2)\n",
      "Requirement already satisfied: comm>=0.1.3 in /home/vinicius_olzon/.local/lib/python3.10/site-packages (from ipywidgets) (0.2.2)\n",
      "Requirement already satisfied: ydata-profiling in /home/vinicius_olzon/.local/lib/python3.10/site-packages (from pandas-profiling) (4.7.0)\n",
      "Requirement already satisfied: exceptiongroup in /home/vinicius_olzon/.local/lib/python3.10/site-packages (from ipython>=6.1.0->ipywidgets) (1.2.0)\n",
      "Requirement already satisfied: stack-data in /home/vinicius_olzon/.local/lib/python3.10/site-packages (from ipython>=6.1.0->ipywidgets) (0.6.3)\n",
      "Requirement already satisfied: pygments>=2.4.0 in /home/vinicius_olzon/.local/lib/python3.10/site-packages (from ipython>=6.1.0->ipywidgets) (2.17.2)\n",
      "Requirement already satisfied: jedi>=0.16 in /home/vinicius_olzon/.local/lib/python3.10/site-packages (from ipython>=6.1.0->ipywidgets) (0.19.1)\n",
      "Requirement already satisfied: decorator in /home/vinicius_olzon/.local/lib/python3.10/site-packages (from ipython>=6.1.0->ipywidgets) (5.1.1)\n",
      "Requirement already satisfied: pexpect>4.3 in /usr/lib/python3/dist-packages (from ipython>=6.1.0->ipywidgets) (4.8.0)\n",
      "Requirement already satisfied: matplotlib-inline in /home/vinicius_olzon/.local/lib/python3.10/site-packages (from ipython>=6.1.0->ipywidgets) (0.1.6)\n",
      "Requirement already satisfied: prompt-toolkit<3.1.0,>=3.0.41 in /home/vinicius_olzon/.local/lib/python3.10/site-packages (from ipython>=6.1.0->ipywidgets) (3.0.43)\n",
      "Requirement already satisfied: visions[type_image_path]<0.7.7,>=0.7.5 in /home/vinicius_olzon/.local/lib/python3.10/site-packages (from ydata-profiling->pandas-profiling) (0.7.6)\n",
      "Requirement already satisfied: scipy<1.12,>=1.4.1 in /home/vinicius_olzon/.local/lib/python3.10/site-packages (from ydata-profiling->pandas-profiling) (1.11.4)\n",
      "Requirement already satisfied: pydantic>=2 in /home/vinicius_olzon/.local/lib/python3.10/site-packages (from ydata-profiling->pandas-profiling) (2.6.4)\n",
      "Requirement already satisfied: statsmodels<1,>=0.13.2 in /home/vinicius_olzon/.local/lib/python3.10/site-packages (from ydata-profiling->pandas-profiling) (0.14.1)\n",
      "Requirement already satisfied: typeguard<5,>=4.1.2 in /home/vinicius_olzon/.local/lib/python3.10/site-packages (from ydata-profiling->pandas-profiling) (4.2.1)\n",
      "Requirement already satisfied: jinja2<3.2,>=2.11.1 in /home/vinicius_olzon/.local/lib/python3.10/site-packages (from ydata-profiling->pandas-profiling) (3.1.3)\n",
      "Requirement already satisfied: requests<3,>=2.24.0 in /usr/lib/python3/dist-packages (from ydata-profiling->pandas-profiling) (2.25.1)\n",
      "Requirement already satisfied: imagehash==4.3.1 in /home/vinicius_olzon/.local/lib/python3.10/site-packages (from ydata-profiling->pandas-profiling) (4.3.1)\n",
      "Requirement already satisfied: PyYAML<6.1,>=5.0.0 in /usr/lib/python3/dist-packages (from ydata-profiling->pandas-profiling) (5.4.1)\n",
      "Requirement already satisfied: dacite>=1.8 in /home/vinicius_olzon/.local/lib/python3.10/site-packages (from ydata-profiling->pandas-profiling) (1.8.1)\n",
      "Requirement already satisfied: phik<0.13,>=0.11.1 in /home/vinicius_olzon/.local/lib/python3.10/site-packages (from ydata-profiling->pandas-profiling) (0.12.4)\n",
      "Requirement already satisfied: seaborn<0.13,>=0.10.1 in /home/vinicius_olzon/.local/lib/python3.10/site-packages (from ydata-profiling->pandas-profiling) (0.12.2)\n",
      "Requirement already satisfied: multimethod<2,>=1.4 in /home/vinicius_olzon/.local/lib/python3.10/site-packages (from ydata-profiling->pandas-profiling) (1.11.2)\n",
      "Requirement already satisfied: pandas!=1.4.0,<3,>1.1 in /home/vinicius_olzon/.local/lib/python3.10/site-packages (from ydata-profiling->pandas-profiling) (2.2.1)\n",
      "Requirement already satisfied: matplotlib<3.9,>=3.2 in /home/vinicius_olzon/.local/lib/python3.10/site-packages (from ydata-profiling->pandas-profiling) (3.8.3)\n",
      "Requirement already satisfied: numba<1,>=0.56.0 in /home/vinicius_olzon/.local/lib/python3.10/site-packages (from ydata-profiling->pandas-profiling) (0.59.1)\n",
      "Requirement already satisfied: numpy<2,>=1.16.0 in /home/vinicius_olzon/.local/lib/python3.10/site-packages (from ydata-profiling->pandas-profiling) (1.26.4)\n",
      "Requirement already satisfied: htmlmin==0.1.12 in /home/vinicius_olzon/.local/lib/python3.10/site-packages (from ydata-profiling->pandas-profiling) (0.1.12)\n",
      "Requirement already satisfied: tqdm<5,>=4.48.2 in /home/vinicius_olzon/.local/lib/python3.10/site-packages (from ydata-profiling->pandas-profiling) (4.66.2)\n",
      "Requirement already satisfied: wordcloud>=1.9.1 in /home/vinicius_olzon/.local/lib/python3.10/site-packages (from ydata-profiling->pandas-profiling) (1.9.3)\n",
      "Requirement already satisfied: pillow in /usr/lib/python3/dist-packages (from imagehash==4.3.1->ydata-profiling->pandas-profiling) (9.0.1)\n",
      "Requirement already satisfied: PyWavelets in /home/vinicius_olzon/.local/lib/python3.10/site-packages (from imagehash==4.3.1->ydata-profiling->pandas-profiling) (1.5.0)\n",
      "Requirement already satisfied: parso<0.9.0,>=0.8.3 in /home/vinicius_olzon/.local/lib/python3.10/site-packages (from jedi>=0.16->ipython>=6.1.0->ipywidgets) (0.8.3)\n",
      "Requirement already satisfied: MarkupSafe>=2.0 in /usr/lib/python3/dist-packages (from jinja2<3.2,>=2.11.1->ydata-profiling->pandas-profiling) (2.0.1)\n",
      "Requirement already satisfied: pyparsing>=2.3.1 in /usr/lib/python3/dist-packages (from matplotlib<3.9,>=3.2->ydata-profiling->pandas-profiling) (2.4.7)\n",
      "Requirement already satisfied: kiwisolver>=1.3.1 in /home/vinicius_olzon/.local/lib/python3.10/site-packages (from matplotlib<3.9,>=3.2->ydata-profiling->pandas-profiling) (1.4.5)\n",
      "Requirement already satisfied: fonttools>=4.22.0 in /home/vinicius_olzon/.local/lib/python3.10/site-packages (from matplotlib<3.9,>=3.2->ydata-profiling->pandas-profiling) (4.50.0)\n",
      "Requirement already satisfied: packaging>=20.0 in /home/vinicius_olzon/.local/lib/python3.10/site-packages (from matplotlib<3.9,>=3.2->ydata-profiling->pandas-profiling) (24.0)\n",
      "Requirement already satisfied: cycler>=0.10 in /home/vinicius_olzon/.local/lib/python3.10/site-packages (from matplotlib<3.9,>=3.2->ydata-profiling->pandas-profiling) (0.12.1)\n",
      "Requirement already satisfied: contourpy>=1.0.1 in /home/vinicius_olzon/.local/lib/python3.10/site-packages (from matplotlib<3.9,>=3.2->ydata-profiling->pandas-profiling) (1.2.0)\n",
      "Requirement already satisfied: python-dateutil>=2.7 in /home/vinicius_olzon/.local/lib/python3.10/site-packages (from matplotlib<3.9,>=3.2->ydata-profiling->pandas-profiling) (2.9.0.post0)\n",
      "Requirement already satisfied: llvmlite<0.43,>=0.42.0dev0 in /home/vinicius_olzon/.local/lib/python3.10/site-packages (from numba<1,>=0.56.0->ydata-profiling->pandas-profiling) (0.42.0)\n",
      "Requirement already satisfied: pytz>=2020.1 in /usr/lib/python3/dist-packages (from pandas!=1.4.0,<3,>1.1->ydata-profiling->pandas-profiling) (2022.1)\n",
      "Requirement already satisfied: tzdata>=2022.7 in /home/vinicius_olzon/.local/lib/python3.10/site-packages (from pandas!=1.4.0,<3,>1.1->ydata-profiling->pandas-profiling) (2024.1)\n",
      "Requirement already satisfied: joblib>=0.14.1 in /home/vinicius_olzon/.local/lib/python3.10/site-packages (from phik<0.13,>=0.11.1->ydata-profiling->pandas-profiling) (1.3.2)\n",
      "Requirement already satisfied: wcwidth in /home/vinicius_olzon/.local/lib/python3.10/site-packages (from prompt-toolkit<3.1.0,>=3.0.41->ipython>=6.1.0->ipywidgets) (0.2.13)\n",
      "Requirement already satisfied: pydantic-core==2.16.3 in /home/vinicius_olzon/.local/lib/python3.10/site-packages (from pydantic>=2->ydata-profiling->pandas-profiling) (2.16.3)\n",
      "Requirement already satisfied: typing-extensions>=4.6.1 in /home/vinicius_olzon/.local/lib/python3.10/site-packages (from pydantic>=2->ydata-profiling->pandas-profiling) (4.10.0)\n",
      "Requirement already satisfied: annotated-types>=0.4.0 in /home/vinicius_olzon/.local/lib/python3.10/site-packages (from pydantic>=2->ydata-profiling->pandas-profiling) (0.6.0)\n",
      "Requirement already satisfied: patsy>=0.5.4 in /home/vinicius_olzon/.local/lib/python3.10/site-packages (from statsmodels<1,>=0.13.2->ydata-profiling->pandas-profiling) (0.5.6)\n",
      "Requirement already satisfied: attrs>=19.3.0 in /home/vinicius_olzon/.local/lib/python3.10/site-packages (from visions[type_image_path]<0.7.7,>=0.7.5->ydata-profiling->pandas-profiling) (23.2.0)\n",
      "Requirement already satisfied: networkx>=2.4 in /home/vinicius_olzon/.local/lib/python3.10/site-packages (from visions[type_image_path]<0.7.7,>=0.7.5->ydata-profiling->pandas-profiling) (3.2.1)\n",
      "Requirement already satisfied: pure-eval in /home/vinicius_olzon/.local/lib/python3.10/site-packages (from stack-data->ipython>=6.1.0->ipywidgets) (0.2.2)\n",
      "Requirement already satisfied: asttokens>=2.1.0 in /home/vinicius_olzon/.local/lib/python3.10/site-packages (from stack-data->ipython>=6.1.0->ipywidgets) (2.4.1)\n",
      "Requirement already satisfied: executing>=1.2.0 in /home/vinicius_olzon/.local/lib/python3.10/site-packages (from stack-data->ipython>=6.1.0->ipywidgets) (2.0.1)\n",
      "Requirement already satisfied: six>=1.12.0 in /usr/lib/python3/dist-packages (from asttokens>=2.1.0->stack-data->ipython>=6.1.0->ipywidgets) (1.16.0)\n"
     ]
    }
   ],
   "source": [
    "!pip install ipywidgets widgetsnbextension pandas-profiling"
   ]
  },
  {
   "cell_type": "code",
   "execution_count": 57,
   "metadata": {},
   "outputs": [
    {
     "name": "stdout",
     "output_type": "stream",
     "text": [
      "Enabling notebook extension jupyter-js-widgets/extension...\n",
      "      - Validating: \u001b[32mOK\u001b[0m\n"
     ]
    }
   ],
   "source": [
    "!jupyter nbextension enable --py widgetsnbextension"
   ]
  },
  {
   "cell_type": "code",
   "execution_count": 58,
   "metadata": {},
   "outputs": [],
   "source": [
    "import torch\n",
    "import datasets\n",
    "import pandas as pd\n",
    "from torch import nn\n",
    "\n",
    "import matplotlib.pyplot as plt\n",
    "from ipywidgets import FloatProgress\n",
    "from torch.utils.data import Dataset\n",
    "from torch.utils.data import DataLoader\n",
    "from torchtext.data.utils import get_tokenizer\n",
    "from torchtext.vocab import build_vocab_from_iterator"
   ]
  },
  {
   "cell_type": "code",
   "execution_count": 59,
   "metadata": {},
   "outputs": [],
   "source": [
    "dataset = datasets.load_dataset(\"okite97/news-data\")"
   ]
  },
  {
   "cell_type": "code",
   "execution_count": 60,
   "metadata": {},
   "outputs": [
    {
     "data": {
      "text/plain": [
       "DatasetDict({\n",
       "    train: Dataset({\n",
       "        features: ['Title', 'Excerpt', 'Category'],\n",
       "        num_rows: 4686\n",
       "    })\n",
       "    test: Dataset({\n",
       "        features: ['Title', 'Excerpt', 'Category'],\n",
       "        num_rows: 828\n",
       "    })\n",
       "})"
      ]
     },
     "execution_count": 60,
     "metadata": {},
     "output_type": "execute_result"
    }
   ],
   "source": [
    "dataset"
   ]
  },
  {
   "cell_type": "markdown",
   "metadata": {},
   "source": [
    "### Tokenização"
   ]
  },
  {
   "cell_type": "code",
   "execution_count": 61,
   "metadata": {},
   "outputs": [],
   "source": [
    "tokenizer = get_tokenizer('basic_english')"
   ]
  },
  {
   "cell_type": "code",
   "execution_count": 62,
   "metadata": {},
   "outputs": [
    {
     "data": {
      "text/plain": [
       "['uefa',\n",
       " 'has',\n",
       " 'opened',\n",
       " 'disciplinary',\n",
       " 'proceedings',\n",
       " 'against',\n",
       " 'barcelona',\n",
       " ',',\n",
       " 'juventus',\n",
       " 'and',\n",
       " 'real',\n",
       " 'madrid',\n",
       " 'over',\n",
       " 'their',\n",
       " 'involvement',\n",
       " 'in',\n",
       " 'the',\n",
       " 'proposed',\n",
       " 'european',\n",
       " 'super',\n",
       " 'league',\n",
       " '.']"
      ]
     },
     "execution_count": 62,
     "metadata": {},
     "output_type": "execute_result"
    }
   ],
   "source": [
    "tokenizer(dataset['train'][\"Excerpt\"][0])"
   ]
  },
  {
   "cell_type": "code",
   "execution_count": 63,
   "metadata": {},
   "outputs": [],
   "source": [
    "tokens_list_train = []\n",
    "for i in range(len(dataset['train']['Excerpt'])):\n",
    "    tokens_list_train.append(tokenizer(dataset['train']['Excerpt'][i]))"
   ]
  },
  {
   "cell_type": "code",
   "execution_count": 64,
   "metadata": {},
   "outputs": [],
   "source": [
    "tokens_list_test = []\n",
    "for i in range(len(dataset['test']['Excerpt'])):\n",
    "    tokens_list_test.append(tokenizer(dataset['test']['Excerpt'][i]))"
   ]
  },
  {
   "cell_type": "markdown",
   "metadata": {},
   "source": [
    "### Adiciona as colunas novas de tokens nos dados de treino e teste"
   ]
  },
  {
   "cell_type": "code",
   "execution_count": 65,
   "metadata": {},
   "outputs": [],
   "source": [
    "dataset['train'] = dataset['train'].add_column(name='tokens', column=tokens_list_train)"
   ]
  },
  {
   "cell_type": "code",
   "execution_count": 66,
   "metadata": {},
   "outputs": [],
   "source": [
    "dataset['test'] = dataset['test'].add_column(name='tokens', column=tokens_list_test)"
   ]
  },
  {
   "cell_type": "code",
   "execution_count": 67,
   "metadata": {},
   "outputs": [
    {
     "data": {
      "text/plain": [
       "['uefa',\n",
       " 'has',\n",
       " 'opened',\n",
       " 'disciplinary',\n",
       " 'proceedings',\n",
       " 'against',\n",
       " 'barcelona',\n",
       " ',',\n",
       " 'juventus',\n",
       " 'and',\n",
       " 'real',\n",
       " 'madrid',\n",
       " 'over',\n",
       " 'their',\n",
       " 'involvement',\n",
       " 'in',\n",
       " 'the',\n",
       " 'proposed',\n",
       " 'european',\n",
       " 'super',\n",
       " 'league',\n",
       " '.']"
      ]
     },
     "execution_count": 67,
     "metadata": {},
     "output_type": "execute_result"
    }
   ],
   "source": [
    "dataset['train']['tokens'][0]"
   ]
  },
  {
   "cell_type": "code",
   "execution_count": 68,
   "metadata": {},
   "outputs": [
    {
     "data": {
      "text/plain": [
       "DatasetDict({\n",
       "    train: Dataset({\n",
       "        features: ['Title', 'Excerpt', 'Category', 'tokens'],\n",
       "        num_rows: 4686\n",
       "    })\n",
       "    test: Dataset({\n",
       "        features: ['Title', 'Excerpt', 'Category', 'tokens'],\n",
       "        num_rows: 828\n",
       "    })\n",
       "})"
      ]
     },
     "execution_count": 68,
     "metadata": {},
     "output_type": "execute_result"
    }
   ],
   "source": [
    "dataset"
   ]
  },
  {
   "cell_type": "markdown",
   "metadata": {},
   "source": [
    "### Vocabulário"
   ]
  },
  {
   "cell_type": "markdown",
   "metadata": {},
   "source": [
    "### Tokens desconhecidos ficarão como índice 0"
   ]
  },
  {
   "cell_type": "code",
   "execution_count": 69,
   "metadata": {},
   "outputs": [],
   "source": [
    "vocab_custom = build_vocab_from_iterator(dataset['train']['tokens'], min_freq=3, specials=['<unk>'])\n",
    "vocab_custom.set_default_index(vocab_custom['<unk>'])"
   ]
  },
  {
   "cell_type": "code",
   "execution_count": 70,
   "metadata": {},
   "outputs": [
    {
     "data": {
      "text/plain": [
       "178"
      ]
     },
     "execution_count": 70,
     "metadata": {},
     "output_type": "execute_result"
    }
   ],
   "source": [
    "vocab_custom['european']"
   ]
  },
  {
   "cell_type": "code",
   "execution_count": 71,
   "metadata": {},
   "outputs": [
    {
     "data": {
      "text/plain": [
       "0"
      ]
     },
     "execution_count": 71,
     "metadata": {},
     "output_type": "execute_result"
    }
   ],
   "source": [
    "vocab_custom['<unk>']"
   ]
  },
  {
   "cell_type": "code",
   "execution_count": 72,
   "metadata": {},
   "outputs": [
    {
     "data": {
      "text/plain": [
       "0"
      ]
     },
     "execution_count": 72,
     "metadata": {},
     "output_type": "execute_result"
    }
   ],
   "source": [
    "vocab_custom['cleber']"
   ]
  },
  {
   "cell_type": "code",
   "execution_count": 73,
   "metadata": {},
   "outputs": [
    {
     "data": {
      "text/plain": [
       "4137"
      ]
     },
     "execution_count": 73,
     "metadata": {},
     "output_type": "execute_result"
    }
   ],
   "source": [
    "len(vocab_custom)"
   ]
  },
  {
   "cell_type": "code",
   "execution_count": 74,
   "metadata": {},
   "outputs": [],
   "source": [
    "def vocab(tokens):\n",
    "  result = []\n",
    "  for token in tokens:\n",
    "    result.append(vocab_custom[token])\n",
    "\n",
    "  return result"
   ]
  },
  {
   "cell_type": "code",
   "execution_count": 75,
   "metadata": {},
   "outputs": [
    {
     "data": {
      "text/plain": [
       "[18, 139, 549, 25, 797, 4, 44, 1, 0]"
      ]
     },
     "execution_count": 75,
     "metadata": {},
     "output_type": "execute_result"
    }
   ],
   "source": [
    "vocab(['that', 'football', 'player', 'is', 'going', 'to', 'be', 'the', 'mvp'])"
   ]
  },
  {
   "cell_type": "code",
   "execution_count": 76,
   "metadata": {},
   "outputs": [
    {
     "data": {
      "text/plain": [
       "[18, 139, 549, 25, 797, 4, 44, 1, 509]"
      ]
     },
     "execution_count": 76,
     "metadata": {},
     "output_type": "execute_result"
    }
   ],
   "source": [
    "vocab(['that', 'football', 'player', 'is', 'going', 'to', 'be', 'the', 'best'])"
   ]
  },
  {
   "cell_type": "markdown",
   "metadata": {},
   "source": [
    "### Alterando 'Category' para valores numéricos"
   ]
  },
  {
   "cell_type": "code",
   "execution_count": 77,
   "metadata": {},
   "outputs": [
    {
     "name": "stderr",
     "output_type": "stream",
     "text": [
      "/tmp/ipykernel_8205/937684725.py:1: FutureWarning: factorize with argument that is not not a Series, Index, ExtensionArray, or np.ndarray is deprecated and will raise in a future version.\n",
      "  categoria_numerico_treino = pd.factorize(dataset['train']['Category'])[0]\n",
      "/tmp/ipykernel_8205/937684725.py:2: FutureWarning: factorize with argument that is not not a Series, Index, ExtensionArray, or np.ndarray is deprecated and will raise in a future version.\n",
      "  categoria_numerico_teste = pd.factorize(dataset['test']['Category'])[0]\n"
     ]
    }
   ],
   "source": [
    "categoria_numerico_treino = pd.factorize(dataset['train']['Category'])[0]\n",
    "categoria_numerico_teste = pd.factorize(dataset['test']['Category'])[0]"
   ]
  },
  {
   "cell_type": "code",
   "execution_count": 78,
   "metadata": {},
   "outputs": [
    {
     "name": "stdout",
     "output_type": "stream",
     "text": [
      "['sports', 'business', 'politics', 'health', 'politics', 'sports']\n"
     ]
    }
   ],
   "source": [
    "print(dataset['train']['Category'][:6])"
   ]
  },
  {
   "cell_type": "code",
   "execution_count": 79,
   "metadata": {},
   "outputs": [
    {
     "name": "stdout",
     "output_type": "stream",
     "text": [
      "[0 1 2 3 2 0]\n"
     ]
    }
   ],
   "source": [
    "print(categoria_numerico_treino[:6])"
   ]
  },
  {
   "cell_type": "code",
   "execution_count": 80,
   "metadata": {},
   "outputs": [
    {
     "name": "stdout",
     "output_type": "stream",
     "text": [
      "['politics', 'politics', 'business', 'health', 'business', 'politics']\n"
     ]
    }
   ],
   "source": [
    "print(dataset['test']['Category'][:6])"
   ]
  },
  {
   "cell_type": "code",
   "execution_count": 81,
   "metadata": {},
   "outputs": [
    {
     "name": "stdout",
     "output_type": "stream",
     "text": [
      "[0 0 1 2 1 0]\n"
     ]
    }
   ],
   "source": [
    "print(categoria_numerico_teste[:6])"
   ]
  },
  {
   "cell_type": "code",
   "execution_count": 82,
   "metadata": {},
   "outputs": [],
   "source": [
    "dataset['train'] = dataset['train'].add_column(name=\"Category_id\", column=categoria_numerico_treino)\n",
    "dataset['test'] = dataset['test'].add_column(name=\"Category_id\", column=categoria_numerico_teste)"
   ]
  },
  {
   "cell_type": "code",
   "execution_count": 83,
   "metadata": {},
   "outputs": [
    {
     "data": {
      "text/plain": [
       "DatasetDict({\n",
       "    train: Dataset({\n",
       "        features: ['Title', 'Excerpt', 'Category', 'tokens', 'Category_id'],\n",
       "        num_rows: 4686\n",
       "    })\n",
       "    test: Dataset({\n",
       "        features: ['Title', 'Excerpt', 'Category', 'tokens', 'Category_id'],\n",
       "        num_rows: 828\n",
       "    })\n",
       "})"
      ]
     },
     "execution_count": 83,
     "metadata": {},
     "output_type": "execute_result"
    }
   ],
   "source": [
    "dataset"
   ]
  },
  {
   "cell_type": "code",
   "execution_count": 84,
   "metadata": {},
   "outputs": [
    {
     "data": {
      "text/plain": [
       "['sports', 'business', 'politics', 'health', 'politics', 'sports']"
      ]
     },
     "execution_count": 84,
     "metadata": {},
     "output_type": "execute_result"
    }
   ],
   "source": [
    "dataset['train']['Category'][:6]"
   ]
  },
  {
   "cell_type": "markdown",
   "metadata": {},
   "source": [
    "### Token to ID"
   ]
  },
  {
   "cell_type": "code",
   "execution_count": 85,
   "metadata": {},
   "outputs": [],
   "source": [
    "def token2id(row):\n",
    "    row['tokens_id'] = vocab(row['tokens'])\n",
    "    return row"
   ]
  },
  {
   "cell_type": "code",
   "execution_count": 86,
   "metadata": {},
   "outputs": [
    {
     "data": {
      "application/vnd.jupyter.widget-view+json": {
       "model_id": "fd5f4099b4064a72b764ece38489e10e",
       "version_major": 2,
       "version_minor": 0
      },
      "text/plain": [
       "Map:   0%|          | 0/4686 [00:00<?, ? examples/s]"
      ]
     },
     "metadata": {},
     "output_type": "display_data"
    },
    {
     "data": {
      "application/vnd.jupyter.widget-view+json": {
       "model_id": "63581a51a27d4623944bbe03f9567334",
       "version_major": 2,
       "version_minor": 0
      },
      "text/plain": [
       "Map:   0%|          | 0/828 [00:00<?, ? examples/s]"
      ]
     },
     "metadata": {},
     "output_type": "display_data"
    }
   ],
   "source": [
    "dataset = dataset.map(token2id)"
   ]
  },
  {
   "cell_type": "code",
   "execution_count": 87,
   "metadata": {},
   "outputs": [
    {
     "name": "stdout",
     "output_type": "stream",
     "text": [
      "['uefa', 'has', 'opened', 'disciplinary', 'proceedings', 'against', 'barcelona', ',', 'juventus', 'and', 'real', 'madrid', 'over', 'their', 'involvement', 'in', 'the', 'proposed', 'european', 'super', 'league', '.']\n"
     ]
    }
   ],
   "source": [
    "print(dataset['train']['tokens'][0])"
   ]
  },
  {
   "cell_type": "code",
   "execution_count": 88,
   "metadata": {},
   "outputs": [
    {
     "name": "stdout",
     "output_type": "stream",
     "text": [
      "[577, 7, 755, 0, 3008, 64, 229, 2, 465, 10, 210, 196, 41, 36, 3633, 6, 1, 572, 178, 123, 50, 9]\n"
     ]
    }
   ],
   "source": [
    "print(dataset['train']['tokens_id'][0])"
   ]
  },
  {
   "cell_type": "code",
   "execution_count": 89,
   "metadata": {},
   "outputs": [
    {
     "name": "stdout",
     "output_type": "stream",
     "text": [
      "[0, 1, 2, 3, 2, 0, 2, 2, 2, 0, 2, 0, 1, 0, 4, 1, 1, 1, 2, 3, 1, 0, 0, 0, 2, 1, 0, 5, 1, 2, 5, 2, 2, 2, 4, 3, 2, 5, 2, 1, 2, 1, 0, 5, 2, 2, 0, 0, 2, 1, 1, 2, 2, 0, 1, 0, 4, 5, 0, 4, 1, 1, 3, 1, 1, 1, 1, 1, 2, 0, 5, 1, 1, 3, 3, 0, 1, 0, 5, 1, 5, 1, 2, 1, 1, 2, 2, 4, 0, 5, 0, 1, 1, 1, 4, 0, 2, 0, 3, 2, 1, 3, 0, 5, 5, 1, 2, 0, 1, 2, 2, 1, 4, 4, 2, 1, 3, 1, 0, 0, 0, 1, 1, 0, 0, 2, 2, 1, 1, 0, 1, 1, 2, 3, 0, 2, 0, 3, 1, 0, 2, 3, 4, 3, 1, 1, 0, 3, 1, 2, 0, 3, 2, 1, 2, 2, 0, 0, 3, 2, 1, 0, 0, 3, 3, 5, 2, 0, 3, 1, 1, 1, 2, 3, 3, 1, 1, 2, 0, 0, 2, 1, 3, 1, 1, 1, 1, 4, 3, 5, 4, 1, 0, 3, 1, 5, 0, 3, 1, 4, 0, 1, 2, 3, 2, 3, 3, 0, 5, 1, 3, 3, 1, 4, 0, 1, 1, 1, 2, 1, 1, 4, 1, 1, 0, 0, 2, 0, 1, 0, 0, 1, 3, 1, 2, 1, 3, 0, 1, 2, 0, 0, 3, 1, 4, 4, 0, 0, 0, 2, 4, 1, 2, 1, 2, 3, 0, 2, 1, 1, 1, 5, 3, 2, 2, 3, 0, 1, 2, 2, 2, 0, 0, 1, 1, 2, 1, 0, 5, 1, 1, 2, 5, 3, 0, 2, 2, 0, 0, 0, 0, 1, 2, 2, 1, 5, 0, 0, 4, 3, 3, 0, 1, 3, 2, 2, 1, 0, 2, 0, 5, 3, 1, 0, 3, 0, 0, 0, 0, 0, 3, 3, 3, 0, 3, 3, 0, 0, 2, 1, 5, 2, 1, 0, 1, 0, 3, 5, 0, 0, 4, 0, 1, 0, 3, 1, 1, 3, 0, 0, 4, 2, 2, 2, 2, 3, 1, 2, 0, 0, 4, 1, 0, 1, 1, 4, 3, 5, 2, 3, 1, 2, 2, 1, 0, 5, 2, 0, 0, 2, 1, 1, 5, 0, 2, 1, 0, 3, 3, 3, 1, 1, 0, 2, 0, 2, 1, 1, 0, 0, 0, 1, 2, 2, 3, 4, 0, 3, 2, 1, 0, 3, 2, 3, 5, 2, 1, 1, 3, 1, 3, 3, 1, 5, 0, 0, 2, 5, 0, 3, 1, 2, 0, 5, 2, 0, 0, 5, 1, 1, 5, 0, 1, 1, 4, 2, 2, 3, 2, 2, 5, 0, 3, 0, 1, 2, 4, 1, 2, 1, 2, 0, 2, 1, 0, 3, 2, 1, 1, 0, 1, 0, 2, 3, 3, 1, 0, 0, 0, 0, 1, 2, 5, 1, 2, 2, 1, 0, 3, 2, 0, 3, 2, 1, 2, 3, 2, 2, 1, 5, 1, 5, 3, 0, 5, 2, 2, 2, 0, 1, 4, 2, 3, 1, 4, 4, 2, 2, 0, 1, 4, 1, 2, 1, 3, 0, 2, 3, 2, 5, 2, 1, 1, 0, 2, 0, 0, 0, 1, 0, 2, 0, 4, 0, 0, 0, 0, 2, 0, 1, 0, 1, 0, 3, 1, 0, 2, 2, 4, 3, 0, 1, 0, 1, 3, 2, 4, 0, 0, 3, 4, 1, 0, 1, 3, 3, 0, 5, 0, 3, 1, 0, 1, 1, 1, 2, 2, 1, 1, 1, 1, 1, 1, 2, 2, 3, 0, 0, 0, 4, 5, 2, 1, 2, 1, 1, 2, 2, 2, 1, 0, 5, 0, 0, 3, 1, 5, 0, 0, 0, 1, 3, 1, 2, 0, 3, 2, 1, 0, 3, 3, 0, 2, 1, 1, 2, 3, 1, 0, 2, 1, 2, 2, 0, 1, 4, 0, 5, 3, 0, 0, 0, 0, 1, 1, 3, 0, 0, 1, 0, 2, 2, 2, 0, 2, 3, 2, 1, 2, 0, 1, 2, 3, 0, 2, 1, 3, 4, 2, 3, 0, 2, 0, 1, 2, 1, 1, 3, 2, 0, 1, 2, 0, 0, 2, 0, 3, 1, 1, 0, 1, 5, 1, 0, 1, 2, 3, 2, 1, 0, 2, 2, 3, 2, 2, 2, 2, 1, 3, 1, 3, 2, 1, 2, 4, 1, 1, 1, 0, 0, 0, 1, 1, 0, 3, 1, 2, 5, 2, 0, 0, 3, 0, 0, 0, 2, 1, 1, 2, 2, 1, 2, 2, 5, 0, 0, 1, 0, 2, 4, 2, 4, 1, 0, 0, 0, 5, 1, 3, 4, 2, 2, 2, 1, 2, 1, 2, 0, 2, 2, 1, 1, 5, 2, 1, 0, 0, 4, 2, 1, 1, 2, 2, 1, 0, 5, 0, 2, 0, 0, 2, 2, 0, 0, 1, 1, 2, 4, 0, 2, 5, 5, 0, 1, 1, 0, 1, 0, 1, 1, 1, 1, 0, 5, 2, 2, 1, 0, 1, 0, 1, 0, 0, 5, 1, 1, 1, 5, 5, 3, 2, 2, 2, 2, 2, 4, 1, 4, 3, 2, 0, 1, 3, 1, 2, 1, 0, 5, 1, 1, 5, 0, 2, 2, 2, 0, 0, 2, 3, 4, 0, 1, 0, 3, 5, 0, 0, 1, 4, 0, 3, 2, 5, 5, 2, 4, 2, 1, 1, 1, 2, 5, 0, 2, 0, 2, 2, 4, 3, 0, 2, 2, 5, 3, 1, 0, 2, 0, 2, 0, 2, 0, 1, 0, 0, 1, 0, 1, 3, 0, 5, 2, 2, 2, 3, 3, 1, 0, 5, 2, 3, 1, 1, 2, 0, 1, 0, 5, 2, 0, 2, 2, 2, 5, 1, 1, 2, 1, 2, 1, 3, 3, 1, 2, 1, 5, 1, 4, 2, 5, 3, 0, 2, 2, 1, 1, 1, 0, 2, 3, 2, 2, 1, 0, 0, 3, 1, 1, 1, 4, 2, 2, 2, 1, 3, 0, 2, 1, 1, 2, 1, 3, 4, 1, 0, 5, 2, 2, 2, 2, 0, 3, 1, 0, 0, 3, 2, 0, 0, 0, 1, 2, 1, 1, 2, 1, 3, 0, 2, 0, 1, 3, 1, 3, 5, 3, 2, 0, 4, 1, 2, 2, 2, 4, 1, 0, 0, 1, 3, 0, 2, 3, 5, 3, 3, 0, 0, 1, 4, 1, 2, 1, 1, 2, 2, 4, 4, 1, 1, 3, 1, 2, 5, 5, 1, 1, 4, 1, 0, 2, 2, 2, 1, 2, 2, 1, 5, 3, 1, 0, 1, 1, 3, 5, 4, 3, 1, 2, 0, 2, 0, 2, 0, 0, 3, 3, 2, 2, 2, 3, 2, 2, 1, 2, 0, 0, 1, 1, 5, 0, 5, 1, 1, 1, 0, 4, 1, 4, 0, 1, 5, 2, 1, 3, 1, 0, 0, 1, 0, 0, 0, 2, 1, 3, 3, 3, 2, 3, 1, 0, 1, 1, 3, 5, 1, 3, 3, 2, 1, 1, 2, 0, 4, 0, 1, 1, 3, 0, 4, 0, 0, 1, 1, 3, 3, 1, 1, 3, 0, 1, 2, 0, 0, 2, 0, 0, 0, 2, 2, 3, 0, 0, 0, 3, 0, 5, 1, 4, 5, 0, 4, 1, 0, 0, 1, 0, 1, 0, 3, 3, 0, 0, 2, 1, 1, 3, 2, 0, 2, 0, 4, 5, 0, 3, 4, 2, 2, 1, 1, 2, 3, 2, 0, 1, 2, 5, 1, 3, 1, 2, 0, 1, 1, 0, 1, 2, 4, 1, 0, 2, 2, 0, 0, 1, 4, 1, 4, 0, 0, 5, 1, 0, 5, 5, 4, 1, 3, 1, 5, 0, 1, 1, 2, 1, 1, 2, 2, 1, 0, 5, 1, 5, 3, 2, 2, 1, 2, 0, 2, 1, 2, 1, 0, 0, 2, 2, 0, 4, 0, 0, 5, 0, 0, 3, 5, 1, 1, 1, 2, 3, 2, 2, 0, 0, 2, 2, 3, 4, 0, 3, 0, 1, 0, 5, 0, 5, 1, 0, 3, 1, 2, 3, 1, 0, 4, 0, 0, 0, 1, 5, 1, 0, 3, 1, 1, 3, 0, 0, 2, 2, 5, 2, 2, 3, 1, 1, 4, 1, 1, 0, 3, 0, 2, 1, 5, 0, 0, 0, 2, 4, 1, 3, 5, 0, 1, 2, 2, 2, 0, 3, 0, 1, 0, 0, 2, 5, 2, 3, 1, 2, 1, 0, 2, 2, 3, 1, 2, 2, 1, 2, 2, 5, 5, 1, 2, 1, 1, 2, 2, 0, 3, 0, 1, 3, 1, 2, 2, 2, 2, 0, 2, 2, 2, 0, 4, 5, 1, 2, 1, 1, 2, 1, 0, 2, 3, 2, 1, 2, 0, 2, 3, 1, 1, 5, 1, 2, 4, 1, 0, 2, 1, 0, 5, 5, 3, 2, 0, 1, 4, 1, 0, 0, 1, 0, 2, 2, 0, 4, 2, 0, 3, 2, 1, 0, 1, 0, 3, 1, 1, 0, 1, 3, 3, 0, 4, 3, 0, 2, 3, 5, 2, 2, 0, 1, 5, 1, 0, 1, 5, 1, 1, 0, 1, 1, 4, 2, 2, 2, 1, 4, 1, 1, 2, 5, 1, 1, 2, 0, 0, 0, 2, 2, 5, 1, 0, 2, 1, 5, 0, 1, 1, 2, 1, 3, 0, 1, 0, 1, 0, 2, 4, 1, 2, 0, 2, 3, 3, 1, 0, 3, 5, 0, 2, 2, 1, 0, 5, 5, 3, 5, 1, 3, 2, 4, 3, 4, 1, 0, 2, 1, 1, 2, 1, 1, 4, 0, 0, 2, 2, 1, 0, 1, 0, 4, 1, 1, 1, 3, 1, 5, 2, 1, 2, 1, 3, 2, 1, 1, 3, 5, 5, 0, 2, 0, 1, 4, 0, 3, 1, 2, 1, 1, 1, 0, 1, 5, 0, 1, 2, 2, 0, 0, 1, 1, 4, 2, 1, 2, 1, 5, 2, 2, 3, 0, 0, 4, 2, 1, 5, 0, 1, 2, 1, 5, 1, 0, 2, 3, 3, 1, 3, 3, 1, 2, 3, 5, 0, 2, 2, 5, 4, 1, 1, 2, 0, 2, 2, 2, 3, 0, 3, 0, 1, 2, 0, 1, 2, 2, 4, 3, 0, 5, 5, 2, 0, 3, 3, 3, 2, 3, 0, 3, 2, 3, 0, 1, 1, 5, 1, 1, 0, 2, 5, 5, 4, 0, 0, 1, 0, 0, 1, 1, 2, 5, 4, 2, 2, 0, 3, 5, 4, 3, 5, 2, 0, 0, 0, 1, 1, 1, 0, 1, 3, 0, 1, 5, 3, 2, 2, 1, 3, 4, 4, 3, 4, 0, 1, 1, 0, 1, 2, 4, 1, 2, 1, 2, 5, 3, 2, 1, 2, 4, 3, 0, 0, 3, 0, 0, 0, 4, 1, 1, 1, 1, 1, 3, 0, 0, 0, 1, 2, 1, 0, 0, 1, 3, 1, 0, 0, 3, 1, 0, 1, 0, 5, 1, 1, 4, 3, 0, 2, 5, 4, 2, 0, 2, 1, 2, 1, 0, 1, 4, 2, 1, 3, 5, 3, 0, 0, 0, 1, 5, 0, 0, 3, 1, 2, 0, 2, 2, 0, 5, 3, 2, 4, 1, 1, 0, 1, 1, 0, 0, 0, 0, 0, 0, 3, 1, 3, 1, 2, 3, 1, 1, 2, 2, 3, 0, 0, 0, 0, 2, 2, 2, 0, 0, 1, 4, 2, 5, 4, 0, 1, 4, 3, 1, 2, 1, 2, 0, 1, 2, 3, 0, 2, 4, 1, 0, 0, 4, 2, 1, 1, 1, 0, 3, 2, 3, 2, 5, 0, 2, 0, 0, 2, 4, 3, 1, 3, 0, 2, 5, 4, 2, 3, 5, 0, 1, 3, 5, 1, 3, 1, 1, 4, 1, 5, 2, 2, 1, 1, 3, 0, 2, 2, 1, 3, 1, 2, 1, 5, 1, 2, 2, 2, 2, 0, 3, 2, 4, 2, 3, 1, 0, 5, 5, 2, 3, 1, 0, 0, 0, 1, 1, 2, 2, 1, 2, 0, 3, 2, 0, 1, 0, 3, 4, 2, 1, 1, 0, 2, 1, 2, 1, 0, 0, 0, 5, 2, 5, 0, 2, 0, 0, 5, 1, 2, 5, 1, 0, 4, 1, 5, 0, 2, 2, 2, 1, 1, 1, 1, 1, 2, 0, 2, 4, 4, 2, 1, 3, 2, 3, 1, 2, 1, 4, 1, 2, 2, 2, 2, 0, 3, 5, 0, 5, 1, 1, 3, 2, 1, 1, 1, 1, 4, 0, 3, 1, 5, 1, 5, 2, 2, 0, 0, 3, 1, 1, 2, 1, 5, 3, 1, 4, 2, 2, 3, 1, 1, 1, 1, 1, 0, 0, 0, 1, 0, 2, 5, 0, 2, 3, 4, 3, 2, 0, 0, 4, 1, 0, 1, 1, 3, 2, 1, 0, 0, 1, 2, 0, 5, 0, 2, 1, 4, 2, 5, 1, 1, 0, 2, 5, 0, 0, 1, 2, 3, 1, 1, 1, 2, 3, 0, 0, 2, 4, 2, 0, 1, 2, 1, 2, 1, 5, 2, 1, 5, 1, 5, 1, 2, 4, 4, 2, 0, 1, 5, 1, 2, 3, 5, 0, 2, 1, 5, 0, 1, 1, 1, 4, 4, 2, 1, 2, 0, 5, 2, 5, 2, 1, 4, 1, 1, 0, 1, 3, 0, 0, 2, 3, 5, 0, 0, 3, 3, 2, 4, 2, 2, 0, 2, 3, 2, 1, 2, 3, 5, 0, 3, 2, 0, 0, 1, 3, 3, 5, 1, 5, 2, 0, 3, 1, 0, 0, 1, 0, 3, 0, 1, 1, 3, 0, 3, 2, 2, 0, 1, 1, 5, 2, 5, 2, 5, 5, 2, 1, 2, 0, 3, 0, 0, 4, 0, 2, 3, 0, 5, 0, 1, 2, 3, 2, 1, 2, 5, 0, 4, 3, 5, 1, 1, 5, 3, 3, 1, 2, 0, 0, 1, 2, 0, 2, 0, 1, 1, 0, 1, 5, 3, 5, 0, 0, 2, 5, 2, 1, 1, 2, 1, 3, 4, 1, 2, 2, 0, 1, 1, 1, 2, 0, 2, 0, 3, 2, 1, 1, 2, 2, 1, 1, 1, 5, 2, 3, 2, 5, 3, 1, 0, 2, 3, 5, 1, 0, 4, 2, 3, 2, 2, 2, 1, 0, 1, 0, 0, 1, 1, 5, 1, 1, 1, 0, 0, 4, 4, 3, 1, 1, 5, 1, 1, 0, 0, 2, 1, 0, 2, 3, 1, 0, 2, 0, 2, 2, 2, 1, 1, 2, 4, 5, 1, 0, 5, 4, 2, 0, 5, 1, 3, 5, 0, 0, 1, 4, 3, 3, 5, 0, 5, 1, 1, 2, 3, 5, 3, 5, 3, 1, 0, 3, 0, 0, 3, 5, 1, 3, 2, 1, 3, 3, 1, 1, 3, 0, 3, 3, 2, 1, 2, 2, 4, 1, 0, 1, 0, 2, 5, 5, 1, 3, 4, 5, 4, 3, 2, 3, 2, 0, 5, 5, 3, 0, 2, 0, 1, 5, 1, 2, 1, 1, 2, 3, 1, 0, 0, 1, 1, 2, 0, 2, 0, 0, 2, 0, 0, 3, 0, 1, 3, 1, 2, 0, 0, 1, 2, 1, 0, 2, 1, 3, 3, 4, 0, 0, 1, 1, 2, 0, 0, 1, 1, 2, 1, 1, 2, 5, 5, 2, 5, 4, 2, 0, 5, 0, 1, 5, 0, 3, 2, 0, 1, 4, 3, 2, 1, 1, 1, 1, 0, 1, 3, 1, 1, 3, 2, 0, 1, 1, 1, 2, 1, 3, 1, 2, 5, 5, 0, 4, 2, 2, 0, 2, 3, 0, 2, 1, 0, 0, 2, 2, 3, 4, 3, 2, 1, 0, 0, 1, 2, 0, 1, 1, 2, 2, 2, 1, 0, 3, 0, 1, 1, 2, 1, 0, 1, 0, 4, 0, 2, 4, 3, 0, 2, 0, 1, 0, 2, 1, 3, 1, 2, 0, 3, 1, 1, 2, 1, 5, 0, 3, 1, 2, 0, 2, 1, 2, 0, 3, 2, 2, 1, 1, 0, 2, 1, 1, 5, 0, 5, 1, 4, 3, 2, 4, 2, 2, 5, 0, 0, 0, 4, 2, 3, 3, 2, 0, 0, 1, 1, 2, 2, 5, 2, 0, 0, 3, 2, 0, 2, 0, 1, 4, 0, 2, 4, 1, 3, 2, 3, 2, 1, 1, 2, 5, 1, 1, 3, 2, 1, 1, 5, 1, 2, 3, 1, 0, 5, 0, 4, 0, 1, 1, 2, 1, 0, 2, 2, 0, 5, 0, 1, 4, 0, 0, 1, 0, 0, 2, 0, 2, 0, 0, 1, 0, 2, 1, 2, 0, 1, 2, 2, 1, 0, 1, 5, 1, 0, 2, 0, 1, 3, 1, 0, 1, 2, 0, 5, 4, 4, 1, 0, 2, 1, 5, 1, 0, 0, 4, 5, 4, 1, 0, 1, 1, 0, 1, 1, 3, 1, 2, 3, 2, 1, 0, 1, 3, 0, 0, 0, 2, 0, 0, 0, 1, 0, 2, 1, 5, 3, 2, 2, 5, 3, 4, 0, 2, 1, 2, 2, 1, 1, 0, 2, 2, 2, 2, 2, 0, 2, 1, 2, 5, 2, 1, 2, 1, 5, 0, 2, 3, 2, 2, 3, 1, 5, 1, 1, 3, 5, 5, 2, 0, 0, 3, 1, 0, 2, 3, 1, 1, 1, 4, 0, 2, 1, 2, 2, 2, 2, 2, 1, 0, 3, 1, 3, 0, 0, 3, 4, 2, 5, 4, 1, 2, 0, 4, 1, 1, 1, 1, 2, 2, 3, 1, 3, 0, 2, 3, 0, 2, 2, 1, 3, 2, 2, 5, 0, 2, 1, 5, 5, 1, 0, 1, 0, 0, 1, 1, 1, 1, 2, 2, 1, 3, 1, 1, 0, 2, 5, 2, 1, 2, 5, 1, 5, 0, 3, 0, 0, 0, 2, 0, 3, 3, 1, 1, 0, 1, 1, 1, 1, 4, 0, 4, 0, 2, 5, 1, 3, 4, 2, 3, 2, 1, 0, 1, 2, 1, 1, 2, 1, 0, 0, 5, 0, 0, 0, 3, 1, 3, 5, 2, 1, 2, 4, 4, 3, 0, 3, 0, 2, 2, 1, 1, 1, 1, 1, 1, 2, 1, 2, 0, 1, 5, 5, 0, 2, 1, 1, 5, 1, 1, 1, 0, 3, 2, 1, 0, 2, 1, 0, 2, 5, 1, 2, 1, 4, 0, 1, 1, 1, 3, 3, 0, 1, 4, 2, 3, 1, 2, 3, 5, 5, 1, 2, 3, 0, 1, 1, 2, 1, 2, 0, 1, 2, 5, 2, 0, 2, 1, 3, 0, 2, 0, 1, 1, 2, 1, 0, 1, 2, 2, 1, 1, 0, 1, 0, 0, 2, 0, 1, 1, 1, 2, 1, 0, 2, 0, 0, 0, 2, 0, 1, 0, 1, 3, 1, 4, 3, 5, 2, 1, 5, 1, 0, 0, 5, 0, 1, 1, 0, 2, 3, 1, 5, 0, 1, 1, 0, 3, 2, 2, 4, 2, 0, 0, 1, 4, 1, 1, 1, 0, 0, 1, 0, 1, 0, 5, 4, 2, 3, 1, 2, 1, 1, 0, 2, 2, 2, 0, 2, 1, 1, 1, 5, 2, 0, 2, 2, 2, 0, 0, 0, 0, 1, 2, 4, 0, 0, 5, 1, 1, 0, 4, 2, 2, 1, 1, 2, 1, 3, 1, 2, 0, 3, 1, 1, 1, 0, 1, 0, 0, 1, 5, 1, 1, 2, 0, 4, 2, 5, 0, 2, 2, 2, 1, 4, 1, 4, 3, 1, 0, 2, 1, 0, 0, 4, 5, 2, 2, 0, 2, 0, 1, 1, 2, 2, 5, 0, 0, 2, 3, 5, 0, 5, 0, 5, 1, 0, 1, 5, 3, 0, 3, 0, 1, 3, 2, 3, 5, 0, 4, 0, 1, 2, 0, 2, 5, 1, 1, 4, 1, 1, 0, 1, 0, 2, 1, 5, 2, 3, 4, 1, 0, 2, 1, 1, 1, 0, 2, 2, 1, 2, 1, 1, 1, 1, 2, 3, 1, 1, 3, 1, 0, 0, 1, 0, 0, 1, 3, 2, 3, 2, 0, 1, 5, 0, 0, 3, 3, 2, 4, 0, 0, 0, 1, 0, 3, 5, 3, 1, 5, 2, 0, 0, 5, 4, 1, 1, 0, 0, 4, 3, 2, 1, 5, 0, 0, 0, 1, 0, 0, 1, 2, 0, 2, 2, 1, 5, 2, 1, 2, 3, 5, 1, 5, 0, 1, 1, 2, 0, 1, 1, 2, 1, 5, 1, 2, 3, 2, 1, 0, 0, 2, 2, 1, 0, 1, 0, 1, 0, 2, 1, 4, 0, 0, 0, 0, 1, 1, 0, 0, 5, 2, 0, 1, 2, 1, 2, 1, 3, 3, 1, 2, 2, 0, 0, 3, 1, 3, 2, 1, 1, 1, 2, 0, 0, 4, 0, 0, 1, 4, 4, 0, 2, 3, 3, 0, 0, 1, 0, 0, 0, 2, 1, 5, 1, 0, 4, 0, 1, 2, 1, 2, 2, 2, 2, 3, 3, 2, 0, 1, 2, 3, 4, 1, 1, 1, 2, 1, 0, 3, 1, 1, 5, 0, 0, 2, 1, 5, 0, 0, 1, 0, 2, 0, 5, 2, 3, 5, 2, 0, 0, 2, 0, 0, 3, 5, 2, 5, 3, 1, 2, 0, 2, 0, 0, 0, 0, 0, 3, 1, 4, 1, 5, 0, 1, 0, 5, 2, 1, 5, 4, 5, 1, 1, 2, 1, 2, 0, 0, 1, 4, 2, 0, 0, 2, 5, 1, 3, 2, 1, 1, 2, 4, 2, 1, 2, 0, 0, 2, 1, 3, 2, 4, 1, 2, 0, 2, 1, 3, 2, 5, 4, 1, 0, 2, 3, 1, 2, 1, 2, 3, 0, 1, 2, 3, 2, 2, 3, 5, 2, 0, 1, 1, 1, 1, 0, 3, 2, 1, 0, 1, 0, 4, 0, 0, 2, 3, 4, 0, 5, 2, 0, 3, 4, 0, 0, 2, 3, 5, 0, 0, 3, 1, 0, 2, 4, 0, 1, 0, 1, 4, 5, 3, 2, 1, 1, 2, 2, 1, 0, 0, 2, 2, 5, 3, 0, 0, 0, 1, 2, 1, 2, 1, 2, 4, 0, 1, 1, 1, 2, 4, 1, 2, 1, 2, 0, 2, 1, 1, 2, 0, 2, 0, 0, 0, 2, 3, 0, 1, 0, 5, 1, 2, 0, 3, 1, 1, 0, 0, 0, 2, 1, 1, 3, 3, 3, 1, 3, 0, 0, 2, 0, 1, 3, 1, 1, 2, 0, 2, 2, 2, 3, 1, 2, 0, 2, 1, 3, 2, 2, 2, 3, 0, 2, 2, 2, 2, 0, 0, 2, 3, 2, 3, 4, 2, 5, 1, 1, 4, 3, 0, 0, 0, 4, 1, 1, 1, 0, 1, 2, 0, 0, 1, 1, 4, 2, 5, 2, 5, 2, 3, 4, 4, 1, 2, 2, 1, 1, 4, 0, 2, 2, 1, 3, 2, 0, 1, 1, 2, 0, 1, 2, 1, 1, 1, 2, 1, 2, 1, 2, 2, 3, 4, 0, 2, 0, 1, 0, 2, 3, 1, 0, 1, 2, 4, 2, 3, 4, 1, 1, 0, 4, 2, 2, 1, 4, 2, 3, 2, 0, 2, 1, 2, 3, 2, 0, 2, 3, 0, 4, 0, 1, 1, 1, 2, 1, 5, 4, 1, 2, 0, 2, 5, 3, 4, 2, 2, 5, 0, 3, 0, 1, 0, 1, 2, 1, 0, 1, 0, 1, 1, 0, 5, 1, 0, 1, 0, 2, 1, 5, 3, 2, 0, 2, 2, 0, 0, 0, 3, 5, 3, 2, 0, 2, 4, 3, 4, 2, 1, 2, 1, 1, 0, 1, 2, 5, 5, 1, 2, 4, 3, 0, 1, 1, 2, 3, 1, 2, 1, 0, 1, 1, 1, 1, 1, 4, 1, 3, 2, 2, 1, 0, 3, 0, 0, 1, 2, 3, 5, 1, 5, 2, 0, 0, 1, 0, 1, 3, 2, 2, 5, 3, 4, 0, 2, 4, 0, 0, 1, 1, 3, 1, 2, 2, 2, 5, 2, 2, 5, 1, 0, 2, 0, 4, 2, 0, 2, 0, 3, 0, 4, 4, 3, 4, 2, 5, 2, 5, 2, 0, 2, 2, 0, 2, 0, 4, 5, 3, 1, 2, 1, 2, 4, 1, 0, 1, 2, 2, 2, 2, 0, 0, 4, 1, 1, 0, 2, 0, 4, 2, 0, 4, 1, 5, 0, 2, 2, 0, 1, 3, 1, 4, 2, 0, 5, 3, 2, 1, 2, 0, 1, 4, 1, 1, 0, 1, 1, 2, 1, 0, 0, 5, 3, 3, 1, 5, 1, 0, 4, 0, 2, 1, 0, 0, 0, 2, 2, 1, 2, 2, 0, 2, 5, 4, 1, 0, 0, 0, 2, 0, 1, 2, 3, 2, 1, 5, 0, 5, 1, 0, 1, 1, 5, 3, 4, 3, 2, 5, 5, 0, 0, 2, 1, 3, 3, 2, 5, 2, 1, 0, 3, 5, 1, 1, 0, 4, 4, 1, 0, 1, 3, 0, 2, 5, 4, 2, 0, 1, 1, 2, 1, 5, 1, 1, 2, 0, 4, 2, 5, 1, 0, 0, 2, 3, 0, 5, 1, 0, 3, 1, 1, 0, 1, 0, 4, 3, 1, 1, 0, 1, 5, 0, 2, 2, 0, 0, 2, 2, 2, 4, 0, 4, 0, 2, 0, 1, 0, 2, 1, 1, 2, 0, 5, 5, 3, 4, 0, 1, 1, 2, 2, 5, 2, 2, 0, 2, 0, 5, 1, 5, 3, 1, 1, 2, 2, 2, 0, 5, 0, 1, 1, 2, 2, 2, 0, 1, 1, 0, 2, 1, 0, 0, 1, 3, 3, 5, 4, 1, 3, 2, 1, 1, 0, 1, 0, 1, 0, 2, 2, 1, 1, 2, 2, 0, 0, 1, 3, 1, 0, 1, 1, 0, 5, 2, 0, 1, 1, 3, 2, 4, 3, 1, 1, 2, 0, 3, 1, 1, 0, 3, 2, 0, 3, 2, 1, 3, 0, 0, 0, 0, 3, 2, 1, 4, 1, 4, 1, 5, 2, 3, 4, 1, 2, 2, 0, 4, 1, 5, 0, 4, 1, 4, 5, 0, 0, 2, 3, 2, 4, 5, 2, 2, 2, 1, 1, 2, 2, 3, 3, 0, 0, 0, 1, 1, 5, 0, 0, 1, 3, 0, 0, 3, 2, 0, 2, 4, 5, 2, 4, 1, 0, 1, 5, 0, 2, 1, 1, 2, 2, 2, 2, 5, 1, 3, 0, 3, 4, 0, 2, 2, 4, 0, 1, 0, 0, 0, 3, 2, 1, 3, 0, 2, 3, 0, 1, 2, 1, 1, 1, 4, 0, 4, 2, 0, 5, 0, 2, 1, 3, 1, 2, 2, 0, 1, 2, 5, 0, 2, 3, 4, 1, 2, 4, 5, 0, 0, 2, 1, 0, 5, 3, 3, 0, 1, 0, 0, 2, 5, 1, 5, 2, 5, 4, 3, 0, 0, 5, 1, 3, 1, 0, 3, 0, 2, 2, 1, 3, 0, 1, 3, 0, 1, 2, 2, 1, 0, 2, 0, 1, 1, 2, 3, 3, 1, 0, 1, 0, 0, 5, 0, 4, 2, 2, 0, 1, 1, 3, 0, 1, 1, 5, 4, 0, 5, 2, 2, 2, 5, 3, 2, 5, 2, 1, 1, 1, 3, 3, 1, 2, 1, 1, 0, 1, 2, 3, 4, 1, 5, 3, 1, 1, 4, 1, 0, 1, 1, 5, 3, 2, 0, 1, 1, 2, 0, 3, 0, 2, 4, 1, 2, 1, 5, 0, 1, 3, 5, 0, 0, 4, 0, 2, 1, 0, 4, 5, 1, 3, 1, 2, 0, 1, 0, 0, 3, 5, 1, 1, 1, 1, 5, 1, 1, 2, 1, 0, 4, 1, 5, 4, 1, 0, 3, 0, 2, 1, 1, 1, 2, 1, 2, 2, 3, 2, 1, 4, 1, 0, 2, 2, 1, 1, 1, 1, 0, 1, 2, 0, 2, 1, 1, 0, 3, 0, 0, 1, 1, 5, 3, 1, 0, 0, 3, 0, 3, 3, 0, 0, 0, 1, 1, 3, 0, 5, 4, 1, 3, 1, 2, 5, 0, 4, 2, 2, 4, 2, 3, 0, 0, 2, 0, 0, 1, 1, 0, 1, 0, 1, 2, 3, 0, 2, 0, 3, 3, 3, 5, 0, 1, 1, 0, 1, 2, 0, 5, 2, 0, 2, 3, 0, 1, 0, 1, 3, 0, 2, 3, 5, 0, 2, 0, 5, 0, 1, 5, 2, 3, 0, 0, 5, 1, 2, 0, 1, 0, 2, 0, 4, 1, 5, 1, 0, 2, 1, 1, 0, 3, 1, 1, 0, 0, 2, 2, 1, 2, 0, 3, 0, 2, 2, 5, 0, 1, 1, 1, 0, 0, 2, 1, 2, 4, 2, 2, 3, 0, 4, 2, 0, 3, 2, 2, 0, 2, 1, 3, 2, 1, 3, 5, 0, 4, 0, 0, 2, 3, 1, 0, 3, 0, 2, 4, 2, 4, 1, 1, 5, 4, 2, 1, 5, 5, 1, 1, 1, 1]\n"
     ]
    }
   ],
   "source": [
    "print(dataset['train']['Category_id'])"
   ]
  },
  {
   "cell_type": "code",
   "execution_count": 90,
   "metadata": {},
   "outputs": [
    {
     "data": {
      "text/plain": [
       "DatasetDict({\n",
       "    train: Dataset({\n",
       "        features: ['Title', 'Excerpt', 'Category', 'tokens', 'Category_id', 'tokens_id'],\n",
       "        num_rows: 4686\n",
       "    })\n",
       "    test: Dataset({\n",
       "        features: ['Title', 'Excerpt', 'Category', 'tokens', 'Category_id', 'tokens_id'],\n",
       "        num_rows: 828\n",
       "    })\n",
       "})"
      ]
     },
     "execution_count": 90,
     "metadata": {},
     "output_type": "execute_result"
    }
   ],
   "source": [
    "dataset"
   ]
  },
  {
   "cell_type": "code",
   "execution_count": 91,
   "metadata": {},
   "outputs": [
    {
     "data": {
      "text/plain": [
       "(4686, 6)"
      ]
     },
     "execution_count": 91,
     "metadata": {},
     "output_type": "execute_result"
    }
   ],
   "source": [
    "dataset['train'].shape"
   ]
  },
  {
   "cell_type": "markdown",
   "metadata": {},
   "source": [
    "### Dataloader"
   ]
  },
  {
   "cell_type": "code",
   "execution_count": 92,
   "metadata": {},
   "outputs": [],
   "source": [
    "class NEWSDataset(Dataset):\n",
    "  def __init__(self, dataset):\n",
    "    self.data = dataset['tokens_id']\n",
    "    self.labels = dataset['Category_id']\n",
    "\n",
    "  def __len__(self):\n",
    "    return len(self.data)\n",
    "\n",
    "  def __getitem__(self, x):\n",
    "    return torch.tensor(self.data[x]), torch.tensor(self.labels[x])"
   ]
  },
  {
   "cell_type": "code",
   "execution_count": 93,
   "metadata": {},
   "outputs": [],
   "source": [
    "dataset_news = NEWSDataset(dataset['train'])"
   ]
  },
  {
   "cell_type": "code",
   "execution_count": 94,
   "metadata": {},
   "outputs": [
    {
     "data": {
      "text/plain": [
       "(torch.Size([22]), torch.Size([]))"
      ]
     },
     "execution_count": 94,
     "metadata": {},
     "output_type": "execute_result"
    }
   ],
   "source": [
    "dataset_news[0][0].shape, dataset_news[0][1].shape"
   ]
  },
  {
   "cell_type": "code",
   "execution_count": 95,
   "metadata": {},
   "outputs": [],
   "source": [
    "embed_len = 32\n",
    "hidden_dim = 16\n",
    "n_layers = 1\n",
    "n_classes = len(list(set(dataset['train']['Category'])))\n",
    "\n",
    "class NewsClassifier(nn.Module):\n",
    "  def __init__(self):\n",
    "    super(NewsClassifier, self).__init__()\n",
    "\n",
    "    ## embedding 4686x32\n",
    "    self.embedding_layer = nn.Embedding(num_embeddings=len(vocab_custom),embedding_dim=embed_len)\n",
    "    ## rnn 32x16\n",
    "    self.rnn = nn.RNN(input_size=embed_len, hidden_size=hidden_dim, num_layers=n_layers)\n",
    "    ## linear 16x6\n",
    "    self.linear = nn.Linear(hidden_dim, n_classes)\n",
    "    self.softmax = nn.Softmax(dim=0)\n",
    "\n",
    "  def forward(self, input):\n",
    "    embeddings = self.embedding_layer(input)\n",
    "    final_hidden = self.rnn(embeddings)\n",
    "    return self.softmax(self.linear(final_hidden[0]))\n",
    "  \n",
    "model = NewsClassifier()"
   ]
  },
  {
   "cell_type": "code",
   "execution_count": 96,
   "metadata": {},
   "outputs": [
    {
     "name": "stdout",
     "output_type": "stream",
     "text": [
      "[577, 7, 755, 0, 3008, 64, 229, 2, 465, 10, 210, 196, 41, 36, 3633, 6, 1, 572, 178, 123, 50, 9]\n"
     ]
    }
   ],
   "source": [
    "print(dataset['train']['tokens_id'][0])"
   ]
  },
  {
   "cell_type": "code",
   "execution_count": 97,
   "metadata": {},
   "outputs": [
    {
     "data": {
      "text/plain": [
       "22"
      ]
     },
     "execution_count": 97,
     "metadata": {},
     "output_type": "execute_result"
    }
   ],
   "source": [
    "len(dataset['train']['tokens_id'][0])"
   ]
  },
  {
   "cell_type": "code",
   "execution_count": 98,
   "metadata": {},
   "outputs": [
    {
     "data": {
      "text/plain": [
       "tensor([[0.0457, 0.0509, 0.0354, 0.0645, 0.0495, 0.0569],\n",
       "        [0.0405, 0.0552, 0.0367, 0.0438, 0.0561, 0.0475],\n",
       "        [0.0634, 0.0320, 0.0600, 0.0377, 0.0419, 0.0714],\n",
       "        [0.0479, 0.0149, 0.0367, 0.0563, 0.0612, 0.0407],\n",
       "        [0.0219, 0.0363, 0.0512, 0.0643, 0.0470, 0.0325],\n",
       "        [0.0464, 0.0376, 0.0362, 0.0690, 0.0296, 0.0443],\n",
       "        [0.0485, 0.0274, 0.0620, 0.0512, 0.0302, 0.0962],\n",
       "        [0.0683, 0.0611, 0.0387, 0.0423, 0.0640, 0.0277],\n",
       "        [0.0529, 0.0905, 0.0410, 0.0365, 0.0331, 0.0386],\n",
       "        [0.0478, 0.0345, 0.0487, 0.0339, 0.0548, 0.0392],\n",
       "        [0.0393, 0.0383, 0.0250, 0.0332, 0.0437, 0.0450],\n",
       "        [0.0424, 0.0857, 0.0436, 0.0550, 0.0346, 0.0356],\n",
       "        [0.0618, 0.0474, 0.0338, 0.0590, 0.0742, 0.0236],\n",
       "        [0.0371, 0.0336, 0.0830, 0.0322, 0.0420, 0.0582],\n",
       "        [0.0574, 0.0646, 0.0428, 0.0386, 0.0591, 0.0225],\n",
       "        [0.0322, 0.0925, 0.0268, 0.0682, 0.0333, 0.0478],\n",
       "        [0.0369, 0.0251, 0.0514, 0.0479, 0.0435, 0.0528],\n",
       "        [0.0582, 0.0463, 0.0524, 0.0375, 0.0398, 0.0474],\n",
       "        [0.0238, 0.0286, 0.0309, 0.0486, 0.0460, 0.0278],\n",
       "        [0.0473, 0.0267, 0.0778, 0.0190, 0.0368, 0.0621],\n",
       "        [0.0427, 0.0458, 0.0303, 0.0365, 0.0521, 0.0267],\n",
       "        [0.0376, 0.0251, 0.0554, 0.0247, 0.0274, 0.0554]],\n",
       "       grad_fn=<SoftmaxBackward0>)"
      ]
     },
     "execution_count": 98,
     "metadata": {},
     "output_type": "execute_result"
    }
   ],
   "source": [
    "model(torch.tensor(dataset['train']['tokens_id'][0]))"
   ]
  },
  {
   "cell_type": "code",
   "execution_count": 99,
   "metadata": {},
   "outputs": [
    {
     "data": {
      "text/plain": [
       "NewsClassifier(\n",
       "  (embedding_layer): Embedding(4137, 32)\n",
       "  (rnn): RNN(32, 16)\n",
       "  (linear): Linear(in_features=16, out_features=6, bias=True)\n",
       "  (softmax): Softmax(dim=0)\n",
       ")"
      ]
     },
     "execution_count": 99,
     "metadata": {},
     "output_type": "execute_result"
    }
   ],
   "source": [
    "device = (\"cuda\" if torch.cuda.is_available() else \"mps\" if torch.backends.mps.is_available() else \"cpu\")\n",
    "model.to(device)"
   ]
  },
  {
   "cell_type": "code",
   "execution_count": 100,
   "metadata": {},
   "outputs": [],
   "source": [
    "LR = 1e-3\n",
    "EPOCHS = 5\n",
    "loss_fn = nn.BCELoss()\n",
    "optimizer = torch.optim.Adam(model.parameters(), lr=LR)"
   ]
  },
  {
   "cell_type": "code",
   "execution_count": 101,
   "metadata": {},
   "outputs": [],
   "source": [
    "from tqdm.notebook import tqdm"
   ]
  },
  {
   "cell_type": "code",
   "execution_count": 102,
   "metadata": {},
   "outputs": [],
   "source": [
    "def train(dataloader):\n",
    "    size = len(dataloader.dataset)\n",
    "    train_loss = 0\n",
    "\n",
    "    for batch, (data, label) in enumerate(dataloader):\n",
    "        data, label = data.to(device), label.to(device)\n",
    "        optimizer.zero_grad()\n",
    "        out = model(data[0])\n",
    "        label_tensor = torch.tensor(label).to(device).squeeze()\n",
    "\n",
    "        loss = loss_fn(out, label_tensor) \n",
    "\n",
    "        loss.backward()\n",
    "        optimizer.step()\n",
    "\n",
    "        train_loss += loss.item()\n",
    "\n",
    "        if batch % 1000 == 0:\n",
    "            current = batch * len(data)\n",
    "            print(f' loss: {loss.item():>7f}  [{current:>5d}/{size:>5d}]')\n",
    "\n",
    "    train_loss /= size\n",
    "    return train_loss"
   ]
  },
  {
   "cell_type": "code",
   "execution_count": 103,
   "metadata": {},
   "outputs": [],
   "source": [
    "dataloader_train = DataLoader(NEWSDataset(dataset['train']), shuffle=True)\n"
   ]
  },
  {
   "cell_type": "code",
   "execution_count": 104,
   "metadata": {},
   "outputs": [],
   "source": [
    "def test(dataloader):\n",
    "    size = len(dataloader.dataset)\n",
    "    test_loss = 0\n",
    "    correct = 0\n",
    "\n",
    "    with torch.no_grad():\n",
    "        for data, label in tqdm(dataloader):\n",
    "            data, label = data.to(device), label.to(device)\n",
    "            out = model(data[0])\n",
    "            label_tensor = torch.tensor(label).to(device).squeeze()\n",
    "\n",
    "            loss = loss_fn(out, label_tensor)\n",
    "\n",
    "            test_loss += loss.item()\n",
    "            _, predicted = torch.max(out, 0)\n",
    "            correct += (predicted == label_tensor).sum().item()\n",
    "\n",
    "    test_loss /= size\n",
    "    accuracy = correct / size\n",
    "\n",
    "    print(f' test accuracy: {(100 * accuracy):>0.1f}%, test loss: {test_loss:>8f} ')\n",
    "\n",
    "    return test_loss"
   ]
  },
  {
   "cell_type": "code",
   "execution_count": 105,
   "metadata": {},
   "outputs": [],
   "source": [
    "dataloader_test = DataLoader(NEWSDataset(dataset['test']), shuffle=True)"
   ]
  },
  {
   "cell_type": "code",
   "execution_count": null,
   "metadata": {},
   "outputs": [],
   "source": [
    "train_losses = []\n",
    "test_losses = []\n",
    "for t in range(EPOCHS):\n",
    "    print(f'Epoch {t+1} -------------------------------')\n",
    "\n",
    "    print('Train')\n",
    "    train_losses.append(train(dataloader_train))\n",
    "\n",
    "    print('Test')\n",
    "    test_losses.append(test(dataloader_test))"
   ]
  },
  {
   "cell_type": "code",
   "execution_count": null,
   "metadata": {},
   "outputs": [],
   "source": [
    "plt.plot(train_losses, label='Train Loss')\n",
    "plt.plot(test_losses, label='Test Loss')\n",
    "plt.legend()\n",
    "plt.show()"
   ]
  }
 ],
 "metadata": {
  "kernelspec": {
   "display_name": "Python 3",
   "language": "python",
   "name": "python3"
  },
  "language_info": {
   "codemirror_mode": {
    "name": "ipython",
    "version": 3
   },
   "file_extension": ".py",
   "mimetype": "text/x-python",
   "name": "python",
   "nbconvert_exporter": "python",
   "pygments_lexer": "ipython3",
   "version": "3.10.12"
  }
 },
 "nbformat": 4,
 "nbformat_minor": 2
}
