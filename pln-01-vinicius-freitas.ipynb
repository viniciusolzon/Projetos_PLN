{
 "cells": [
  {
   "cell_type": "markdown",
   "metadata": {},
   "source": [
    "Nome: Vinicius Freitas Schiavinato Olzon\n"
   ]
  },
  {
   "cell_type": "markdown",
   "metadata": {},
   "source": [
    "Matrícula: 20210026803\n"
   ]
  },
  {
   "cell_type": "code",
   "execution_count": 136,
   "metadata": {},
   "outputs": [],
   "source": [
    "from nltk import word_tokenize\n",
    "from nltk.util import ngrams\n",
    "from collections import defaultdict, Counter"
   ]
  },
  {
   "cell_type": "code",
   "execution_count": 137,
   "metadata": {},
   "outputs": [],
   "source": [
    "def load_data(file_path):\n",
    "    with open(file_path, 'r', encoding='utf-8') as file:\n",
    "        text = file.read()\n",
    "    return text.lower()"
   ]
  },
  {
   "cell_type": "code",
   "execution_count": 138,
   "metadata": {},
   "outputs": [],
   "source": [
    "# text_data = load_data(\"alice.txt\")\n",
    "text_data = load_data(\"terraprometida.txt\")\n",
    "tokens = word_tokenize(text_data)\n",
    "\n",
    "#pega todos os trigramas da \"base de dados\" \n",
    "trigramas = list(ngrams(tokens, 3))"
   ]
  },
  {
   "cell_type": "code",
   "execution_count": 139,
   "metadata": {},
   "outputs": [],
   "source": [
    "modelo_trigrama = defaultdict(Counter)\n",
    "\n",
    "for trigrama in trigramas:\n",
    "    modelo_trigrama[(trigrama[0], trigrama[1])][trigrama[2]] += 1"
   ]
  },
  {
   "cell_type": "code",
   "execution_count": 140,
   "metadata": {},
   "outputs": [],
   "source": [
    "# print(p_trigrama(\"alice\", \"was\", \"not\"))\n",
    "# print(p_trigrama(\"alice\", \"was\", \"beginning\"))\n",
    "# print(p_trigrama(\"alice\", \"was\", \"very\"))\n",
    "# print(p_trigrama(\"alice\", \"was\", \"soon\"))"
   ]
  },
  {
   "cell_type": "code",
   "execution_count": 141,
   "metadata": {},
   "outputs": [],
   "source": [
    "# palavras_iniciais = (\"alice\", \"was\")\n",
    "# frase = list(palavras_iniciais)\n",
    "\n",
    "# modelo_trigrama[tuple(frase[-2:])]"
   ]
  },
  {
   "cell_type": "code",
   "execution_count": 142,
   "metadata": {},
   "outputs": [],
   "source": [
    "def gerar_texto(palavras_iniciais, model, num_palavras=30):\n",
    "    frase = list(palavras_iniciais)\n",
    "\n",
    "    for i in range(num_palavras):\n",
    "        # quantas vezes cada palavra aparece depois das 2 últimas palavras da frase escrita (tri-grama)\n",
    "        # proxima_palavra = model[tuple(frase[-2:])]\n",
    "        # pega a mais recorrente delas e coloca na frase atual\n",
    "        proxima_palavra = model[tuple(frase[-2:])].most_common(1)[0][0]\n",
    "\n",
    "        frase.append(proxima_palavra)\n",
    "\n",
    "    return ' '.join(frase)"
   ]
  },
  {
   "cell_type": "code",
   "execution_count": 144,
   "metadata": {},
   "outputs": [
    {
     "name": "stdout",
     "output_type": "stream",
     "text": [
      "he was to be his friend , and he said to him , and he said to him , and he said to him , and he said to him , and\n"
     ]
    }
   ],
   "source": [
    "# palavras_iniciais = (\"alice\", \"was\")\n",
    "palavras_iniciais = (\"he\", \"was\")\n",
    "# palavras_iniciais = (\"god\", \"was\")\n",
    "texto_gerado = gerar_texto(palavras_iniciais, modelo_trigrama)\n",
    "print(texto_gerado)"
   ]
  }
 ],
 "metadata": {
  "kernelspec": {
   "display_name": "Python 3",
   "language": "python",
   "name": "python3"
  },
  "language_info": {
   "codemirror_mode": {
    "name": "ipython",
    "version": 3
   },
   "file_extension": ".py",
   "mimetype": "text/x-python",
   "name": "python",
   "nbconvert_exporter": "python",
   "pygments_lexer": "ipython3",
   "version": "3.8.10"
  }
 },
 "nbformat": 4,
 "nbformat_minor": 2
}
