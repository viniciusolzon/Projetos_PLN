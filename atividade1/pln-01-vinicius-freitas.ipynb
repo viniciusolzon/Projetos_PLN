{
 "cells": [
  {
   "cell_type": "markdown",
   "metadata": {},
   "source": [
    "Nome: Vinicius Freitas Schiavinato Olzon\n"
   ]
  },
  {
   "cell_type": "markdown",
   "metadata": {},
   "source": [
    "Matrícula: 20210026803\n"
   ]
  },
  {
   "cell_type": "code",
   "execution_count": 256,
   "metadata": {},
   "outputs": [],
   "source": [
    "from collections import defaultdict, Counter\n",
    "from nltk import word_tokenize\n",
    "from nltk.util import ngrams\n",
    "from random import choice\n",
    "import random"
   ]
  },
  {
   "cell_type": "markdown",
   "metadata": {},
   "source": [
    "# Carrega os dados"
   ]
  },
  {
   "cell_type": "code",
   "execution_count": 257,
   "metadata": {},
   "outputs": [],
   "source": [
    "def carrega_dados(caminho_arquivo):\n",
    "    with open(caminho_arquivo, 'r', encoding='utf-8') as f:\n",
    "        texto = f.read()\n",
    "    return texto.lower()"
   ]
  },
  {
   "cell_type": "code",
   "execution_count": 258,
   "metadata": {},
   "outputs": [],
   "source": [
    "dados = carrega_dados(\"biblical.txt\")\n",
    "tokens = word_tokenize(dados)\n",
    "\n",
    "#pega todos os trigramas da \"base de dados\" \n",
    "trigramas = list(ngrams(tokens, 3))"
   ]
  },
  {
   "cell_type": "code",
   "execution_count": 259,
   "metadata": {},
   "outputs": [],
   "source": [
    "modelo_trigrama = defaultdict(Counter)\n",
    "\n",
    "for trigrama in trigramas:\n",
    "    modelo_trigrama[(trigrama[0], trigrama[1])][trigrama[2]] += 1"
   ]
  },
  {
   "cell_type": "code",
   "execution_count": 260,
   "metadata": {},
   "outputs": [],
   "source": [
    "def gerar_texto(palavras_iniciais, model, num_palavras=20):\n",
    "    frase = list(palavras_iniciais)\n",
    "\n",
    "    for i in range(num_palavras):\n",
    "        # A próxima palavra pode ser escolhida de acordo com a probabilidade do trigrama ou \n",
    "        # ou pode ser escolhida aleatoriamente entre os n trigramas mais comuns. (n = quantidade de trigramas existentes na \"base de dados\")\n",
    "        escolha = choice(['aleatorio', 'probabilistico'])\n",
    "\n",
    "        if escolha == 'probabilistico':\n",
    "            proxima_palavra = model[tuple(frase[-2:])].most_common()[0][0]\n",
    "\n",
    "        else:\n",
    "            tamanho = len(model[tuple(frase[-2:])])\n",
    "            numero = random.randint(1, tamanho)\n",
    "            proxima_palavra = model[tuple(frase[-2:])].most_common()[numero - 1][0]\n",
    "\n",
    "        frase.append(proxima_palavra)\n",
    "\n",
    "    return ' '.join(frase)"
   ]
  },
  {
   "cell_type": "markdown",
   "metadata": {},
   "source": [
    "# Gera o texto"
   ]
  },
  {
   "cell_type": "code",
   "execution_count": 261,
   "metadata": {},
   "outputs": [
    {
     "name": "stdout",
     "output_type": "stream",
     "text": [
      "god was watching over . so because the king 's command was urgent and the promises of god , if we want to get the vineyard of naboth in order that ahab would certainly be killed , and put a ring on\n"
     ]
    }
   ],
   "source": [
    "palavras_iniciais = (\"god\", \"was\")\n",
    "texto_gerado = gerar_texto(palavras_iniciais, modelo_trigrama, num_palavras=40)\n",
    "print(texto_gerado)"
   ]
  }
 ],
 "metadata": {
  "kernelspec": {
   "display_name": "Python 3",
   "language": "python",
   "name": "python3"
  },
  "language_info": {
   "codemirror_mode": {
    "name": "ipython",
    "version": 3
   },
   "file_extension": ".py",
   "mimetype": "text/x-python",
   "name": "python",
   "nbconvert_exporter": "python",
   "pygments_lexer": "ipython3",
   "version": "3.8.10"
  }
 },
 "nbformat": 4,
 "nbformat_minor": 2
}
