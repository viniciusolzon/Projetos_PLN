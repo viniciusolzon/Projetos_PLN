{
 "cells": [
  {
   "cell_type": "markdown",
   "metadata": {},
   "source": [
    "Nome: Vinicius Freitas Schiavinato Olzon\n"
   ]
  },
  {
   "cell_type": "markdown",
   "metadata": {},
   "source": [
    "Matrícula: 20210026803\n"
   ]
  },
  {
   "cell_type": "markdown",
   "metadata": {},
   "source": [
    "- O objetivo deste exercício é treinar e avaliar um classificador Naive Bayes para\n",
    "uma tarefa de análise de sentimentos.\n",
    "- O texto utilizado no treinamento e no teste deve ser pré-processado para incluir\n",
    "o prefixo “NAO_” de acordo com a seguinte regra:\n",
    "- O prefixo “NAO_” deve ser adicionado a cada palavra após um\n",
    "token de negação (não, nem, nunca, jamais, tampouco) até a próxima\n",
    "pontuação. São consideradas pontuações: . , ? ! ;\n",
    "- O treino deve ser realizado com 80% dos dados e o teste com 20%. Você deve\n",
    "calcular a acurácia do classificador aplicado aos dados de teste e comparar com\n",
    "o resultado do Naive Bayes sem a utilização do prefixo “NAO_”."
   ]
  },
  {
   "cell_type": "code",
   "execution_count": 95,
   "metadata": {},
   "outputs": [],
   "source": [
    "import pandas as pd\n",
    "from unidecode import unidecode"
   ]
  },
  {
   "cell_type": "markdown",
   "metadata": {},
   "source": [
    "# Carrega os dados"
   ]
  },
  {
   "cell_type": "code",
   "execution_count": 96,
   "metadata": {},
   "outputs": [
    {
     "name": "stderr",
     "output_type": "stream",
     "text": [
      "/tmp/ipykernel_18700/1153590322.py:1: DtypeWarning: Columns (2) have mixed types. Specify dtype option on import or set low_memory=False.\n",
      "  df = pd.read_csv('B2W-Reviews01.csv')\n"
     ]
    }
   ],
   "source": [
    "df = pd.read_csv('B2W-Reviews01.csv')"
   ]
  },
  {
   "cell_type": "markdown",
   "metadata": {},
   "source": [
    "### Pré-processamento das avaliações do dataset"
   ]
  },
  {
   "cell_type": "code",
   "execution_count": 97,
   "metadata": {},
   "outputs": [],
   "source": [
    "df = df.dropna(subset=['review_text'])\n",
    "df = df.reset_index(drop=True)\n",
    "df_processado = df.copy()"
   ]
  },
  {
   "cell_type": "markdown",
   "metadata": {},
   "source": [
    "O prefixo “NAO_” deve ser adicionado a cada palavra após um\n",
    "token de negação (não, nem, nunca, jamais, tampouco) até a próxima\n",
    "pontuação. São consideradas pontuações: . , ? ! ;"
   ]
  },
  {
   "cell_type": "code",
   "execution_count": 98,
   "metadata": {},
   "outputs": [],
   "source": [
    "def adiciona_prefixo(text):\n",
    "    prefixo = ' NAO_ '\n",
    "    pontuacoes = ['.', ',', '!', '?']\n",
    "    tokens = ['nao', 'nem', 'nunca', 'jamais', 'tampouco']\n",
    "\n",
    "    text = unidecode(text).lower()\n",
    "    i = 0\n",
    "    ativado = False\n",
    "    while i < len(text.split()):\n",
    "        if ativado:\n",
    "            # insere o prefixo ' NAO_ ' em frente a palavra (depois ele pula um índice/palavra -> i+=1)\n",
    "            texto_antes = ' '.join(str(word) for word in text.split()[:i])\n",
    "            texto_depois = ' '.join(str(word) for word in text.split()[i:])\n",
    "            # unidecode retira os acentos e o .lower() deixa tudo minúsculo para padronizar o texto\n",
    "            text = texto_antes + prefixo + texto_depois\n",
    "            \n",
    "            i+=1\n",
    "\n",
    "        # se o algoritmo encontra algumas das pontuações da lista 'pontuacoes', ele para de inserir o prefixo ' NAO_ ' em frente as palavras\n",
    "        if text.split()[i] in pontuacoes or text.split()[i][-1] in pontuacoes:\n",
    "            ativado = False\n",
    "\n",
    "        # se o algoritmo encontra algumas das palavras da lista 'tokens', ele passa a inserir o prefixo ' NAO_ ' em frente as palavras\n",
    "        if text.split()[i] in tokens:\n",
    "            ativado = True\n",
    "\n",
    "        i+=1\n",
    "\n",
    "    return text"
   ]
  },
  {
   "cell_type": "code",
   "execution_count": 99,
   "metadata": {},
   "outputs": [],
   "source": [
    "reviews_processados = df_processado['review_text']\n",
    "len(reviews_processados)\n",
    "for i in range(len(reviews_processados)):\n",
    "    reviews_processados[i] = adiciona_prefixo(reviews_processados[i])"
   ]
  },
  {
   "cell_type": "code",
   "execution_count": 101,
   "metadata": {},
   "outputs": [
    {
     "data": {
      "text/plain": [
       "'Produto maravilhoso! Não é barulhento, fácil manuseio, tranquilo de montar e desmontar, entrega antes do prazo mesmo se tratando de época do Natal. Americanas de parabéns e o produto muito bom. Recomendo com força.'"
      ]
     },
     "execution_count": 101,
     "metadata": {},
     "output_type": "execute_result"
    }
   ],
   "source": [
    "df['review_text'][11]"
   ]
  },
  {
   "cell_type": "code",
   "execution_count": 103,
   "metadata": {},
   "outputs": [
    {
     "data": {
      "text/plain": [
       "'produto maravilhoso! nao NAO_ e NAO_ barulhento, facil manuseio, tranquilo de montar e desmontar, entrega antes do prazo mesmo se tratando de epoca do natal. americanas de parabens e o produto muito bom. recomendo com forca.'"
      ]
     },
     "execution_count": 103,
     "metadata": {},
     "output_type": "execute_result"
    }
   ],
   "source": [
    "df_processado['review_text'][11]"
   ]
  },
  {
   "cell_type": "markdown",
   "metadata": {},
   "source": [
    "### reviews com menos de 3 estrelas são tratadas como negativas (0) e o resto será tratado como positivo (1)"
   ]
  },
  {
   "cell_type": "code",
   "execution_count": 104,
   "metadata": {},
   "outputs": [],
   "source": [
    "df['label'] = df['overall_rating'].apply(lambda x: 0 if x <=3 else 1)\n",
    "df_processado['label'] = df_processado['overall_rating'].apply(lambda x: 0 if x <=3 else 1)\n"
   ]
  },
  {
   "cell_type": "markdown",
   "metadata": {},
   "source": [
    "# Naive Bayes com o dataset original"
   ]
  },
  {
   "cell_type": "code",
   "execution_count": 105,
   "metadata": {},
   "outputs": [],
   "source": [
    "X = df['review_text']\n",
    "y = df['label']"
   ]
  },
  {
   "cell_type": "markdown",
   "metadata": {},
   "source": [
    "### Dividindo os dados em dados de treino e teste"
   ]
  },
  {
   "cell_type": "code",
   "execution_count": 106,
   "metadata": {},
   "outputs": [],
   "source": [
    "from sklearn.model_selection import train_test_split\n",
    "\n",
    "X_train, X_test, y_train, y_test = train_test_split(X, y, test_size=0.2)"
   ]
  },
  {
   "cell_type": "code",
   "execution_count": 107,
   "metadata": {},
   "outputs": [],
   "source": [
    "from sklearn.feature_extraction.text import TfidfVectorizer\n",
    "\n",
    "tfidf = TfidfVectorizer()\n",
    "X_train_vec = tfidf.fit_transform(X_train)\n",
    "X_test_vec = tfidf.transform(X_test)"
   ]
  },
  {
   "cell_type": "code",
   "execution_count": 108,
   "metadata": {},
   "outputs": [],
   "source": [
    "from sklearn.naive_bayes import MultinomialNB\n",
    "\n",
    "classifier = MultinomialNB()\n",
    "model = classifier.fit(X_train_vec, y_train)"
   ]
  },
  {
   "cell_type": "code",
   "execution_count": 109,
   "metadata": {},
   "outputs": [
    {
     "data": {
      "text/plain": [
       "array([1, 1, 0, ..., 1, 1, 0])"
      ]
     },
     "execution_count": 109,
     "metadata": {},
     "output_type": "execute_result"
    }
   ],
   "source": [
    "model.predict(X_test_vec)"
   ]
  },
  {
   "cell_type": "code",
   "execution_count": 110,
   "metadata": {},
   "outputs": [],
   "source": [
    "from sklearn.metrics import accuracy_score\n",
    "\n",
    "acuracia = accuracy_score(y_test, model.predict(X_test_vec))"
   ]
  },
  {
   "cell_type": "code",
   "execution_count": 111,
   "metadata": {},
   "outputs": [
    {
     "name": "stdout",
     "output_type": "stream",
     "text": [
      "[1]\n"
     ]
    }
   ],
   "source": [
    "my_input = 'ótimo produto, não foi muito barato'\n",
    "my_input = tfidf.transform([my_input])\n",
    "print(model.predict(my_input))"
   ]
  },
  {
   "cell_type": "markdown",
   "metadata": {},
   "source": [
    "### Naive Bayes com o dataset processado com os prefixos"
   ]
  },
  {
   "cell_type": "code",
   "execution_count": 112,
   "metadata": {},
   "outputs": [],
   "source": [
    "X = df_processado['review_text']\n",
    "y = df_processado['label']"
   ]
  },
  {
   "cell_type": "code",
   "execution_count": 113,
   "metadata": {},
   "outputs": [],
   "source": [
    "X_train, X_test, y_train, y_test = train_test_split(X, y, test_size=0.2)"
   ]
  },
  {
   "cell_type": "code",
   "execution_count": 114,
   "metadata": {},
   "outputs": [],
   "source": [
    "tfidf = TfidfVectorizer()\n",
    "X_train_vec = tfidf.fit_transform(X_train)\n",
    "X_test_vec = tfidf.transform(X_test)"
   ]
  },
  {
   "cell_type": "code",
   "execution_count": 115,
   "metadata": {},
   "outputs": [],
   "source": [
    "classifier = MultinomialNB()\n",
    "new_model = classifier.fit(X_train_vec, y_train)"
   ]
  },
  {
   "cell_type": "code",
   "execution_count": 116,
   "metadata": {},
   "outputs": [
    {
     "data": {
      "text/plain": [
       "array([1, 0, 1, ..., 1, 1, 0])"
      ]
     },
     "execution_count": 116,
     "metadata": {},
     "output_type": "execute_result"
    }
   ],
   "source": [
    "new_model.predict(X_test_vec)"
   ]
  },
  {
   "cell_type": "code",
   "execution_count": 117,
   "metadata": {},
   "outputs": [],
   "source": [
    "acuracia_prefixo = accuracy_score(y_test, new_model.predict(X_test_vec))"
   ]
  },
  {
   "cell_type": "code",
   "execution_count": 118,
   "metadata": {},
   "outputs": [
    {
     "name": "stdout",
     "output_type": "stream",
     "text": [
      "[0]\n"
     ]
    }
   ],
   "source": [
    "my_input = 'ótimo produto, não odiei'\n",
    "my_input = tfidf.transform([my_input])\n",
    "print(new_model.predict(my_input))"
   ]
  },
  {
   "cell_type": "code",
   "execution_count": 119,
   "metadata": {},
   "outputs": [
    {
     "name": "stdout",
     "output_type": "stream",
     "text": [
      "[1]\n"
     ]
    }
   ],
   "source": [
    "my_input = 'um jeito muito bom de gastar muito dinheiro, gostei bem pouco'\n",
    "my_input = tfidf.transform([my_input])\n",
    "print(new_model.predict(my_input))"
   ]
  },
  {
   "cell_type": "markdown",
   "metadata": {},
   "source": [
    "### Ao analisar a acurácia de ambos os modelos, pode ser visto abaixo que não há muita diferença com a adição dos prefixos no textos de avaliações"
   ]
  },
  {
   "cell_type": "code",
   "execution_count": 120,
   "metadata": {},
   "outputs": [
    {
     "data": {
      "text/plain": [
       "0.853718048024787"
      ]
     },
     "execution_count": 120,
     "metadata": {},
     "output_type": "execute_result"
    }
   ],
   "source": [
    "acuracia_prefixo"
   ]
  },
  {
   "cell_type": "code",
   "execution_count": 121,
   "metadata": {},
   "outputs": [
    {
     "data": {
      "text/plain": [
       "0.8568938807126258"
      ]
     },
     "execution_count": 121,
     "metadata": {},
     "output_type": "execute_result"
    }
   ],
   "source": [
    "acuracia"
   ]
  }
 ],
 "metadata": {
  "kernelspec": {
   "display_name": "Python 3",
   "language": "python",
   "name": "python3"
  },
  "language_info": {
   "codemirror_mode": {
    "name": "ipython",
    "version": 3
   },
   "file_extension": ".py",
   "mimetype": "text/x-python",
   "name": "python",
   "nbconvert_exporter": "python",
   "pygments_lexer": "ipython3",
   "version": "3.8.10"
  }
 },
 "nbformat": 4,
 "nbformat_minor": 2
}
