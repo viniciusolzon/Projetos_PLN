{
  "cells": [
    {
      "cell_type": "code",
      "execution_count": 1,
      "metadata": {
        "colab": {
          "base_uri": "https://localhost:8080/"
        },
        "id": "eExZHEZyOX5f",
        "outputId": "6bdfb4d7-ef88-43b4-dd55-01f3e244b570"
      },
      "outputs": [
        {
          "name": "stdout",
          "output_type": "stream",
          "text": [
            "/bin/bash: python: command not found\n",
            "/bin/bash: python: command not found\n"
          ]
        }
      ],
      "source": [
        "!python -m spacy download en_core_web_sm\n",
        "!python -m spacy download de_core_news_sm"
      ]
    },
    {
      "cell_type": "code",
      "execution_count": 2,
      "metadata": {
        "colab": {
          "base_uri": "https://localhost:8080/"
        },
        "id": "YlVDvw2nPyRO",
        "outputId": "587d3a67-523a-4e1f-e4eb-7eaa6a3d6699"
      },
      "outputs": [
        {
          "data": {
            "text/plain": [
              "<torch._C.Generator at 0x7ffa2f497370>"
            ]
          },
          "execution_count": 2,
          "metadata": {},
          "output_type": "execute_result"
        }
      ],
      "source": [
        "import random\n",
        "import torch\n",
        "\n",
        "random.seed(42)\n",
        "torch.manual_seed(42)"
      ]
    },
    {
      "cell_type": "code",
      "execution_count": 3,
      "metadata": {
        "colab": {
          "base_uri": "https://localhost:8080/"
        },
        "id": "zb7vx2skQcLC",
        "outputId": "a08ec75f-4c0b-4d5b-8b46-bc9b2cf6d99c"
      },
      "outputs": [
        {
          "ename": "ModuleNotFoundError",
          "evalue": "No module named 'google.colab'",
          "output_type": "error",
          "traceback": [
            "\u001b[0;31m---------------------------------------------------------------------------\u001b[0m",
            "\u001b[0;31mModuleNotFoundError\u001b[0m                       Traceback (most recent call last)",
            "Cell \u001b[0;32mIn[3], line 1\u001b[0m\n\u001b[0;32m----> 1\u001b[0m \u001b[38;5;28;01mfrom\u001b[39;00m \u001b[38;5;21;01mgoogle\u001b[39;00m\u001b[38;5;21;01m.\u001b[39;00m\u001b[38;5;21;01mcolab\u001b[39;00m \u001b[38;5;28;01mimport\u001b[39;00m drive\n\u001b[1;32m      2\u001b[0m drive\u001b[38;5;241m.\u001b[39mmount(\u001b[38;5;124m'\u001b[39m\u001b[38;5;124m/content/drive\u001b[39m\u001b[38;5;124m'\u001b[39m)\n",
            "\u001b[0;31mModuleNotFoundError\u001b[0m: No module named 'google.colab'"
          ]
        }
      ],
      "source": [
        "from google.colab import drive\n",
        "drive.mount('/content/drive')"
      ]
    },
    {
      "cell_type": "code",
      "execution_count": 4,
      "metadata": {
        "id": "2FDwNUkyQoEE"
      },
      "outputs": [
        {
          "ename": "FileNotFoundError",
          "evalue": "[Errno 2] No such file or directory: '/content/drive/MyDrive/datasets/deu.txt'",
          "output_type": "error",
          "traceback": [
            "\u001b[0;31m---------------------------------------------------------------------------\u001b[0m",
            "\u001b[0;31mFileNotFoundError\u001b[0m                         Traceback (most recent call last)",
            "Cell \u001b[0;32mIn[4], line 1\u001b[0m\n\u001b[0;32m----> 1\u001b[0m f \u001b[38;5;241m=\u001b[39m \u001b[38;5;28;43mopen\u001b[39;49m\u001b[43m(\u001b[49m\u001b[38;5;124;43m'\u001b[39;49m\u001b[38;5;124;43m/content/drive/MyDrive/datasets/deu.txt\u001b[39;49m\u001b[38;5;124;43m'\u001b[39;49m\u001b[43m)\u001b[49m\n\u001b[1;32m      3\u001b[0m lines \u001b[38;5;241m=\u001b[39m f\u001b[38;5;241m.\u001b[39mreadlines()\n\u001b[1;32m      4\u001b[0m random\u001b[38;5;241m.\u001b[39mshuffle(lines)\n",
            "File \u001b[0;32m~/.local/lib/python3.8/site-packages/IPython/core/interactiveshell.py:284\u001b[0m, in \u001b[0;36m_modified_open\u001b[0;34m(file, *args, **kwargs)\u001b[0m\n\u001b[1;32m    277\u001b[0m \u001b[38;5;28;01mif\u001b[39;00m file \u001b[38;5;129;01min\u001b[39;00m {\u001b[38;5;241m0\u001b[39m, \u001b[38;5;241m1\u001b[39m, \u001b[38;5;241m2\u001b[39m}:\n\u001b[1;32m    278\u001b[0m     \u001b[38;5;28;01mraise\u001b[39;00m \u001b[38;5;167;01mValueError\u001b[39;00m(\n\u001b[1;32m    279\u001b[0m         \u001b[38;5;124mf\u001b[39m\u001b[38;5;124m\"\u001b[39m\u001b[38;5;124mIPython won\u001b[39m\u001b[38;5;124m'\u001b[39m\u001b[38;5;124mt let you open fd=\u001b[39m\u001b[38;5;132;01m{\u001b[39;00mfile\u001b[38;5;132;01m}\u001b[39;00m\u001b[38;5;124m by default \u001b[39m\u001b[38;5;124m\"\u001b[39m\n\u001b[1;32m    280\u001b[0m         \u001b[38;5;124m\"\u001b[39m\u001b[38;5;124mas it is likely to crash IPython. If you know what you are doing, \u001b[39m\u001b[38;5;124m\"\u001b[39m\n\u001b[1;32m    281\u001b[0m         \u001b[38;5;124m\"\u001b[39m\u001b[38;5;124myou can use builtins\u001b[39m\u001b[38;5;124m'\u001b[39m\u001b[38;5;124m open.\u001b[39m\u001b[38;5;124m\"\u001b[39m\n\u001b[1;32m    282\u001b[0m     )\n\u001b[0;32m--> 284\u001b[0m \u001b[38;5;28;01mreturn\u001b[39;00m \u001b[43mio_open\u001b[49m\u001b[43m(\u001b[49m\u001b[43mfile\u001b[49m\u001b[43m,\u001b[49m\u001b[43m \u001b[49m\u001b[38;5;241;43m*\u001b[39;49m\u001b[43margs\u001b[49m\u001b[43m,\u001b[49m\u001b[43m \u001b[49m\u001b[38;5;241;43m*\u001b[39;49m\u001b[38;5;241;43m*\u001b[39;49m\u001b[43mkwargs\u001b[49m\u001b[43m)\u001b[49m\n",
            "\u001b[0;31mFileNotFoundError\u001b[0m: [Errno 2] No such file or directory: '/content/drive/MyDrive/datasets/deu.txt'"
          ]
        }
      ],
      "source": [
        "f = open('/content/drive/MyDrive/datasets/deu.txt')\n",
        "\n",
        "lines = f.readlines()\n",
        "random.shuffle(lines)\n",
        "\n",
        "f.close()"
      ]
    },
    {
      "cell_type": "code",
      "execution_count": null,
      "metadata": {
        "colab": {
          "base_uri": "https://localhost:8080/"
        },
        "id": "x6_RbExuQ4hQ",
        "outputId": "23da4499-9f44-4c78-f455-cc744163a8d3"
      },
      "outputs": [
        {
          "name": "stdout",
          "output_type": "stream",
          "text": [
            "Tom is waiting in the hallway.\tTom wartet auf dem Flur.\tCC-BY 2.0 (France) Attribution: tatoeba.org #4132396 (CK) & #4134744 (Pfirsichbaeumchen)\n",
            "\n"
          ]
        }
      ],
      "source": [
        "print(lines[0])"
      ]
    },
    {
      "cell_type": "code",
      "execution_count": null,
      "metadata": {
        "colab": {
          "base_uri": "https://localhost:8080/"
        },
        "id": "1o4sEWDzRFd0",
        "outputId": "1f8fa685-c509-47ce-eb91-1865ee4b4334"
      },
      "outputs": [
        {
          "data": {
            "text/plain": [
              "271774"
            ]
          },
          "execution_count": 6,
          "metadata": {},
          "output_type": "execute_result"
        }
      ],
      "source": [
        "len(lines)"
      ]
    },
    {
      "cell_type": "code",
      "execution_count": null,
      "metadata": {
        "id": "imJr1UUnR5N5"
      },
      "outputs": [],
      "source": [
        "PAIRS_LEN = 50000\n",
        "\n",
        "pairs = {'en': [], 'de': []}\n",
        "\n",
        "for line in lines[:PAIRS_LEN]:\n",
        "  splits = line.split('\\t')\n",
        "  pairs['en'].append(splits[0])\n",
        "  pairs['de'].append(splits[1])"
      ]
    },
    {
      "cell_type": "code",
      "execution_count": null,
      "metadata": {
        "colab": {
          "base_uri": "https://localhost:8080/"
        },
        "id": "AbNQF2rkSjmQ",
        "outputId": "dd687080-87d9-44cf-d033-617be1a1e6c9"
      },
      "outputs": [
        {
          "data": {
            "text/plain": [
              "['Tom is waiting in the hallway.',\n",
              " \"It doesn't make much sense to me that I have to pay more income tax than you even though you make more money than I do.\",\n",
              " 'This palace was built for the rich king.',\n",
              " \"Tom doesn't work here anymore.\",\n",
              " \"You're not at all what I expected.\",\n",
              " 'Tom is still a very good tennis player.',\n",
              " 'We have to do this now.',\n",
              " 'Tom was tickled pink.',\n",
              " 'Tom and I have jobs.',\n",
              " 'Everything went well.']"
            ]
          },
          "execution_count": 8,
          "metadata": {},
          "output_type": "execute_result"
        }
      ],
      "source": [
        "pairs['en'][:10]"
      ]
    },
    {
      "cell_type": "code",
      "execution_count": null,
      "metadata": {
        "colab": {
          "base_uri": "https://localhost:8080/"
        },
        "id": "57BXu_htSkyo",
        "outputId": "5317f76e-a18c-41f6-d3b9-5a3089029928"
      },
      "outputs": [
        {
          "data": {
            "text/plain": [
              "['Tom wartet auf dem Flur.',\n",
              " 'Ich kann keinen Sinn darin erkennen, dass ich mehr Einkommenssteuer als du entrichten muss, wenngleich du mehr verdienst als ich.',\n",
              " 'Dieser Palast wurde für den reichen König erbaut.',\n",
              " 'Tom arbeitet nicht mehr hier.',\n",
              " 'Du bist absolut nicht das, was ich erwartet habe.',\n",
              " 'Tom ist immer noch ein sehr guter Tennisspieler.',\n",
              " 'Wir müssen das jetzt tun.',\n",
              " 'Tom war ganz aus dem Häuschen.',\n",
              " 'Tom und ich, wir sind berufstätig.',\n",
              " 'Alles lief gut ab.']"
            ]
          },
          "execution_count": 9,
          "metadata": {},
          "output_type": "execute_result"
        }
      ],
      "source": [
        "pairs['de'][:10]"
      ]
    },
    {
      "cell_type": "code",
      "execution_count": null,
      "metadata": {
        "id": "EZdl91mhSrLX"
      },
      "outputs": [],
      "source": [
        "TEST_PAIRS_LEN = 10000\n",
        "\n",
        "test_pairs = {'en': [], 'de': []}\n",
        "\n",
        "for line in lines[PAIRS_LEN:PAIRS_LEN+TEST_PAIRS_LEN]:\n",
        "  splits = line.split('\\t')\n",
        "  test_pairs['en'].append(splits[0])\n",
        "  test_pairs['de'].append(splits[1])"
      ]
    },
    {
      "cell_type": "code",
      "execution_count": null,
      "metadata": {
        "colab": {
          "base_uri": "https://localhost:8080/"
        },
        "id": "2VF35PswTAZM",
        "outputId": "cb5383ec-a334-4b97-a3d7-f589a1fa0494"
      },
      "outputs": [
        {
          "data": {
            "text/plain": [
              "[\"I'm a translator.\",\n",
              " 'People used to write books using typewriters.',\n",
              " 'We have a bit more work to do.',\n",
              " 'Tom jumped across the mud puddle.',\n",
              " \"The television doesn't work.\",\n",
              " 'I found out what Tom likes.',\n",
              " 'Shut all the doors and windows.',\n",
              " \"I don't like it when you're so busy.\",\n",
              " \"I haven't yet finished my homework.\",\n",
              " \"Tom doesn't seem to be responding to the treatment.\"]"
            ]
          },
          "execution_count": 11,
          "metadata": {},
          "output_type": "execute_result"
        }
      ],
      "source": [
        "test_pairs['en'][:10]"
      ]
    },
    {
      "cell_type": "code",
      "execution_count": null,
      "metadata": {
        "colab": {
          "base_uri": "https://localhost:8080/"
        },
        "id": "2QyJfjAwTC01",
        "outputId": "69ae806f-f5c1-40b4-c89f-4966e75ba7a6"
      },
      "outputs": [
        {
          "data": {
            "text/plain": [
              "['Ich bin Übersetzerin.',\n",
              " 'Früher hat man Bücher mit der Schreibmaschine geschrieben.',\n",
              " 'Wir haben noch ein bisschen mehr Arbeit zu erledigen.',\n",
              " 'Tom sprang über die Schlammpfütze.',\n",
              " 'Der Fernseher geht nicht.',\n",
              " 'Ich weiß jetzt, was Tom mag.',\n",
              " 'Mach alle Türen und Fenster zu.',\n",
              " 'Es gefällt mir nicht, wenn du so beschäftigt bist.',\n",
              " 'Ich bin noch nicht mit den Hausaufgaben fertig.',\n",
              " 'Die Therapie scheint bei Tom nicht anzuschlagen.']"
            ]
          },
          "execution_count": 12,
          "metadata": {},
          "output_type": "execute_result"
        }
      ],
      "source": [
        "test_pairs['de'][:10]"
      ]
    },
    {
      "cell_type": "code",
      "execution_count": null,
      "metadata": {
        "id": "L3YZd0yfTIxl"
      },
      "outputs": [],
      "source": [
        "from torchtext.data.utils import get_tokenizer\n",
        "\n",
        "tokenizer_de = get_tokenizer('spacy', language='de_core_news_sm')\n",
        "tokenizer_en = get_tokenizer('spacy', language='en_core_web_sm')"
      ]
    },
    {
      "cell_type": "code",
      "execution_count": null,
      "metadata": {
        "colab": {
          "base_uri": "https://localhost:8080/"
        },
        "id": "8RO4Bnt6Ti2R",
        "outputId": "86d6693f-4f0a-4471-8bd5-c358d4028a75"
      },
      "outputs": [
        {
          "data": {
            "text/plain": [
              "['Tom', 'loves', 'me', 'and', 'I', 'love', 'him', ',', 'too', '.']"
            ]
          },
          "execution_count": 14,
          "metadata": {},
          "output_type": "execute_result"
        }
      ],
      "source": [
        "tokenizer_en(pairs['en'][10123])"
      ]
    },
    {
      "cell_type": "code",
      "execution_count": null,
      "metadata": {
        "colab": {
          "base_uri": "https://localhost:8080/"
        },
        "id": "YeMlLaA_Ton-",
        "outputId": "f2d8db49-904d-4595-8ad2-039b81d0935f"
      },
      "outputs": [
        {
          "data": {
            "text/plain": [
              "['Tom', 'liebt', 'mich', ',', 'und', 'ich', 'liebe', 'ihn', 'auch', '.']"
            ]
          },
          "execution_count": 15,
          "metadata": {},
          "output_type": "execute_result"
        }
      ],
      "source": [
        "tokenizer_de(pairs['de'][10123])"
      ]
    },
    {
      "cell_type": "code",
      "execution_count": null,
      "metadata": {
        "id": "bCYyefPlTsWi"
      },
      "outputs": [],
      "source": [
        "def tokenizer_all(pairs):\n",
        "  tokens = {'en': [], 'de': []}\n",
        "\n",
        "  for pair in pairs['en']:\n",
        "    tokens['en'].append(tokenizer_en(pair.lower()))\n",
        "\n",
        "  for pair in pairs['de']:\n",
        "    tokens['de'].append(tokenizer_en(pair.lower()))\n",
        "\n",
        "  return tokens"
      ]
    },
    {
      "cell_type": "code",
      "execution_count": null,
      "metadata": {
        "id": "R8C5HpYqUT-U"
      },
      "outputs": [],
      "source": [
        "tokens = tokenizer_all(pairs)"
      ]
    },
    {
      "cell_type": "code",
      "execution_count": null,
      "metadata": {
        "id": "DXgZONP-ZQjZ"
      },
      "outputs": [],
      "source": [
        "test_tokens = tokenizer_all(test_pairs)"
      ]
    },
    {
      "cell_type": "code",
      "execution_count": null,
      "metadata": {
        "colab": {
          "base_uri": "https://localhost:8080/"
        },
        "id": "PKDOHhTnUXvH",
        "outputId": "e885893f-a595-4690-b627-5ed2deb28640"
      },
      "outputs": [
        {
          "data": {
            "text/plain": [
              "['he', 'did', 'it', 'at', 'his', 'own', 'risk', '.']"
            ]
          },
          "execution_count": 19,
          "metadata": {},
          "output_type": "execute_result"
        }
      ],
      "source": [
        "tokens['en'][10]"
      ]
    },
    {
      "cell_type": "code",
      "execution_count": null,
      "metadata": {
        "colab": {
          "base_uri": "https://localhost:8080/",
          "height": 36
        },
        "id": "3sdEnYRGUbdi",
        "outputId": "81ed29db-912f-4836-a27a-2796975039ed"
      },
      "outputs": [
        {
          "data": {
            "application/vnd.google.colaboratory.intrinsic+json": {
              "type": "string"
            },
            "text/plain": [
              "'He did it at his own risk.'"
            ]
          },
          "execution_count": 20,
          "metadata": {},
          "output_type": "execute_result"
        }
      ],
      "source": [
        "pairs['en'][10]"
      ]
    },
    {
      "cell_type": "markdown",
      "metadata": {
        "id": "xen-wVJ0UySA"
      },
      "source": []
    },
    {
      "cell_type": "code",
      "execution_count": null,
      "metadata": {
        "colab": {
          "base_uri": "https://localhost:8080/"
        },
        "id": "wMwE2JVLUdsC",
        "outputId": "4e6012a3-9a80-46a2-cbf7-24c6ba2c9131"
      },
      "outputs": [
        {
          "data": {
            "text/plain": [
              "['er', 'hat', 'es', 'auf', 'eigene', 'gefahr', 'hin', 'getan', '.']"
            ]
          },
          "execution_count": 21,
          "metadata": {},
          "output_type": "execute_result"
        }
      ],
      "source": [
        "tokens['de'][10]"
      ]
    },
    {
      "cell_type": "code",
      "execution_count": null,
      "metadata": {
        "colab": {
          "base_uri": "https://localhost:8080/",
          "height": 36
        },
        "id": "Sd1iivbFUhdp",
        "outputId": "d094cc61-32c1-4cee-bff1-57f4eb7639ad"
      },
      "outputs": [
        {
          "data": {
            "application/vnd.google.colaboratory.intrinsic+json": {
              "type": "string"
            },
            "text/plain": [
              "'Er hat es auf eigene Gefahr hin getan.'"
            ]
          },
          "execution_count": 22,
          "metadata": {},
          "output_type": "execute_result"
        }
      ],
      "source": [
        "pairs['de'][10]"
      ]
    },
    {
      "cell_type": "code",
      "execution_count": null,
      "metadata": {
        "id": "ZNpboxiuUjY8"
      },
      "outputs": [],
      "source": [
        "from torchtext.vocab import build_vocab_from_iterator\n",
        "\n",
        "vocab_en = build_vocab_from_iterator(tokens['en'], specials=['<sos>', '<eos>'], min_freq=2)\n",
        "vocab_de = build_vocab_from_iterator(tokens['de'], specials=['<sos>', '<eos>'], min_freq=2)"
      ]
    },
    {
      "cell_type": "code",
      "execution_count": null,
      "metadata": {
        "colab": {
          "base_uri": "https://localhost:8080/"
        },
        "id": "CuIcyL_JWVrO",
        "outputId": "3aa1a4d0-fca7-40a4-b4ec-3ffddd3380c4"
      },
      "outputs": [
        {
          "data": {
            "text/plain": [
              "145"
            ]
          },
          "execution_count": 24,
          "metadata": {},
          "output_type": "execute_result"
        }
      ],
      "source": [
        "vocab_en['house']"
      ]
    },
    {
      "cell_type": "code",
      "execution_count": null,
      "metadata": {
        "colab": {
          "base_uri": "https://localhost:8080/"
        },
        "id": "vUiAynDVWxkN",
        "outputId": "cd82c2ea-9f57-48d9-a610-58443ea9c0dc"
      },
      "outputs": [
        {
          "data": {
            "text/plain": [
              "169"
            ]
          },
          "execution_count": 25,
          "metadata": {},
          "output_type": "execute_result"
        }
      ],
      "source": [
        "vocab_de['haus']"
      ]
    },
    {
      "cell_type": "code",
      "execution_count": null,
      "metadata": {
        "colab": {
          "base_uri": "https://localhost:8080/"
        },
        "id": "8tTyXiLeW4Mk",
        "outputId": "093a3aec-3d40-4152-e7b8-159be53c0770"
      },
      "outputs": [
        {
          "data": {
            "text/plain": [
              "(0, 1)"
            ]
          },
          "execution_count": 26,
          "metadata": {},
          "output_type": "execute_result"
        }
      ],
      "source": [
        "vocab_en['<sos>'], vocab_en['<eos>']"
      ]
    },
    {
      "cell_type": "code",
      "execution_count": null,
      "metadata": {
        "colab": {
          "base_uri": "https://localhost:8080/"
        },
        "id": "lQLYpR6vXBm9",
        "outputId": "702a9ee6-623a-4059-dffc-ba80550d19f4"
      },
      "outputs": [
        {
          "data": {
            "text/plain": [
              "(0, 1)"
            ]
          },
          "execution_count": 27,
          "metadata": {},
          "output_type": "execute_result"
        }
      ],
      "source": [
        "vocab_de['<sos>'], vocab_de['<eos>']"
      ]
    },
    {
      "cell_type": "code",
      "execution_count": null,
      "metadata": {
        "colab": {
          "base_uri": "https://localhost:8080/"
        },
        "id": "fg9RWrjtXDHI",
        "outputId": "341582a1-00b7-48ac-a83e-50109e10f9ca"
      },
      "outputs": [
        {
          "data": {
            "text/plain": [
              "(5977, 8555)"
            ]
          },
          "execution_count": 28,
          "metadata": {},
          "output_type": "execute_result"
        }
      ],
      "source": [
        "len(vocab_en), len(vocab_de)"
      ]
    },
    {
      "cell_type": "code",
      "execution_count": null,
      "metadata": {
        "id": "gJI-jx77XNHw"
      },
      "outputs": [],
      "source": [
        "from torch.utils.data import Dataset"
      ]
    },
    {
      "cell_type": "code",
      "execution_count": null,
      "metadata": {
        "id": "6NjBWjVGXl93"
      },
      "outputs": [],
      "source": [
        "class TranslationDataset(Dataset):\n",
        "  def __init__(self, all_tokens, vocab_en, vocab_de):\n",
        "    self.all_tokens = all_tokens\n",
        "    self.data_en = []\n",
        "    self.data_de = []\n",
        "\n",
        "    for tokens in all_tokens['en']:\n",
        "      tokens_index = [vocab_en[t] for t in tokens if t in vocab_en]\n",
        "      self.data_en.append(tokens_index)\n",
        "\n",
        "    for tokens in all_tokens['de']:\n",
        "      tokens = ['<sos>'] + tokens + ['<eos>']\n",
        "      tokens_index = [vocab_de[t] for t in tokens if t in vocab_de]\n",
        "      self.data_de.append(tokens_index)\n",
        "\n",
        "  def __len__(self):\n",
        "    return len(self.all_tokens['en'])\n",
        "\n",
        "  def __getitem__(self, index):\n",
        "    return torch.LongTensor(self.data_en[index]), torch.LongTensor(self.data_de[index])"
      ]
    },
    {
      "cell_type": "code",
      "execution_count": null,
      "metadata": {
        "id": "svG2Y1InZIRe"
      },
      "outputs": [],
      "source": [
        "train_dataset = TranslationDataset(tokens, vocab_en, vocab_de)\n",
        "test_dataset = TranslationDataset(test_tokens, vocab_en, vocab_de)"
      ]
    },
    {
      "cell_type": "code",
      "execution_count": null,
      "metadata": {
        "colab": {
          "base_uri": "https://localhost:8080/"
        },
        "id": "wAyc6DR0ZXqy",
        "outputId": "4c9dceb1-7197-4c85-e535-a159ccc6eac1"
      },
      "outputs": [
        {
          "data": {
            "text/plain": [
              "50000"
            ]
          },
          "execution_count": 32,
          "metadata": {},
          "output_type": "execute_result"
        }
      ],
      "source": [
        "len(train_dataset)"
      ]
    },
    {
      "cell_type": "code",
      "execution_count": null,
      "metadata": {
        "colab": {
          "base_uri": "https://localhost:8080/"
        },
        "id": "DejioAOEZZNg",
        "outputId": "c2db4484-b793-46ef-d070-01952e665fd1"
      },
      "outputs": [
        {
          "data": {
            "text/plain": [
              "(tensor([  16,   28,   14,   42,   33,  335, 1210,    2]),\n",
              " tensor([   0,   15,   17,   13,   30, 1412,  851,  393,  170,    2,    1]))"
            ]
          },
          "execution_count": 33,
          "metadata": {},
          "output_type": "execute_result"
        }
      ],
      "source": [
        "train_dataset[10]"
      ]
    },
    {
      "cell_type": "code",
      "execution_count": null,
      "metadata": {
        "id": "la871ZXrZbaY"
      },
      "outputs": [],
      "source": [
        "from torch.utils.data import DataLoader\n",
        "\n",
        "dataloader_train = DataLoader(train_dataset)\n",
        "dataloader_test = DataLoader(test_dataset)"
      ]
    },
    {
      "cell_type": "code",
      "execution_count": null,
      "metadata": {
        "id": "PpX0opF72KiO"
      },
      "outputs": [],
      "source": [
        "from torch import nn\n",
        "\n",
        "class Encoder(nn.Module):\n",
        "  def __init__(self, input_dim, embedding_dim, hidden_dim, n_layers):\n",
        "    super().__init__()\n",
        "\n",
        "    self.hidden_dim = hidden_dim\n",
        "    self.n_layers = n_layers\n",
        "\n",
        "    self.embedding = nn.Embedding(input_dim, embedding_dim)\n",
        "    self.lstm = nn.LSTM(embedding_dim, hidden_dim, n_layers)\n",
        "\n",
        "  def forward(self, x):\n",
        "    embedding_vector = self.embedding(x)\n",
        "    outputs, (hidden, cell) = self.lstm(embedding_vector)\n",
        "\n",
        "    return hidden, cell"
      ]
    },
    {
      "cell_type": "code",
      "execution_count": null,
      "metadata": {
        "id": "KmliJAt83j0f"
      },
      "outputs": [],
      "source": [
        "encoder = Encoder(len(vocab_en), 128, 64, 1)"
      ]
    },
    {
      "cell_type": "code",
      "execution_count": null,
      "metadata": {
        "colab": {
          "base_uri": "https://localhost:8080/"
        },
        "id": "LkfpwBcr3n-X",
        "outputId": "79e3a414-f132-46d8-9a01-d906140d86c8"
      },
      "outputs": [
        {
          "data": {
            "text/plain": [
              "(tensor([[ 0.1461, -0.3632,  0.0677,  0.0906, -0.1714,  0.0315, -0.1013,  0.1105,\n",
              "          -0.2332, -0.1872, -0.0027, -0.1165, -0.2340,  0.2100, -0.0755, -0.0903,\n",
              "          -0.1000, -0.2103,  0.0179, -0.1207,  0.0382,  0.0890, -0.3627,  0.0285,\n",
              "           0.0129,  0.5908, -0.2163, -0.1351,  0.1478,  0.2832, -0.0817,  0.2473,\n",
              "           0.1780,  0.1593,  0.0232, -0.2659,  0.0450,  0.3377,  0.0561,  0.0745,\n",
              "          -0.1208, -0.0707, -0.2865, -0.1645,  0.3728, -0.1019, -0.0982, -0.6183,\n",
              "          -0.2108, -0.2089,  0.0585, -0.0193, -0.3653,  0.1887, -0.0627,  0.0915,\n",
              "           0.3717,  0.0217, -0.1198,  0.0597, -0.2428,  0.1848,  0.1379,  0.2247]],\n",
              "        grad_fn=<SqueezeBackward1>),\n",
              " tensor([[ 0.3040, -1.0484,  0.1345,  0.3691, -0.2792,  0.0434, -0.2275,  0.4589,\n",
              "          -0.3444, -0.3496, -0.0035, -0.2358, -0.3419,  0.3759, -0.2313, -0.2805,\n",
              "          -0.2265, -0.3312,  0.0642, -0.2084,  0.0584,  0.1329, -1.0029,  0.0675,\n",
              "           0.0338,  0.9334, -0.5109, -0.1589,  0.4538,  1.1999, -0.2087,  0.5749,\n",
              "           0.5321,  0.2367,  0.0548, -0.9288,  0.2580,  0.5520,  0.1402,  0.1834,\n",
              "          -0.3473, -0.0988, -0.7724, -0.3092,  0.7518, -0.1722, -0.2315, -1.0000,\n",
              "          -0.5777, -0.6248,  0.0984, -0.0710, -0.5042,  0.5624, -0.1643,  0.1326,\n",
              "           0.9025,  0.0402, -0.3084,  0.2454, -0.3662,  0.5117,  0.4095,  0.4457]],\n",
              "        grad_fn=<SqueezeBackward1>))"
            ]
          },
          "execution_count": 38,
          "metadata": {},
          "output_type": "execute_result"
        }
      ],
      "source": [
        "encoder(train_dataset[0][0])"
      ]
    },
    {
      "cell_type": "code",
      "execution_count": null,
      "metadata": {
        "id": "PGsn1DS93wMX"
      },
      "outputs": [],
      "source": [
        "class Decoder(nn.Module):\n",
        "  def __init__(self, output_dim, embedding_dim, hidden_dim, n_layers):\n",
        "    super().__init__()\n",
        "\n",
        "    self.hidden_dim = hidden_dim\n",
        "    self.n_layers = n_layers\n",
        "    self.output_dim = output_dim\n",
        "\n",
        "    self.embedding = nn.Embedding(output_dim, embedding_dim)\n",
        "    self.lstm = nn.LSTM(embedding_dim, hidden_dim, n_layers)\n",
        "    self.linear = nn.Linear(hidden_dim, output_dim)\n",
        "\n",
        "  def forward(self, x, hidden, cell):\n",
        "    embedding_vector = self.embedding(x)\n",
        "    outputs, (hidden, cell) = self.lstm(embedding_vector, (hidden, cell))\n",
        "    prediction = self.linear(hidden)\n",
        "\n",
        "    return prediction, hidden, cell"
      ]
    },
    {
      "cell_type": "code",
      "execution_count": null,
      "metadata": {
        "id": "KTNVt08y671D"
      },
      "outputs": [],
      "source": [
        "decoder = Decoder(len(vocab_de), 128, 64, 1)"
      ]
    },
    {
      "cell_type": "code",
      "execution_count": null,
      "metadata": {
        "colab": {
          "base_uri": "https://localhost:8080/"
        },
        "id": "cvTHNA-T693k",
        "outputId": "437e24e5-72c8-4782-b9a6-84861b7050d3"
      },
      "outputs": [
        {
          "data": {
            "text/plain": [
              "(tensor([[-0.1225, -0.1167,  0.0330,  ...,  0.0748, -0.0383, -0.0926]],\n",
              "        grad_fn=<AddmmBackward0>),\n",
              " tensor([[-0.0553, -0.0289, -0.0626, -0.2369,  0.0931, -0.2649,  0.2655, -0.0157,\n",
              "          -0.1895, -0.1397, -0.0195, -0.1597, -0.1251, -0.1065,  0.1602,  0.0326,\n",
              "          -0.0566,  0.1228,  0.0470, -0.0673,  0.0788, -0.1788, -0.0017,  0.1333,\n",
              "           0.1611,  0.1788, -0.1205, -0.0440,  0.0716, -0.2015, -0.0080,  0.0088,\n",
              "           0.0600,  0.2735, -0.0434,  0.0469,  0.0662,  0.0424,  0.0464,  0.1469,\n",
              "          -0.1839, -0.0130, -0.1696, -0.1214,  0.0995, -0.0760,  0.1314, -0.0568,\n",
              "          -0.1814, -0.1904, -0.1264, -0.0413,  0.0451, -0.0133, -0.0959, -0.0169,\n",
              "           0.0438, -0.0351,  0.3722, -0.0840, -0.3564, -0.1152,  0.1002, -0.0774]],\n",
              "        grad_fn=<SqueezeBackward1>),\n",
              " tensor([[-0.1439, -0.1299, -0.1404, -0.5240,  0.3439, -0.4127,  0.4731, -0.0651,\n",
              "          -0.3292, -0.4471, -0.0218, -0.2797, -0.2041, -0.1697,  0.6835,  0.2540,\n",
              "          -0.1742,  0.3457,  0.1287, -0.1114,  0.1884, -0.5720, -0.0031,  0.2016,\n",
              "           0.4436,  0.2800, -0.1756, -0.0529,  0.1268, -0.3184, -0.0187,  0.0260,\n",
              "           0.0912,  0.4697, -0.0698,  0.0783,  0.2517,  0.1053,  0.1475,  0.4328,\n",
              "          -0.4621, -0.0482, -0.2810, -0.1999,  0.1491, -0.1306,  0.6897, -0.1172,\n",
              "          -0.2888, -0.4687, -0.1612, -0.0923,  0.0984, -0.0313, -0.1169, -0.0368,\n",
              "           0.0801, -0.1191,  0.6223, -0.2427, -0.5712, -0.1839,  0.2898, -0.5772]],\n",
              "        grad_fn=<SqueezeBackward1>))"
            ]
          },
          "execution_count": 41,
          "metadata": {},
          "output_type": "execute_result"
        }
      ],
      "source": [
        "decoder(torch.LongTensor([0]), torch.zeros(1,64), torch.zeros(1,64))"
      ]
    },
    {
      "cell_type": "code",
      "execution_count": null,
      "metadata": {
        "id": "wiaNFQlV7QQG"
      },
      "outputs": [],
      "source": [
        "class Seq2Seq(nn.Module):\n",
        "  def __init__(self, encoder, decoder, device):\n",
        "    super().__init__()\n",
        "\n",
        "    self.encoder = encoder\n",
        "    self.decoder = decoder\n",
        "    self.device = device\n",
        "\n",
        "  def forward(self, source, target, teacher_forcing_ratio=0.5):\n",
        "    source = source.to(self.device)\n",
        "    target = target.to(self.device)\n",
        "\n",
        "    target_len = target.shape[0]\n",
        "    target_vocab_size = self.decoder.output_dim\n",
        "\n",
        "    outputs = torch.zeros(target_len, 1, target_vocab_size).to(self.device)\n",
        "    outputs[0][0][0] = 1  # O token inicial é o <sos> que tem índice 0.\n",
        "\n",
        "    hidden, cell = self.encoder(source)\n",
        "\n",
        "    input = target[0]\n",
        "    input = input.unsqueeze(0)\n",
        "\n",
        "    for t in range(1, target_len):\n",
        "      prediction, hidden, cell = self.decoder(input, hidden, cell)\n",
        "\n",
        "      outputs[t] = prediction\n",
        "      top1 = prediction.argmax(1)\n",
        "\n",
        "      teacher_force = random.random() < teacher_forcing_ratio\n",
        "\n",
        "      input = target[t].unsqueeze(0) if teacher_force else top1\n",
        "\n",
        "    return outputs"
      ]
    },
    {
      "cell_type": "code",
      "execution_count": null,
      "metadata": {
        "colab": {
          "base_uri": "https://localhost:8080/"
        },
        "id": "WtM7tzdu-PlL",
        "outputId": "90ea199c-cb64-406a-d2cf-0b4b66ce94bc"
      },
      "outputs": [
        {
          "data": {
            "text/plain": [
              "tensor([1, 2, 3])"
            ]
          },
          "execution_count": 45,
          "metadata": {},
          "output_type": "execute_result"
        }
      ],
      "source": [
        "x = torch.tensor([1,2,3])\n",
        "x"
      ]
    },
    {
      "cell_type": "code",
      "execution_count": null,
      "metadata": {
        "colab": {
          "base_uri": "https://localhost:8080/"
        },
        "id": "H6MkWzj5-S9V",
        "outputId": "084a4654-9229-4159-fb50-164b9da197ec"
      },
      "outputs": [
        {
          "data": {
            "text/plain": [
              "torch.Size([3])"
            ]
          },
          "execution_count": 46,
          "metadata": {},
          "output_type": "execute_result"
        }
      ],
      "source": [
        "x.shape"
      ]
    },
    {
      "cell_type": "code",
      "execution_count": null,
      "metadata": {
        "colab": {
          "base_uri": "https://localhost:8080/"
        },
        "id": "QvsxIRc6-TwQ",
        "outputId": "2b6b38ba-d33d-418d-8959-4da32df8e9cf"
      },
      "outputs": [
        {
          "data": {
            "text/plain": [
              "tensor([[1, 2, 3]])"
            ]
          },
          "execution_count": 47,
          "metadata": {},
          "output_type": "execute_result"
        }
      ],
      "source": [
        "x.unsqueeze(0)"
      ]
    },
    {
      "cell_type": "code",
      "execution_count": null,
      "metadata": {
        "colab": {
          "base_uri": "https://localhost:8080/"
        },
        "id": "8Z0OMPHs-Vzp",
        "outputId": "a487e77a-5075-440e-e0c2-f0d1fd3f928d"
      },
      "outputs": [
        {
          "data": {
            "text/plain": [
              "torch.Size([1, 3])"
            ]
          },
          "execution_count": 48,
          "metadata": {},
          "output_type": "execute_result"
        }
      ],
      "source": [
        "x.unsqueeze(0).shape"
      ]
    },
    {
      "cell_type": "code",
      "execution_count": null,
      "metadata": {
        "id": "6v3wktGW-anZ"
      },
      "outputs": [],
      "source": [
        "device = torch.device('cuda')\n",
        "seq2seq = Seq2Seq(encoder, decoder, device).to(device)"
      ]
    },
    {
      "cell_type": "code",
      "execution_count": null,
      "metadata": {
        "id": "ShpW9P9xAfQV"
      },
      "outputs": [],
      "source": [
        "from torch import optim\n",
        "\n",
        "optimizer = optim.Adam(seq2seq.parameters())\n",
        "loss_fn = nn.CrossEntropyLoss()"
      ]
    },
    {
      "cell_type": "code",
      "execution_count": null,
      "metadata": {
        "id": "P6fawWkNAn0D"
      },
      "outputs": [],
      "source": [
        "from tqdm.notebook import tqdm\n",
        "\n",
        "def train():\n",
        "  seq2seq.train()\n",
        "\n",
        "  epoch_loss = 0\n",
        "\n",
        "  for source, target in tqdm(dataloader_train):\n",
        "    optimizer.zero_grad()\n",
        "\n",
        "    source = source.to(device)\n",
        "    target = target.to(device)\n",
        "\n",
        "    # print('source', source)\n",
        "    # print('source shape', source.shape)\n",
        "\n",
        "    source = source.squeeze(0)\n",
        "    target = target.squeeze(0)\n",
        "    print(source)\n",
        "\n",
        "    # print('source squeeze', source)\n",
        "    # print('source shape squeeze', source.shape)\n",
        "\n",
        "    output = seq2seq(source, target)\n",
        "\n",
        "    # print('output', output)\n",
        "    # print('output shape', output.shape)\n",
        "\n",
        "    output = output[1:]\n",
        "    target = target[1:]\n",
        "\n",
        "    output = output.permute(1, 0, 2)\n",
        "    output = output.squeeze(0)\n",
        "\n",
        "    # print('output', output)\n",
        "    # print('output shape', output.shape)\n",
        "\n",
        "    # print('target', target)\n",
        "    # print('target shape', target.shape)\n",
        "\n",
        "    loss = loss_fn(output, target)\n",
        "\n",
        "    # print('loss', loss)\n",
        "    # print('loss shape', loss.shape)\n",
        "\n",
        "    loss.backward()\n",
        "    optimizer.step()\n",
        "\n",
        "    epoch_loss += loss.item()\n",
        "\n",
        "    # break\n",
        "\n",
        "  return epoch_loss/len(dataloader_train)\n"
      ]
    },
    {
      "cell_type": "code",
      "execution_count": null,
      "metadata": {
        "id": "xbKzxVfcCMiP"
      },
      "outputs": [],
      "source": [
        "def test():\n",
        "  seq2seq.eval()\n",
        "  epoch_loss = 0\n",
        "\n",
        "  with torch.no_grad():\n",
        "    for source, target in tqdm(dataloader_test):\n",
        "\n",
        "      source = source.to(device)\n",
        "      target = target.to(device)\n",
        "\n",
        "      source = source.squeeze(0)\n",
        "      target = target.to(device)\n",
        "      target = target.squeeze(0)\n",
        "\n",
        "      output = seq2seq(source, target)\n",
        "\n",
        "      output = output[1:]\n",
        "      target = target[1:]\n",
        "\n",
        "      output = output.permute(1, 0, 2)\n",
        "      output = output.squeeze(0)\n",
        "\n",
        "      loss = loss_fn(output, target)\n",
        "\n",
        "      epoch_loss += loss.item()\n",
        "\n",
        "  return epoch_loss/len(dataloader_test)"
      ]
    },
    {
      "cell_type": "code",
      "execution_count": null,
      "metadata": {
        "colab": {
          "base_uri": "https://localhost:8080/",
          "height": 182,
          "referenced_widgets": [
            "e93c02e15abc4932b358ae2976191cbe",
            "791e2a6b518d4d9183b527efad64e73e",
            "b51e2fce5a5848df93c5f0c3e8e7220e",
            "a9aa31b1856146ba9587ce7ed02b056e",
            "af0feecfcd07475db6b18daadc7fb270",
            "642322dfae4b489fba3503822bf9f7f7",
            "21c0cc4b1e684117bae1a4a93cb0ef51",
            "3d8d8e1816c944fe9afb9925143ea733",
            "1e2e48b8b4294536ab66abfebc799237",
            "75bfc13a670546f4bd0b4450696ae3a2",
            "3be26b2041dd462fa50697c49d93574c",
            "44cf4dff7457454e823b80951cfa8f34",
            "8b1c822b54de4d519b317e5a90d0cd85",
            "a6d43c2856d046ec85dc80c8187617a7",
            "6e7a7ee88a1b4f37a8888f5f738e9073",
            "cbf7a0b7e55a476ca336777b25c70bfe",
            "7f994b9701624cdfa1d389cfb286d08c",
            "4174129929ac421b86cf608f74d5b323",
            "bc7998587c8f4641887e772b3142f3cb",
            "5800e0c6e7c342609e637fbd8a2d2a03",
            "56e6b7d5e3fa4ceca8f96e6893067a2e",
            "eabfac99000c4e64ae5249f6b5d36c96",
            "f8337a380a75488b8d6b21d29be86f76",
            "49fc195b91a84cb495ef97f2e04b0cb8",
            "772e767737f448eb90cd469fa68767cf",
            "676e9eb0c2ee4675b0e75bc0c29784ce",
            "52ea42cfd3c54add9b288cd38ee9a064",
            "3ce66d190d9040e38775c7c281bcd4d8",
            "0e97773d9dbb46fc82a9ebd863528f42",
            "6374a0f8042343f684998fe6bb44b5fe",
            "baaaee9ee45946eab96a3c3e6a565ed3",
            "317280d368fa4796a30bf76ece012b6e",
            "46c106ee9b6148d39011cd69c3b5b503"
          ]
        },
        "id": "HJzGtWqfEj77",
        "outputId": "507787b2-c0f5-4e02-d3a9-7eec62155ee1"
      },
      "outputs": [
        {
          "name": "stdout",
          "output_type": "stream",
          "text": [
            "EPOCH 0\n"
          ]
        },
        {
          "data": {
            "application/vnd.jupyter.widget-view+json": {
              "model_id": "e93c02e15abc4932b358ae2976191cbe",
              "version_major": 2,
              "version_minor": 0
            },
            "text/plain": [
              "  0%|          | 0/50000 [00:00<?, ?it/s]"
            ]
          },
          "metadata": {},
          "output_type": "display_data"
        },
        {
          "name": "stdout",
          "output_type": "stream",
          "text": [
            "train loss: 4.293588434118629\n"
          ]
        },
        {
          "data": {
            "application/vnd.jupyter.widget-view+json": {
              "model_id": "44cf4dff7457454e823b80951cfa8f34",
              "version_major": 2,
              "version_minor": 0
            },
            "text/plain": [
              "  0%|          | 0/10000 [00:00<?, ?it/s]"
            ]
          },
          "metadata": {},
          "output_type": "display_data"
        },
        {
          "name": "stdout",
          "output_type": "stream",
          "text": [
            "test loss: 3.83805919188261\n",
            "EPOCH 1\n"
          ]
        },
        {
          "data": {
            "application/vnd.jupyter.widget-view+json": {
              "model_id": "f8337a380a75488b8d6b21d29be86f76",
              "version_major": 2,
              "version_minor": 0
            },
            "text/plain": [
              "  0%|          | 0/50000 [00:00<?, ?it/s]"
            ]
          },
          "metadata": {},
          "output_type": "display_data"
        }
      ],
      "source": [
        "N_EPOCHS = 4\n",
        "train_losses = []\n",
        "test_losses = []\n",
        "\n",
        "for epoch in range(N_EPOCHS):\n",
        "  print('EPOCH', epoch)\n",
        "\n",
        "  train_loss = train()\n",
        "  train_losses.append(train_loss)\n",
        "  print('train loss:', train_loss)\n",
        "\n",
        "  test_loss = test()\n",
        "  test_losses.append(test_loss)\n",
        "  print('test loss:', test_loss)\n",
        "\n"
      ]
    },
    {
      "cell_type": "code",
      "execution_count": null,
      "metadata": {
        "id": "IXrWcXVAE6ZY"
      },
      "outputs": [],
      "source": []
    }
  ],
  "metadata": {
    "accelerator": "GPU",
    "colab": {
      "gpuType": "T4",
      "provenance": []
    },
    "kernelspec": {
      "display_name": "Python 3",
      "name": "python3"
    },
    "language_info": {
      "codemirror_mode": {
        "name": "ipython",
        "version": 3
      },
      "file_extension": ".py",
      "mimetype": "text/x-python",
      "name": "python",
      "nbconvert_exporter": "python",
      "pygments_lexer": "ipython3",
      "version": "3.8.10"
    },
    "widgets": {
      "application/vnd.jupyter.widget-state+json": {
        "0e97773d9dbb46fc82a9ebd863528f42": {
          "model_module": "@jupyter-widgets/controls",
          "model_module_version": "1.5.0",
          "model_name": "DescriptionStyleModel",
          "state": {
            "_model_module": "@jupyter-widgets/controls",
            "_model_module_version": "1.5.0",
            "_model_name": "DescriptionStyleModel",
            "_view_count": null,
            "_view_module": "@jupyter-widgets/base",
            "_view_module_version": "1.2.0",
            "_view_name": "StyleView",
            "description_width": ""
          }
        },
        "1e2e48b8b4294536ab66abfebc799237": {
          "model_module": "@jupyter-widgets/controls",
          "model_module_version": "1.5.0",
          "model_name": "ProgressStyleModel",
          "state": {
            "_model_module": "@jupyter-widgets/controls",
            "_model_module_version": "1.5.0",
            "_model_name": "ProgressStyleModel",
            "_view_count": null,
            "_view_module": "@jupyter-widgets/base",
            "_view_module_version": "1.2.0",
            "_view_name": "StyleView",
            "bar_color": null,
            "description_width": ""
          }
        },
        "21c0cc4b1e684117bae1a4a93cb0ef51": {
          "model_module": "@jupyter-widgets/controls",
          "model_module_version": "1.5.0",
          "model_name": "DescriptionStyleModel",
          "state": {
            "_model_module": "@jupyter-widgets/controls",
            "_model_module_version": "1.5.0",
            "_model_name": "DescriptionStyleModel",
            "_view_count": null,
            "_view_module": "@jupyter-widgets/base",
            "_view_module_version": "1.2.0",
            "_view_name": "StyleView",
            "description_width": ""
          }
        },
        "317280d368fa4796a30bf76ece012b6e": {
          "model_module": "@jupyter-widgets/base",
          "model_module_version": "1.2.0",
          "model_name": "LayoutModel",
          "state": {
            "_model_module": "@jupyter-widgets/base",
            "_model_module_version": "1.2.0",
            "_model_name": "LayoutModel",
            "_view_count": null,
            "_view_module": "@jupyter-widgets/base",
            "_view_module_version": "1.2.0",
            "_view_name": "LayoutView",
            "align_content": null,
            "align_items": null,
            "align_self": null,
            "border": null,
            "bottom": null,
            "display": null,
            "flex": null,
            "flex_flow": null,
            "grid_area": null,
            "grid_auto_columns": null,
            "grid_auto_flow": null,
            "grid_auto_rows": null,
            "grid_column": null,
            "grid_gap": null,
            "grid_row": null,
            "grid_template_areas": null,
            "grid_template_columns": null,
            "grid_template_rows": null,
            "height": null,
            "justify_content": null,
            "justify_items": null,
            "left": null,
            "margin": null,
            "max_height": null,
            "max_width": null,
            "min_height": null,
            "min_width": null,
            "object_fit": null,
            "object_position": null,
            "order": null,
            "overflow": null,
            "overflow_x": null,
            "overflow_y": null,
            "padding": null,
            "right": null,
            "top": null,
            "visibility": null,
            "width": null
          }
        },
        "3be26b2041dd462fa50697c49d93574c": {
          "model_module": "@jupyter-widgets/controls",
          "model_module_version": "1.5.0",
          "model_name": "DescriptionStyleModel",
          "state": {
            "_model_module": "@jupyter-widgets/controls",
            "_model_module_version": "1.5.0",
            "_model_name": "DescriptionStyleModel",
            "_view_count": null,
            "_view_module": "@jupyter-widgets/base",
            "_view_module_version": "1.2.0",
            "_view_name": "StyleView",
            "description_width": ""
          }
        },
        "3ce66d190d9040e38775c7c281bcd4d8": {
          "model_module": "@jupyter-widgets/base",
          "model_module_version": "1.2.0",
          "model_name": "LayoutModel",
          "state": {
            "_model_module": "@jupyter-widgets/base",
            "_model_module_version": "1.2.0",
            "_model_name": "LayoutModel",
            "_view_count": null,
            "_view_module": "@jupyter-widgets/base",
            "_view_module_version": "1.2.0",
            "_view_name": "LayoutView",
            "align_content": null,
            "align_items": null,
            "align_self": null,
            "border": null,
            "bottom": null,
            "display": null,
            "flex": null,
            "flex_flow": null,
            "grid_area": null,
            "grid_auto_columns": null,
            "grid_auto_flow": null,
            "grid_auto_rows": null,
            "grid_column": null,
            "grid_gap": null,
            "grid_row": null,
            "grid_template_areas": null,
            "grid_template_columns": null,
            "grid_template_rows": null,
            "height": null,
            "justify_content": null,
            "justify_items": null,
            "left": null,
            "margin": null,
            "max_height": null,
            "max_width": null,
            "min_height": null,
            "min_width": null,
            "object_fit": null,
            "object_position": null,
            "order": null,
            "overflow": null,
            "overflow_x": null,
            "overflow_y": null,
            "padding": null,
            "right": null,
            "top": null,
            "visibility": null,
            "width": null
          }
        },
        "3d8d8e1816c944fe9afb9925143ea733": {
          "model_module": "@jupyter-widgets/base",
          "model_module_version": "1.2.0",
          "model_name": "LayoutModel",
          "state": {
            "_model_module": "@jupyter-widgets/base",
            "_model_module_version": "1.2.0",
            "_model_name": "LayoutModel",
            "_view_count": null,
            "_view_module": "@jupyter-widgets/base",
            "_view_module_version": "1.2.0",
            "_view_name": "LayoutView",
            "align_content": null,
            "align_items": null,
            "align_self": null,
            "border": null,
            "bottom": null,
            "display": null,
            "flex": null,
            "flex_flow": null,
            "grid_area": null,
            "grid_auto_columns": null,
            "grid_auto_flow": null,
            "grid_auto_rows": null,
            "grid_column": null,
            "grid_gap": null,
            "grid_row": null,
            "grid_template_areas": null,
            "grid_template_columns": null,
            "grid_template_rows": null,
            "height": null,
            "justify_content": null,
            "justify_items": null,
            "left": null,
            "margin": null,
            "max_height": null,
            "max_width": null,
            "min_height": null,
            "min_width": null,
            "object_fit": null,
            "object_position": null,
            "order": null,
            "overflow": null,
            "overflow_x": null,
            "overflow_y": null,
            "padding": null,
            "right": null,
            "top": null,
            "visibility": null,
            "width": null
          }
        },
        "4174129929ac421b86cf608f74d5b323": {
          "model_module": "@jupyter-widgets/controls",
          "model_module_version": "1.5.0",
          "model_name": "DescriptionStyleModel",
          "state": {
            "_model_module": "@jupyter-widgets/controls",
            "_model_module_version": "1.5.0",
            "_model_name": "DescriptionStyleModel",
            "_view_count": null,
            "_view_module": "@jupyter-widgets/base",
            "_view_module_version": "1.2.0",
            "_view_name": "StyleView",
            "description_width": ""
          }
        },
        "44cf4dff7457454e823b80951cfa8f34": {
          "model_module": "@jupyter-widgets/controls",
          "model_module_version": "1.5.0",
          "model_name": "HBoxModel",
          "state": {
            "_dom_classes": [],
            "_model_module": "@jupyter-widgets/controls",
            "_model_module_version": "1.5.0",
            "_model_name": "HBoxModel",
            "_view_count": null,
            "_view_module": "@jupyter-widgets/controls",
            "_view_module_version": "1.5.0",
            "_view_name": "HBoxView",
            "box_style": "",
            "children": [
              "IPY_MODEL_8b1c822b54de4d519b317e5a90d0cd85",
              "IPY_MODEL_a6d43c2856d046ec85dc80c8187617a7",
              "IPY_MODEL_6e7a7ee88a1b4f37a8888f5f738e9073"
            ],
            "layout": "IPY_MODEL_cbf7a0b7e55a476ca336777b25c70bfe"
          }
        },
        "46c106ee9b6148d39011cd69c3b5b503": {
          "model_module": "@jupyter-widgets/controls",
          "model_module_version": "1.5.0",
          "model_name": "DescriptionStyleModel",
          "state": {
            "_model_module": "@jupyter-widgets/controls",
            "_model_module_version": "1.5.0",
            "_model_name": "DescriptionStyleModel",
            "_view_count": null,
            "_view_module": "@jupyter-widgets/base",
            "_view_module_version": "1.2.0",
            "_view_name": "StyleView",
            "description_width": ""
          }
        },
        "49fc195b91a84cb495ef97f2e04b0cb8": {
          "model_module": "@jupyter-widgets/controls",
          "model_module_version": "1.5.0",
          "model_name": "HTMLModel",
          "state": {
            "_dom_classes": [],
            "_model_module": "@jupyter-widgets/controls",
            "_model_module_version": "1.5.0",
            "_model_name": "HTMLModel",
            "_view_count": null,
            "_view_module": "@jupyter-widgets/controls",
            "_view_module_version": "1.5.0",
            "_view_name": "HTMLView",
            "description": "",
            "description_tooltip": null,
            "layout": "IPY_MODEL_3ce66d190d9040e38775c7c281bcd4d8",
            "placeholder": "​",
            "style": "IPY_MODEL_0e97773d9dbb46fc82a9ebd863528f42",
            "value": " 50%"
          }
        },
        "52ea42cfd3c54add9b288cd38ee9a064": {
          "model_module": "@jupyter-widgets/base",
          "model_module_version": "1.2.0",
          "model_name": "LayoutModel",
          "state": {
            "_model_module": "@jupyter-widgets/base",
            "_model_module_version": "1.2.0",
            "_model_name": "LayoutModel",
            "_view_count": null,
            "_view_module": "@jupyter-widgets/base",
            "_view_module_version": "1.2.0",
            "_view_name": "LayoutView",
            "align_content": null,
            "align_items": null,
            "align_self": null,
            "border": null,
            "bottom": null,
            "display": null,
            "flex": null,
            "flex_flow": null,
            "grid_area": null,
            "grid_auto_columns": null,
            "grid_auto_flow": null,
            "grid_auto_rows": null,
            "grid_column": null,
            "grid_gap": null,
            "grid_row": null,
            "grid_template_areas": null,
            "grid_template_columns": null,
            "grid_template_rows": null,
            "height": null,
            "justify_content": null,
            "justify_items": null,
            "left": null,
            "margin": null,
            "max_height": null,
            "max_width": null,
            "min_height": null,
            "min_width": null,
            "object_fit": null,
            "object_position": null,
            "order": null,
            "overflow": null,
            "overflow_x": null,
            "overflow_y": null,
            "padding": null,
            "right": null,
            "top": null,
            "visibility": null,
            "width": null
          }
        },
        "56e6b7d5e3fa4ceca8f96e6893067a2e": {
          "model_module": "@jupyter-widgets/base",
          "model_module_version": "1.2.0",
          "model_name": "LayoutModel",
          "state": {
            "_model_module": "@jupyter-widgets/base",
            "_model_module_version": "1.2.0",
            "_model_name": "LayoutModel",
            "_view_count": null,
            "_view_module": "@jupyter-widgets/base",
            "_view_module_version": "1.2.0",
            "_view_name": "LayoutView",
            "align_content": null,
            "align_items": null,
            "align_self": null,
            "border": null,
            "bottom": null,
            "display": null,
            "flex": null,
            "flex_flow": null,
            "grid_area": null,
            "grid_auto_columns": null,
            "grid_auto_flow": null,
            "grid_auto_rows": null,
            "grid_column": null,
            "grid_gap": null,
            "grid_row": null,
            "grid_template_areas": null,
            "grid_template_columns": null,
            "grid_template_rows": null,
            "height": null,
            "justify_content": null,
            "justify_items": null,
            "left": null,
            "margin": null,
            "max_height": null,
            "max_width": null,
            "min_height": null,
            "min_width": null,
            "object_fit": null,
            "object_position": null,
            "order": null,
            "overflow": null,
            "overflow_x": null,
            "overflow_y": null,
            "padding": null,
            "right": null,
            "top": null,
            "visibility": null,
            "width": null
          }
        },
        "5800e0c6e7c342609e637fbd8a2d2a03": {
          "model_module": "@jupyter-widgets/controls",
          "model_module_version": "1.5.0",
          "model_name": "ProgressStyleModel",
          "state": {
            "_model_module": "@jupyter-widgets/controls",
            "_model_module_version": "1.5.0",
            "_model_name": "ProgressStyleModel",
            "_view_count": null,
            "_view_module": "@jupyter-widgets/base",
            "_view_module_version": "1.2.0",
            "_view_name": "StyleView",
            "bar_color": null,
            "description_width": ""
          }
        },
        "6374a0f8042343f684998fe6bb44b5fe": {
          "model_module": "@jupyter-widgets/base",
          "model_module_version": "1.2.0",
          "model_name": "LayoutModel",
          "state": {
            "_model_module": "@jupyter-widgets/base",
            "_model_module_version": "1.2.0",
            "_model_name": "LayoutModel",
            "_view_count": null,
            "_view_module": "@jupyter-widgets/base",
            "_view_module_version": "1.2.0",
            "_view_name": "LayoutView",
            "align_content": null,
            "align_items": null,
            "align_self": null,
            "border": null,
            "bottom": null,
            "display": null,
            "flex": null,
            "flex_flow": null,
            "grid_area": null,
            "grid_auto_columns": null,
            "grid_auto_flow": null,
            "grid_auto_rows": null,
            "grid_column": null,
            "grid_gap": null,
            "grid_row": null,
            "grid_template_areas": null,
            "grid_template_columns": null,
            "grid_template_rows": null,
            "height": null,
            "justify_content": null,
            "justify_items": null,
            "left": null,
            "margin": null,
            "max_height": null,
            "max_width": null,
            "min_height": null,
            "min_width": null,
            "object_fit": null,
            "object_position": null,
            "order": null,
            "overflow": null,
            "overflow_x": null,
            "overflow_y": null,
            "padding": null,
            "right": null,
            "top": null,
            "visibility": null,
            "width": null
          }
        },
        "642322dfae4b489fba3503822bf9f7f7": {
          "model_module": "@jupyter-widgets/base",
          "model_module_version": "1.2.0",
          "model_name": "LayoutModel",
          "state": {
            "_model_module": "@jupyter-widgets/base",
            "_model_module_version": "1.2.0",
            "_model_name": "LayoutModel",
            "_view_count": null,
            "_view_module": "@jupyter-widgets/base",
            "_view_module_version": "1.2.0",
            "_view_name": "LayoutView",
            "align_content": null,
            "align_items": null,
            "align_self": null,
            "border": null,
            "bottom": null,
            "display": null,
            "flex": null,
            "flex_flow": null,
            "grid_area": null,
            "grid_auto_columns": null,
            "grid_auto_flow": null,
            "grid_auto_rows": null,
            "grid_column": null,
            "grid_gap": null,
            "grid_row": null,
            "grid_template_areas": null,
            "grid_template_columns": null,
            "grid_template_rows": null,
            "height": null,
            "justify_content": null,
            "justify_items": null,
            "left": null,
            "margin": null,
            "max_height": null,
            "max_width": null,
            "min_height": null,
            "min_width": null,
            "object_fit": null,
            "object_position": null,
            "order": null,
            "overflow": null,
            "overflow_x": null,
            "overflow_y": null,
            "padding": null,
            "right": null,
            "top": null,
            "visibility": null,
            "width": null
          }
        },
        "676e9eb0c2ee4675b0e75bc0c29784ce": {
          "model_module": "@jupyter-widgets/controls",
          "model_module_version": "1.5.0",
          "model_name": "HTMLModel",
          "state": {
            "_dom_classes": [],
            "_model_module": "@jupyter-widgets/controls",
            "_model_module_version": "1.5.0",
            "_model_name": "HTMLModel",
            "_view_count": null,
            "_view_module": "@jupyter-widgets/controls",
            "_view_module_version": "1.5.0",
            "_view_name": "HTMLView",
            "description": "",
            "description_tooltip": null,
            "layout": "IPY_MODEL_317280d368fa4796a30bf76ece012b6e",
            "placeholder": "​",
            "style": "IPY_MODEL_46c106ee9b6148d39011cd69c3b5b503",
            "value": " 24779/50000 [04:27&lt;04:05, 102.65it/s]"
          }
        },
        "6e7a7ee88a1b4f37a8888f5f738e9073": {
          "model_module": "@jupyter-widgets/controls",
          "model_module_version": "1.5.0",
          "model_name": "HTMLModel",
          "state": {
            "_dom_classes": [],
            "_model_module": "@jupyter-widgets/controls",
            "_model_module_version": "1.5.0",
            "_model_name": "HTMLModel",
            "_view_count": null,
            "_view_module": "@jupyter-widgets/controls",
            "_view_module_version": "1.5.0",
            "_view_name": "HTMLView",
            "description": "",
            "description_tooltip": null,
            "layout": "IPY_MODEL_56e6b7d5e3fa4ceca8f96e6893067a2e",
            "placeholder": "​",
            "style": "IPY_MODEL_eabfac99000c4e64ae5249f6b5d36c96",
            "value": " 10000/10000 [00:36&lt;00:00, 283.76it/s]"
          }
        },
        "75bfc13a670546f4bd0b4450696ae3a2": {
          "model_module": "@jupyter-widgets/base",
          "model_module_version": "1.2.0",
          "model_name": "LayoutModel",
          "state": {
            "_model_module": "@jupyter-widgets/base",
            "_model_module_version": "1.2.0",
            "_model_name": "LayoutModel",
            "_view_count": null,
            "_view_module": "@jupyter-widgets/base",
            "_view_module_version": "1.2.0",
            "_view_name": "LayoutView",
            "align_content": null,
            "align_items": null,
            "align_self": null,
            "border": null,
            "bottom": null,
            "display": null,
            "flex": null,
            "flex_flow": null,
            "grid_area": null,
            "grid_auto_columns": null,
            "grid_auto_flow": null,
            "grid_auto_rows": null,
            "grid_column": null,
            "grid_gap": null,
            "grid_row": null,
            "grid_template_areas": null,
            "grid_template_columns": null,
            "grid_template_rows": null,
            "height": null,
            "justify_content": null,
            "justify_items": null,
            "left": null,
            "margin": null,
            "max_height": null,
            "max_width": null,
            "min_height": null,
            "min_width": null,
            "object_fit": null,
            "object_position": null,
            "order": null,
            "overflow": null,
            "overflow_x": null,
            "overflow_y": null,
            "padding": null,
            "right": null,
            "top": null,
            "visibility": null,
            "width": null
          }
        },
        "772e767737f448eb90cd469fa68767cf": {
          "model_module": "@jupyter-widgets/controls",
          "model_module_version": "1.5.0",
          "model_name": "FloatProgressModel",
          "state": {
            "_dom_classes": [],
            "_model_module": "@jupyter-widgets/controls",
            "_model_module_version": "1.5.0",
            "_model_name": "FloatProgressModel",
            "_view_count": null,
            "_view_module": "@jupyter-widgets/controls",
            "_view_module_version": "1.5.0",
            "_view_name": "ProgressView",
            "bar_style": "",
            "description": "",
            "description_tooltip": null,
            "layout": "IPY_MODEL_6374a0f8042343f684998fe6bb44b5fe",
            "max": 50000,
            "min": 0,
            "orientation": "horizontal",
            "style": "IPY_MODEL_baaaee9ee45946eab96a3c3e6a565ed3",
            "value": 24779
          }
        },
        "791e2a6b518d4d9183b527efad64e73e": {
          "model_module": "@jupyter-widgets/controls",
          "model_module_version": "1.5.0",
          "model_name": "HTMLModel",
          "state": {
            "_dom_classes": [],
            "_model_module": "@jupyter-widgets/controls",
            "_model_module_version": "1.5.0",
            "_model_name": "HTMLModel",
            "_view_count": null,
            "_view_module": "@jupyter-widgets/controls",
            "_view_module_version": "1.5.0",
            "_view_name": "HTMLView",
            "description": "",
            "description_tooltip": null,
            "layout": "IPY_MODEL_642322dfae4b489fba3503822bf9f7f7",
            "placeholder": "​",
            "style": "IPY_MODEL_21c0cc4b1e684117bae1a4a93cb0ef51",
            "value": "100%"
          }
        },
        "7f994b9701624cdfa1d389cfb286d08c": {
          "model_module": "@jupyter-widgets/base",
          "model_module_version": "1.2.0",
          "model_name": "LayoutModel",
          "state": {
            "_model_module": "@jupyter-widgets/base",
            "_model_module_version": "1.2.0",
            "_model_name": "LayoutModel",
            "_view_count": null,
            "_view_module": "@jupyter-widgets/base",
            "_view_module_version": "1.2.0",
            "_view_name": "LayoutView",
            "align_content": null,
            "align_items": null,
            "align_self": null,
            "border": null,
            "bottom": null,
            "display": null,
            "flex": null,
            "flex_flow": null,
            "grid_area": null,
            "grid_auto_columns": null,
            "grid_auto_flow": null,
            "grid_auto_rows": null,
            "grid_column": null,
            "grid_gap": null,
            "grid_row": null,
            "grid_template_areas": null,
            "grid_template_columns": null,
            "grid_template_rows": null,
            "height": null,
            "justify_content": null,
            "justify_items": null,
            "left": null,
            "margin": null,
            "max_height": null,
            "max_width": null,
            "min_height": null,
            "min_width": null,
            "object_fit": null,
            "object_position": null,
            "order": null,
            "overflow": null,
            "overflow_x": null,
            "overflow_y": null,
            "padding": null,
            "right": null,
            "top": null,
            "visibility": null,
            "width": null
          }
        },
        "8b1c822b54de4d519b317e5a90d0cd85": {
          "model_module": "@jupyter-widgets/controls",
          "model_module_version": "1.5.0",
          "model_name": "HTMLModel",
          "state": {
            "_dom_classes": [],
            "_model_module": "@jupyter-widgets/controls",
            "_model_module_version": "1.5.0",
            "_model_name": "HTMLModel",
            "_view_count": null,
            "_view_module": "@jupyter-widgets/controls",
            "_view_module_version": "1.5.0",
            "_view_name": "HTMLView",
            "description": "",
            "description_tooltip": null,
            "layout": "IPY_MODEL_7f994b9701624cdfa1d389cfb286d08c",
            "placeholder": "​",
            "style": "IPY_MODEL_4174129929ac421b86cf608f74d5b323",
            "value": "100%"
          }
        },
        "a6d43c2856d046ec85dc80c8187617a7": {
          "model_module": "@jupyter-widgets/controls",
          "model_module_version": "1.5.0",
          "model_name": "FloatProgressModel",
          "state": {
            "_dom_classes": [],
            "_model_module": "@jupyter-widgets/controls",
            "_model_module_version": "1.5.0",
            "_model_name": "FloatProgressModel",
            "_view_count": null,
            "_view_module": "@jupyter-widgets/controls",
            "_view_module_version": "1.5.0",
            "_view_name": "ProgressView",
            "bar_style": "success",
            "description": "",
            "description_tooltip": null,
            "layout": "IPY_MODEL_bc7998587c8f4641887e772b3142f3cb",
            "max": 10000,
            "min": 0,
            "orientation": "horizontal",
            "style": "IPY_MODEL_5800e0c6e7c342609e637fbd8a2d2a03",
            "value": 10000
          }
        },
        "a9aa31b1856146ba9587ce7ed02b056e": {
          "model_module": "@jupyter-widgets/controls",
          "model_module_version": "1.5.0",
          "model_name": "HTMLModel",
          "state": {
            "_dom_classes": [],
            "_model_module": "@jupyter-widgets/controls",
            "_model_module_version": "1.5.0",
            "_model_name": "HTMLModel",
            "_view_count": null,
            "_view_module": "@jupyter-widgets/controls",
            "_view_module_version": "1.5.0",
            "_view_name": "HTMLView",
            "description": "",
            "description_tooltip": null,
            "layout": "IPY_MODEL_75bfc13a670546f4bd0b4450696ae3a2",
            "placeholder": "​",
            "style": "IPY_MODEL_3be26b2041dd462fa50697c49d93574c",
            "value": " 50000/50000 [08:58&lt;00:00, 69.29it/s]"
          }
        },
        "af0feecfcd07475db6b18daadc7fb270": {
          "model_module": "@jupyter-widgets/base",
          "model_module_version": "1.2.0",
          "model_name": "LayoutModel",
          "state": {
            "_model_module": "@jupyter-widgets/base",
            "_model_module_version": "1.2.0",
            "_model_name": "LayoutModel",
            "_view_count": null,
            "_view_module": "@jupyter-widgets/base",
            "_view_module_version": "1.2.0",
            "_view_name": "LayoutView",
            "align_content": null,
            "align_items": null,
            "align_self": null,
            "border": null,
            "bottom": null,
            "display": null,
            "flex": null,
            "flex_flow": null,
            "grid_area": null,
            "grid_auto_columns": null,
            "grid_auto_flow": null,
            "grid_auto_rows": null,
            "grid_column": null,
            "grid_gap": null,
            "grid_row": null,
            "grid_template_areas": null,
            "grid_template_columns": null,
            "grid_template_rows": null,
            "height": null,
            "justify_content": null,
            "justify_items": null,
            "left": null,
            "margin": null,
            "max_height": null,
            "max_width": null,
            "min_height": null,
            "min_width": null,
            "object_fit": null,
            "object_position": null,
            "order": null,
            "overflow": null,
            "overflow_x": null,
            "overflow_y": null,
            "padding": null,
            "right": null,
            "top": null,
            "visibility": null,
            "width": null
          }
        },
        "b51e2fce5a5848df93c5f0c3e8e7220e": {
          "model_module": "@jupyter-widgets/controls",
          "model_module_version": "1.5.0",
          "model_name": "FloatProgressModel",
          "state": {
            "_dom_classes": [],
            "_model_module": "@jupyter-widgets/controls",
            "_model_module_version": "1.5.0",
            "_model_name": "FloatProgressModel",
            "_view_count": null,
            "_view_module": "@jupyter-widgets/controls",
            "_view_module_version": "1.5.0",
            "_view_name": "ProgressView",
            "bar_style": "success",
            "description": "",
            "description_tooltip": null,
            "layout": "IPY_MODEL_3d8d8e1816c944fe9afb9925143ea733",
            "max": 50000,
            "min": 0,
            "orientation": "horizontal",
            "style": "IPY_MODEL_1e2e48b8b4294536ab66abfebc799237",
            "value": 50000
          }
        },
        "baaaee9ee45946eab96a3c3e6a565ed3": {
          "model_module": "@jupyter-widgets/controls",
          "model_module_version": "1.5.0",
          "model_name": "ProgressStyleModel",
          "state": {
            "_model_module": "@jupyter-widgets/controls",
            "_model_module_version": "1.5.0",
            "_model_name": "ProgressStyleModel",
            "_view_count": null,
            "_view_module": "@jupyter-widgets/base",
            "_view_module_version": "1.2.0",
            "_view_name": "StyleView",
            "bar_color": null,
            "description_width": ""
          }
        },
        "bc7998587c8f4641887e772b3142f3cb": {
          "model_module": "@jupyter-widgets/base",
          "model_module_version": "1.2.0",
          "model_name": "LayoutModel",
          "state": {
            "_model_module": "@jupyter-widgets/base",
            "_model_module_version": "1.2.0",
            "_model_name": "LayoutModel",
            "_view_count": null,
            "_view_module": "@jupyter-widgets/base",
            "_view_module_version": "1.2.0",
            "_view_name": "LayoutView",
            "align_content": null,
            "align_items": null,
            "align_self": null,
            "border": null,
            "bottom": null,
            "display": null,
            "flex": null,
            "flex_flow": null,
            "grid_area": null,
            "grid_auto_columns": null,
            "grid_auto_flow": null,
            "grid_auto_rows": null,
            "grid_column": null,
            "grid_gap": null,
            "grid_row": null,
            "grid_template_areas": null,
            "grid_template_columns": null,
            "grid_template_rows": null,
            "height": null,
            "justify_content": null,
            "justify_items": null,
            "left": null,
            "margin": null,
            "max_height": null,
            "max_width": null,
            "min_height": null,
            "min_width": null,
            "object_fit": null,
            "object_position": null,
            "order": null,
            "overflow": null,
            "overflow_x": null,
            "overflow_y": null,
            "padding": null,
            "right": null,
            "top": null,
            "visibility": null,
            "width": null
          }
        },
        "cbf7a0b7e55a476ca336777b25c70bfe": {
          "model_module": "@jupyter-widgets/base",
          "model_module_version": "1.2.0",
          "model_name": "LayoutModel",
          "state": {
            "_model_module": "@jupyter-widgets/base",
            "_model_module_version": "1.2.0",
            "_model_name": "LayoutModel",
            "_view_count": null,
            "_view_module": "@jupyter-widgets/base",
            "_view_module_version": "1.2.0",
            "_view_name": "LayoutView",
            "align_content": null,
            "align_items": null,
            "align_self": null,
            "border": null,
            "bottom": null,
            "display": null,
            "flex": null,
            "flex_flow": null,
            "grid_area": null,
            "grid_auto_columns": null,
            "grid_auto_flow": null,
            "grid_auto_rows": null,
            "grid_column": null,
            "grid_gap": null,
            "grid_row": null,
            "grid_template_areas": null,
            "grid_template_columns": null,
            "grid_template_rows": null,
            "height": null,
            "justify_content": null,
            "justify_items": null,
            "left": null,
            "margin": null,
            "max_height": null,
            "max_width": null,
            "min_height": null,
            "min_width": null,
            "object_fit": null,
            "object_position": null,
            "order": null,
            "overflow": null,
            "overflow_x": null,
            "overflow_y": null,
            "padding": null,
            "right": null,
            "top": null,
            "visibility": null,
            "width": null
          }
        },
        "e93c02e15abc4932b358ae2976191cbe": {
          "model_module": "@jupyter-widgets/controls",
          "model_module_version": "1.5.0",
          "model_name": "HBoxModel",
          "state": {
            "_dom_classes": [],
            "_model_module": "@jupyter-widgets/controls",
            "_model_module_version": "1.5.0",
            "_model_name": "HBoxModel",
            "_view_count": null,
            "_view_module": "@jupyter-widgets/controls",
            "_view_module_version": "1.5.0",
            "_view_name": "HBoxView",
            "box_style": "",
            "children": [
              "IPY_MODEL_791e2a6b518d4d9183b527efad64e73e",
              "IPY_MODEL_b51e2fce5a5848df93c5f0c3e8e7220e",
              "IPY_MODEL_a9aa31b1856146ba9587ce7ed02b056e"
            ],
            "layout": "IPY_MODEL_af0feecfcd07475db6b18daadc7fb270"
          }
        },
        "eabfac99000c4e64ae5249f6b5d36c96": {
          "model_module": "@jupyter-widgets/controls",
          "model_module_version": "1.5.0",
          "model_name": "DescriptionStyleModel",
          "state": {
            "_model_module": "@jupyter-widgets/controls",
            "_model_module_version": "1.5.0",
            "_model_name": "DescriptionStyleModel",
            "_view_count": null,
            "_view_module": "@jupyter-widgets/base",
            "_view_module_version": "1.2.0",
            "_view_name": "StyleView",
            "description_width": ""
          }
        },
        "f8337a380a75488b8d6b21d29be86f76": {
          "model_module": "@jupyter-widgets/controls",
          "model_module_version": "1.5.0",
          "model_name": "HBoxModel",
          "state": {
            "_dom_classes": [],
            "_model_module": "@jupyter-widgets/controls",
            "_model_module_version": "1.5.0",
            "_model_name": "HBoxModel",
            "_view_count": null,
            "_view_module": "@jupyter-widgets/controls",
            "_view_module_version": "1.5.0",
            "_view_name": "HBoxView",
            "box_style": "",
            "children": [
              "IPY_MODEL_49fc195b91a84cb495ef97f2e04b0cb8",
              "IPY_MODEL_772e767737f448eb90cd469fa68767cf",
              "IPY_MODEL_676e9eb0c2ee4675b0e75bc0c29784ce"
            ],
            "layout": "IPY_MODEL_52ea42cfd3c54add9b288cd38ee9a064"
          }
        }
      }
    }
  },
  "nbformat": 4,
  "nbformat_minor": 0
}
