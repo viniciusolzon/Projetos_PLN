{
 "cells": [
  {
   "cell_type": "code",
   "execution_count": 63,
   "id": "5e4d30db",
   "metadata": {},
   "outputs": [],
   "source": [
    "import pandas as pd"
   ]
  },
  {
   "cell_type": "code",
   "execution_count": 64,
   "id": "c1f1d727",
   "metadata": {},
   "outputs": [
    {
     "name": "stderr",
     "output_type": "stream",
     "text": [
      "/var/folders/vb/q6czv8r938d0bnqp76zgy5km0000gn/T/ipykernel_35810/1153590322.py:1: DtypeWarning: Columns (2) have mixed types. Specify dtype option on import or set low_memory=False.\n",
      "  df = pd.read_csv('B2W-Reviews01.csv')\n"
     ]
    }
   ],
   "source": [
    "df = pd.read_csv('B2W-Reviews01.csv')"
   ]
  },
  {
   "cell_type": "code",
   "execution_count": 65,
   "id": "24e06c55",
   "metadata": {},
   "outputs": [],
   "source": [
    "texts = df['review_text']"
   ]
  },
  {
   "cell_type": "code",
   "execution_count": 66,
   "id": "26f6166f",
   "metadata": {},
   "outputs": [],
   "source": [
    "texts = texts.dropna()"
   ]
  },
  {
   "cell_type": "code",
   "execution_count": 67,
   "id": "8bc597bd",
   "metadata": {},
   "outputs": [],
   "source": [
    "texts = texts.reset_index(drop=True)"
   ]
  },
  {
   "cell_type": "code",
   "execution_count": 68,
   "id": "58d46ed6",
   "metadata": {},
   "outputs": [
    {
     "data": {
      "text/plain": [
       "0         Estou contente com a compra entrega rápida o ú...\n",
       "1         Por apenas R$1994.20,eu consegui comprar esse ...\n",
       "2         SUPERA EM AGILIDADE E PRATICIDADE OUTRAS PANEL...\n",
       "3         MEU FILHO AMOU! PARECE DE VERDADE COM TANTOS D...\n",
       "4         A entrega foi no prazo, as americanas estão de...\n",
       "                                ...                        \n",
       "129093    Vale muito, estou usando no controle do Xbox e...\n",
       "129094    Prático e barato, super indico o produto para ...\n",
       "129095    Chegou antes do prazo previsto e corresponde a...\n",
       "129096    Material fraco, poderia ser melhor. Ficou deve...\n",
       "129097    Comprei esse produto, quando chegou estava com...\n",
       "Name: review_text, Length: 129098, dtype: object"
      ]
     },
     "execution_count": 68,
     "metadata": {},
     "output_type": "execute_result"
    }
   ],
   "source": [
    "texts"
   ]
  },
  {
   "cell_type": "code",
   "execution_count": 69,
   "id": "d77c7c1d",
   "metadata": {},
   "outputs": [],
   "source": [
    "from sklearn.feature_extraction.text import TfidfVectorizer\n",
    "\n",
    "tfidf_vectorizer = TfidfVectorizer()\n",
    "tfidf = tfidf_vectorizer.fit_transform(texts)"
   ]
  },
  {
   "cell_type": "code",
   "execution_count": 70,
   "id": "84685c9a",
   "metadata": {},
   "outputs": [
    {
     "data": {
      "text/plain": [
       "(129098, 50336)"
      ]
     },
     "execution_count": 70,
     "metadata": {},
     "output_type": "execute_result"
    }
   ],
   "source": [
    "tfidf.toarray().shape"
   ]
  },
  {
   "cell_type": "code",
   "execution_count": 71,
   "id": "fa85241a",
   "metadata": {},
   "outputs": [],
   "source": [
    "tfidf_array = tfidf.toarray()[:10000]"
   ]
  },
  {
   "cell_type": "code",
   "execution_count": 98,
   "id": "49428b14",
   "metadata": {},
   "outputs": [],
   "source": [
    "input_review = 'a bateria do produto explodiu e pegou fogo'"
   ]
  },
  {
   "cell_type": "code",
   "execution_count": 99,
   "id": "2b6ad37d",
   "metadata": {},
   "outputs": [],
   "source": [
    "input_vec = tfidf_vectorizer.transform([input_review])"
   ]
  },
  {
   "cell_type": "code",
   "execution_count": 100,
   "id": "9195d933",
   "metadata": {},
   "outputs": [
    {
     "data": {
      "text/plain": [
       "(1, 50336)"
      ]
     },
     "execution_count": 100,
     "metadata": {},
     "output_type": "execute_result"
    }
   ],
   "source": [
    "input_vec.toarray().shape"
   ]
  },
  {
   "cell_type": "code",
   "execution_count": 101,
   "id": "9ba68a32",
   "metadata": {},
   "outputs": [],
   "source": [
    "input_array = input_vec.toarray()"
   ]
  },
  {
   "cell_type": "code",
   "execution_count": 102,
   "id": "66651539",
   "metadata": {},
   "outputs": [
    {
     "data": {
      "text/plain": [
       "array([0.29367434, 0.14407234, 0.58662715, 0.51729893, 0.51886063,\n",
       "       0.10978431])"
      ]
     },
     "execution_count": 102,
     "metadata": {},
     "output_type": "execute_result"
    }
   ],
   "source": [
    "input_array[input_array != 0]"
   ]
  },
  {
   "cell_type": "code",
   "execution_count": 103,
   "id": "3dc35f96",
   "metadata": {},
   "outputs": [],
   "source": [
    "from sklearn.metrics.pairwise import cosine_similarity"
   ]
  },
  {
   "cell_type": "code",
   "execution_count": 104,
   "id": "1ee3ca42",
   "metadata": {},
   "outputs": [],
   "source": [
    "similarities = cosine_similarity(input_array, tfidf_array)"
   ]
  },
  {
   "cell_type": "code",
   "execution_count": 105,
   "id": "9d4928db",
   "metadata": {},
   "outputs": [
    {
     "data": {
      "text/plain": [
       "array([[0.02260786, 0.        , 0.        , ..., 0.        , 0.00857782,\n",
       "        0.01188774]])"
      ]
     },
     "execution_count": 105,
     "metadata": {},
     "output_type": "execute_result"
    }
   ],
   "source": [
    "similarities"
   ]
  },
  {
   "cell_type": "code",
   "execution_count": 106,
   "id": "a4788987",
   "metadata": {},
   "outputs": [],
   "source": [
    "import numpy as np"
   ]
  },
  {
   "cell_type": "code",
   "execution_count": 107,
   "id": "141f351d",
   "metadata": {},
   "outputs": [],
   "source": [
    "similarities_index = np.argsort(similarities)[0]"
   ]
  },
  {
   "cell_type": "code",
   "execution_count": 108,
   "id": "e55bc0e2",
   "metadata": {},
   "outputs": [
    {
     "data": {
      "text/plain": [
       "array([4601, 7935, 8475, 2424, 4512, 5817, 6253, 8546, 6176, 2994])"
      ]
     },
     "execution_count": 108,
     "metadata": {},
     "output_type": "execute_result"
    }
   ],
   "source": [
    "top_10 = similarities_index[:-11:-1]\n",
    "top_10"
   ]
  },
  {
   "cell_type": "code",
   "execution_count": 109,
   "id": "7fb21f4b",
   "metadata": {},
   "outputs": [
    {
     "name": "stdout",
     "output_type": "stream",
     "text": [
      "O produto não é original explodiu e queimou parte da minha casa, irei processar a americanas.\n",
      "\n",
      "achei péssimo ,a agua vaza sem parar molhando tudo,não mantém a temperatura,a tomada superaqueceu e derreteu por pouco não pegou fogo ,usei duas vezes,desisti vou comprar outro de outra marca ,esse nunca mais.\n",
      "\n",
      "Comprei o produto para presentear minha esposa , estamos viajando e ela usou uma vez e o produto esquenta e fica com a parte traseira encandecente como se fosse pegar fogo, ou seja vou pedir q troca assim que retornar da viagem. A chapinha não teve problema mais o secador não funciona e com medo de queimar ou pegar fogo e derreter preferimos não usar .\n",
      "\n",
      "Aparelho muito bom. Wi fi pegou facil e estável. Bom para séries e filmes. Tem bom acabamento e funcionalidade.\n",
      "\n",
      "Muito bom o produto, só a bateria q não é muito boa.\n",
      "\n",
      "Excelente produto, supriu a minha necessidade! O único ponto do qual me pegou de surpresa é que só funciona através do controle remoto, não vem interruptor! Mas isso não interfere na qualidade e na função do produto! Excelente! Recomendaria e compraria de novo\n",
      "\n",
      "Produto de excelente qualidade, ótima bateria, celular muito bom mesmo, recomendo\n",
      "\n",
      "Aparelho muito bom É rápido e a bateria é ótima. Eu recomendo.\n",
      "\n",
      "Uma panela de pressão que torna obsoletas todas as outras. Cozinha no tempo certo, elimina o risco de esquecê-la no \"fogo\". Recomendadíssimo.\n",
      "\n",
      "Produto bom, porém a bateria não é boa, acaba rápido.\n",
      "\n"
     ]
    }
   ],
   "source": [
    "for index in top_10:\n",
    "    print(texts[index] + '\\n')"
   ]
  },
  {
   "cell_type": "code",
   "execution_count": null,
   "id": "27eea26c",
   "metadata": {},
   "outputs": [],
   "source": []
  }
 ],
 "metadata": {
  "kernelspec": {
   "display_name": "Python 3 (ipykernel)",
   "language": "python",
   "name": "python3"
  },
  "language_info": {
   "codemirror_mode": {
    "name": "ipython",
    "version": 3
   },
   "file_extension": ".py",
   "mimetype": "text/x-python",
   "name": "python",
   "nbconvert_exporter": "python",
   "pygments_lexer": "ipython3",
   "version": "3.10.4"
  }
 },
 "nbformat": 4,
 "nbformat_minor": 5
}
