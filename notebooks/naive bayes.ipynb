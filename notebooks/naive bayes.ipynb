{
 "cells": [
  {
   "cell_type": "code",
   "execution_count": 1,
   "id": "f95e9505",
   "metadata": {},
   "outputs": [],
   "source": [
    "import pandas as pd"
   ]
  },
  {
   "cell_type": "code",
   "execution_count": 2,
   "id": "84718b93",
   "metadata": {},
   "outputs": [
    {
     "name": "stderr",
     "output_type": "stream",
     "text": [
      "/var/folders/vb/q6czv8r938d0bnqp76zgy5km0000gn/T/ipykernel_20827/1153590322.py:1: DtypeWarning: Columns (2) have mixed types. Specify dtype option on import or set low_memory=False.\n",
      "  df = pd.read_csv('B2W-Reviews01.csv')\n"
     ]
    }
   ],
   "source": [
    "df = pd.read_csv('B2W-Reviews01.csv')"
   ]
  },
  {
   "cell_type": "code",
   "execution_count": 3,
   "id": "6a6434db",
   "metadata": {},
   "outputs": [
    {
     "data": {
      "text/html": [
       "<div>\n",
       "<style scoped>\n",
       "    .dataframe tbody tr th:only-of-type {\n",
       "        vertical-align: middle;\n",
       "    }\n",
       "\n",
       "    .dataframe tbody tr th {\n",
       "        vertical-align: top;\n",
       "    }\n",
       "\n",
       "    .dataframe thead th {\n",
       "        text-align: right;\n",
       "    }\n",
       "</style>\n",
       "<table border=\"1\" class=\"dataframe\">\n",
       "  <thead>\n",
       "    <tr style=\"text-align: right;\">\n",
       "      <th></th>\n",
       "      <th>submission_date</th>\n",
       "      <th>reviewer_id</th>\n",
       "      <th>product_id</th>\n",
       "      <th>product_name</th>\n",
       "      <th>product_brand</th>\n",
       "      <th>site_category_lv1</th>\n",
       "      <th>site_category_lv2</th>\n",
       "      <th>review_title</th>\n",
       "      <th>overall_rating</th>\n",
       "      <th>recommend_to_a_friend</th>\n",
       "      <th>review_text</th>\n",
       "      <th>reviewer_birth_year</th>\n",
       "      <th>reviewer_gender</th>\n",
       "      <th>reviewer_state</th>\n",
       "    </tr>\n",
       "  </thead>\n",
       "  <tbody>\n",
       "    <tr>\n",
       "      <th>0</th>\n",
       "      <td>2018-01-01 00:11:28</td>\n",
       "      <td>d0fb1ca69422530334178f5c8624aa7a99da47907c44de...</td>\n",
       "      <td>132532965</td>\n",
       "      <td>Notebook Asus Vivobook Max X541NA-GO472T Intel...</td>\n",
       "      <td>NaN</td>\n",
       "      <td>Informática</td>\n",
       "      <td>Notebook</td>\n",
       "      <td>Bom</td>\n",
       "      <td>4</td>\n",
       "      <td>Yes</td>\n",
       "      <td>Estou contente com a compra entrega rápida o ú...</td>\n",
       "      <td>1958.0</td>\n",
       "      <td>F</td>\n",
       "      <td>RJ</td>\n",
       "    </tr>\n",
       "    <tr>\n",
       "      <th>1</th>\n",
       "      <td>2018-01-01 00:13:48</td>\n",
       "      <td>014d6dc5a10aed1ff1e6f349fb2b059a2d3de511c7538a...</td>\n",
       "      <td>22562178</td>\n",
       "      <td>Copo Acrílico Com Canudo 500ml Rocie</td>\n",
       "      <td>NaN</td>\n",
       "      <td>Utilidades Domésticas</td>\n",
       "      <td>Copos, Taças e Canecas</td>\n",
       "      <td>Preço imbatível, ótima qualidade</td>\n",
       "      <td>4</td>\n",
       "      <td>Yes</td>\n",
       "      <td>Por apenas R$1994.20,eu consegui comprar esse ...</td>\n",
       "      <td>1996.0</td>\n",
       "      <td>M</td>\n",
       "      <td>SC</td>\n",
       "    </tr>\n",
       "    <tr>\n",
       "      <th>2</th>\n",
       "      <td>2018-01-01 00:26:02</td>\n",
       "      <td>44f2c8edd93471926fff601274b8b2b5c4824e386ae4f2...</td>\n",
       "      <td>113022329</td>\n",
       "      <td>Panela de Pressão Elétrica Philips Walita Dail...</td>\n",
       "      <td>philips walita</td>\n",
       "      <td>Eletroportáteis</td>\n",
       "      <td>Panela Elétrica</td>\n",
       "      <td>ATENDE TODAS AS EXPECTATIVA.</td>\n",
       "      <td>4</td>\n",
       "      <td>Yes</td>\n",
       "      <td>SUPERA EM AGILIDADE E PRATICIDADE OUTRAS PANEL...</td>\n",
       "      <td>1984.0</td>\n",
       "      <td>M</td>\n",
       "      <td>SP</td>\n",
       "    </tr>\n",
       "    <tr>\n",
       "      <th>3</th>\n",
       "      <td>2018-01-01 00:35:54</td>\n",
       "      <td>ce741665c1764ab2d77539e18d0e4f66dde6213c9f0863...</td>\n",
       "      <td>113851581</td>\n",
       "      <td>Betoneira Columbus - Roma Brinquedos</td>\n",
       "      <td>roma jensen</td>\n",
       "      <td>Brinquedos</td>\n",
       "      <td>Veículos de Brinquedo</td>\n",
       "      <td>presente mais que desejado</td>\n",
       "      <td>4</td>\n",
       "      <td>Yes</td>\n",
       "      <td>MEU FILHO AMOU! PARECE DE VERDADE COM TANTOS D...</td>\n",
       "      <td>1985.0</td>\n",
       "      <td>F</td>\n",
       "      <td>SP</td>\n",
       "    </tr>\n",
       "    <tr>\n",
       "      <th>4</th>\n",
       "      <td>2018-01-01 01:00:28</td>\n",
       "      <td>7d7b6b18dda804a897359276cef0ca252f9932bf4b5c8e...</td>\n",
       "      <td>131788803</td>\n",
       "      <td>Smart TV LED 43\" LG 43UJ6525 Ultra HD 4K com C...</td>\n",
       "      <td>lg</td>\n",
       "      <td>TV e Home Theater</td>\n",
       "      <td>TV</td>\n",
       "      <td>Sem duvidas, excelente</td>\n",
       "      <td>5</td>\n",
       "      <td>Yes</td>\n",
       "      <td>A entrega foi no prazo, as americanas estão de...</td>\n",
       "      <td>1994.0</td>\n",
       "      <td>M</td>\n",
       "      <td>MG</td>\n",
       "    </tr>\n",
       "    <tr>\n",
       "      <th>...</th>\n",
       "      <td>...</td>\n",
       "      <td>...</td>\n",
       "      <td>...</td>\n",
       "      <td>...</td>\n",
       "      <td>...</td>\n",
       "      <td>...</td>\n",
       "      <td>...</td>\n",
       "      <td>...</td>\n",
       "      <td>...</td>\n",
       "      <td>...</td>\n",
       "      <td>...</td>\n",
       "      <td>...</td>\n",
       "      <td>...</td>\n",
       "      <td>...</td>\n",
       "    </tr>\n",
       "    <tr>\n",
       "      <th>132368</th>\n",
       "      <td>2018-05-31 23:30:50</td>\n",
       "      <td>15f20e95ff44163f3175aaf67a5ae4a94d5030b409e521...</td>\n",
       "      <td>17962233</td>\n",
       "      <td>Carregador De Pilha Sony + 4 Pilhas Aa 2500mah</td>\n",
       "      <td>NaN</td>\n",
       "      <td>Câmeras e Filmadoras</td>\n",
       "      <td>Acessórios para Câmeras e Filmadoras</td>\n",
       "      <td>Ótimo produto!</td>\n",
       "      <td>5</td>\n",
       "      <td>Yes</td>\n",
       "      <td>Vale muito, estou usando no controle do Xbox e...</td>\n",
       "      <td>1988.0</td>\n",
       "      <td>M</td>\n",
       "      <td>RS</td>\n",
       "    </tr>\n",
       "    <tr>\n",
       "      <th>132369</th>\n",
       "      <td>2018-05-31 23:42:25</td>\n",
       "      <td>def7cf9028b0673ab8bca3b1d06e085461fafb88cd48d9...</td>\n",
       "      <td>132631701</td>\n",
       "      <td>Mop Giratório Fit + Refil Extra - At Home</td>\n",
       "      <td>NaN</td>\n",
       "      <td>Utilidades Domésticas</td>\n",
       "      <td>Material de Limpeza</td>\n",
       "      <td>Sensacional</td>\n",
       "      <td>5</td>\n",
       "      <td>Yes</td>\n",
       "      <td>Prático e barato, super indico o produto para ...</td>\n",
       "      <td>1979.0</td>\n",
       "      <td>F</td>\n",
       "      <td>SP</td>\n",
       "    </tr>\n",
       "    <tr>\n",
       "      <th>132370</th>\n",
       "      <td>2018-05-31 23:44:16</td>\n",
       "      <td>7bcbf542f5d7dd9a9a192a6805adba7a7a4c1ce3bf00df...</td>\n",
       "      <td>16095859</td>\n",
       "      <td>Fita Led 5m Rgb 3528 Siliconada Com 300 Leds C...</td>\n",
       "      <td>NaN</td>\n",
       "      <td>Automotivo</td>\n",
       "      <td>Iluminação</td>\n",
       "      <td>Ótimo produto</td>\n",
       "      <td>4</td>\n",
       "      <td>Yes</td>\n",
       "      <td>Chegou antes do prazo previsto e corresponde a...</td>\n",
       "      <td>1979.0</td>\n",
       "      <td>F</td>\n",
       "      <td>PR</td>\n",
       "    </tr>\n",
       "    <tr>\n",
       "      <th>132371</th>\n",
       "      <td>2018-05-31 23:46:48</td>\n",
       "      <td>e6fb0b19277d01c2a300c7837a105f3c369377e92f9c19...</td>\n",
       "      <td>6774907</td>\n",
       "      <td>Etiquetas Jurídicas Vade Mecum - Marca Fácil</td>\n",
       "      <td>marca facil</td>\n",
       "      <td>Papelaria</td>\n",
       "      <td>Material de Escritório</td>\n",
       "      <td>O produto não é bom.</td>\n",
       "      <td>1</td>\n",
       "      <td>No</td>\n",
       "      <td>Material fraco, poderia ser melhor. Ficou deve...</td>\n",
       "      <td>1991.0</td>\n",
       "      <td>M</td>\n",
       "      <td>RJ</td>\n",
       "    </tr>\n",
       "    <tr>\n",
       "      <th>132372</th>\n",
       "      <td>2018-05-31 23:50:33</td>\n",
       "      <td>ea9467aa73271fb4f68c04f4dd4f4eef304d6ee85441fb...</td>\n",
       "      <td>114081902</td>\n",
       "      <td>Painel de Fotos Bee Colection Rue Bac (74x94x3...</td>\n",
       "      <td>kapos</td>\n",
       "      <td>Decoração</td>\n",
       "      <td>Painel de Fotos</td>\n",
       "      <td>Produto não entregue</td>\n",
       "      <td>1</td>\n",
       "      <td>No</td>\n",
       "      <td>Comprei esse produto, quando chegou estava com...</td>\n",
       "      <td>1982.0</td>\n",
       "      <td>F</td>\n",
       "      <td>ES</td>\n",
       "    </tr>\n",
       "  </tbody>\n",
       "</table>\n",
       "<p>132373 rows × 14 columns</p>\n",
       "</div>"
      ],
      "text/plain": [
       "            submission_date  \\\n",
       "0       2018-01-01 00:11:28   \n",
       "1       2018-01-01 00:13:48   \n",
       "2       2018-01-01 00:26:02   \n",
       "3       2018-01-01 00:35:54   \n",
       "4       2018-01-01 01:00:28   \n",
       "...                     ...   \n",
       "132368  2018-05-31 23:30:50   \n",
       "132369  2018-05-31 23:42:25   \n",
       "132370  2018-05-31 23:44:16   \n",
       "132371  2018-05-31 23:46:48   \n",
       "132372  2018-05-31 23:50:33   \n",
       "\n",
       "                                              reviewer_id product_id  \\\n",
       "0       d0fb1ca69422530334178f5c8624aa7a99da47907c44de...  132532965   \n",
       "1       014d6dc5a10aed1ff1e6f349fb2b059a2d3de511c7538a...   22562178   \n",
       "2       44f2c8edd93471926fff601274b8b2b5c4824e386ae4f2...  113022329   \n",
       "3       ce741665c1764ab2d77539e18d0e4f66dde6213c9f0863...  113851581   \n",
       "4       7d7b6b18dda804a897359276cef0ca252f9932bf4b5c8e...  131788803   \n",
       "...                                                   ...        ...   \n",
       "132368  15f20e95ff44163f3175aaf67a5ae4a94d5030b409e521...   17962233   \n",
       "132369  def7cf9028b0673ab8bca3b1d06e085461fafb88cd48d9...  132631701   \n",
       "132370  7bcbf542f5d7dd9a9a192a6805adba7a7a4c1ce3bf00df...   16095859   \n",
       "132371  e6fb0b19277d01c2a300c7837a105f3c369377e92f9c19...    6774907   \n",
       "132372  ea9467aa73271fb4f68c04f4dd4f4eef304d6ee85441fb...  114081902   \n",
       "\n",
       "                                             product_name   product_brand  \\\n",
       "0       Notebook Asus Vivobook Max X541NA-GO472T Intel...             NaN   \n",
       "1                    Copo Acrílico Com Canudo 500ml Rocie             NaN   \n",
       "2       Panela de Pressão Elétrica Philips Walita Dail...  philips walita   \n",
       "3                    Betoneira Columbus - Roma Brinquedos     roma jensen   \n",
       "4       Smart TV LED 43\" LG 43UJ6525 Ultra HD 4K com C...              lg   \n",
       "...                                                   ...             ...   \n",
       "132368     Carregador De Pilha Sony + 4 Pilhas Aa 2500mah             NaN   \n",
       "132369          Mop Giratório Fit + Refil Extra - At Home             NaN   \n",
       "132370  Fita Led 5m Rgb 3528 Siliconada Com 300 Leds C...             NaN   \n",
       "132371       Etiquetas Jurídicas Vade Mecum - Marca Fácil     marca facil   \n",
       "132372  Painel de Fotos Bee Colection Rue Bac (74x94x3...           kapos   \n",
       "\n",
       "            site_category_lv1                     site_category_lv2  \\\n",
       "0                 Informática                              Notebook   \n",
       "1       Utilidades Domésticas                Copos, Taças e Canecas   \n",
       "2             Eletroportáteis                       Panela Elétrica   \n",
       "3                  Brinquedos                 Veículos de Brinquedo   \n",
       "4           TV e Home Theater                                    TV   \n",
       "...                       ...                                   ...   \n",
       "132368   Câmeras e Filmadoras  Acessórios para Câmeras e Filmadoras   \n",
       "132369  Utilidades Domésticas                   Material de Limpeza   \n",
       "132370             Automotivo                            Iluminação   \n",
       "132371              Papelaria                Material de Escritório   \n",
       "132372              Decoração                       Painel de Fotos   \n",
       "\n",
       "                            review_title  overall_rating  \\\n",
       "0                                    Bom               4   \n",
       "1       Preço imbatível, ótima qualidade               4   \n",
       "2           ATENDE TODAS AS EXPECTATIVA.               4   \n",
       "3             presente mais que desejado               4   \n",
       "4                 Sem duvidas, excelente               5   \n",
       "...                                  ...             ...   \n",
       "132368                    Ótimo produto!               5   \n",
       "132369                       Sensacional               5   \n",
       "132370                     Ótimo produto               4   \n",
       "132371              O produto não é bom.               1   \n",
       "132372              Produto não entregue               1   \n",
       "\n",
       "       recommend_to_a_friend  \\\n",
       "0                        Yes   \n",
       "1                        Yes   \n",
       "2                        Yes   \n",
       "3                        Yes   \n",
       "4                        Yes   \n",
       "...                      ...   \n",
       "132368                   Yes   \n",
       "132369                   Yes   \n",
       "132370                   Yes   \n",
       "132371                    No   \n",
       "132372                    No   \n",
       "\n",
       "                                              review_text  \\\n",
       "0       Estou contente com a compra entrega rápida o ú...   \n",
       "1       Por apenas R$1994.20,eu consegui comprar esse ...   \n",
       "2       SUPERA EM AGILIDADE E PRATICIDADE OUTRAS PANEL...   \n",
       "3       MEU FILHO AMOU! PARECE DE VERDADE COM TANTOS D...   \n",
       "4       A entrega foi no prazo, as americanas estão de...   \n",
       "...                                                   ...   \n",
       "132368  Vale muito, estou usando no controle do Xbox e...   \n",
       "132369  Prático e barato, super indico o produto para ...   \n",
       "132370  Chegou antes do prazo previsto e corresponde a...   \n",
       "132371  Material fraco, poderia ser melhor. Ficou deve...   \n",
       "132372  Comprei esse produto, quando chegou estava com...   \n",
       "\n",
       "        reviewer_birth_year reviewer_gender reviewer_state  \n",
       "0                    1958.0               F             RJ  \n",
       "1                    1996.0               M             SC  \n",
       "2                    1984.0               M             SP  \n",
       "3                    1985.0               F             SP  \n",
       "4                    1994.0               M             MG  \n",
       "...                     ...             ...            ...  \n",
       "132368               1988.0               M             RS  \n",
       "132369               1979.0               F             SP  \n",
       "132370               1979.0               F             PR  \n",
       "132371               1991.0               M             RJ  \n",
       "132372               1982.0               F             ES  \n",
       "\n",
       "[132373 rows x 14 columns]"
      ]
     },
     "execution_count": 3,
     "metadata": {},
     "output_type": "execute_result"
    }
   ],
   "source": [
    "df"
   ]
  },
  {
   "cell_type": "code",
   "execution_count": 4,
   "id": "da459bc3",
   "metadata": {},
   "outputs": [],
   "source": [
    "df = df.dropna(subset=['review_text'])"
   ]
  },
  {
   "cell_type": "code",
   "execution_count": 5,
   "id": "1ae565fc",
   "metadata": {},
   "outputs": [
    {
     "data": {
      "text/plain": [
       "0         Estou contente com a compra entrega rápida o ú...\n",
       "1         Por apenas R$1994.20,eu consegui comprar esse ...\n",
       "2         SUPERA EM AGILIDADE E PRATICIDADE OUTRAS PANEL...\n",
       "3         MEU FILHO AMOU! PARECE DE VERDADE COM TANTOS D...\n",
       "4         A entrega foi no prazo, as americanas estão de...\n",
       "                                ...                        \n",
       "132368    Vale muito, estou usando no controle do Xbox e...\n",
       "132369    Prático e barato, super indico o produto para ...\n",
       "132370    Chegou antes do prazo previsto e corresponde a...\n",
       "132371    Material fraco, poderia ser melhor. Ficou deve...\n",
       "132372    Comprei esse produto, quando chegou estava com...\n",
       "Name: review_text, Length: 129098, dtype: object"
      ]
     },
     "execution_count": 5,
     "metadata": {},
     "output_type": "execute_result"
    }
   ],
   "source": [
    "df['review_text']"
   ]
  },
  {
   "cell_type": "code",
   "execution_count": 6,
   "id": "6a049eed",
   "metadata": {},
   "outputs": [
    {
     "name": "stderr",
     "output_type": "stream",
     "text": [
      "/var/folders/vb/q6czv8r938d0bnqp76zgy5km0000gn/T/ipykernel_20827/3782466327.py:1: SettingWithCopyWarning: \n",
      "A value is trying to be set on a copy of a slice from a DataFrame.\n",
      "Try using .loc[row_indexer,col_indexer] = value instead\n",
      "\n",
      "See the caveats in the documentation: https://pandas.pydata.org/pandas-docs/stable/user_guide/indexing.html#returning-a-view-versus-a-copy\n",
      "  df['label'] = df['overall_rating'].apply(lambda x: 0 if x <=3 else 1)\n"
     ]
    }
   ],
   "source": [
    "df['label'] = df['overall_rating'].apply(lambda x: 0 if x <=3 else 1)"
   ]
  },
  {
   "cell_type": "code",
   "execution_count": 7,
   "id": "1af9fa7e",
   "metadata": {},
   "outputs": [
    {
     "data": {
      "text/plain": [
       "0         1\n",
       "1         1\n",
       "2         1\n",
       "3         1\n",
       "4         1\n",
       "         ..\n",
       "132368    1\n",
       "132369    1\n",
       "132370    1\n",
       "132371    0\n",
       "132372    0\n",
       "Name: label, Length: 129098, dtype: int64"
      ]
     },
     "execution_count": 7,
     "metadata": {},
     "output_type": "execute_result"
    }
   ],
   "source": [
    "df['label']"
   ]
  },
  {
   "cell_type": "code",
   "execution_count": 10,
   "id": "d9592079",
   "metadata": {},
   "outputs": [
    {
     "data": {
      "text/plain": [
       "1    79316\n",
       "0    49782\n",
       "Name: label, dtype: int64"
      ]
     },
     "execution_count": 10,
     "metadata": {},
     "output_type": "execute_result"
    }
   ],
   "source": [
    "df['label'].value_counts()"
   ]
  },
  {
   "cell_type": "code",
   "execution_count": 12,
   "id": "343161b4",
   "metadata": {},
   "outputs": [],
   "source": [
    "X = df['review_text']\n",
    "y = df['label']"
   ]
  },
  {
   "cell_type": "code",
   "execution_count": 13,
   "id": "0432d322",
   "metadata": {},
   "outputs": [],
   "source": [
    "from sklearn.model_selection import train_test_split\n",
    "\n",
    "X_train, X_test, y_train, y_test = train_test_split(X, y, test_size=0.2)"
   ]
  },
  {
   "cell_type": "code",
   "execution_count": 17,
   "id": "7d70a9af",
   "metadata": {},
   "outputs": [],
   "source": [
    "from sklearn.feature_extraction.text import TfidfVectorizer\n",
    "\n",
    "tfidf = TfidfVectorizer()\n",
    "X_train_vec = tfidf.fit_transform(X_train)\n",
    "X_test_vec = tfidf.transform(X_test)"
   ]
  },
  {
   "cell_type": "code",
   "execution_count": 21,
   "id": "fe795e06",
   "metadata": {},
   "outputs": [],
   "source": [
    "from sklearn.naive_bayes import MultinomialNB\n",
    "\n",
    "classifier = MultinomialNB()\n",
    "model = classifier.fit(X_train_vec, y_train)"
   ]
  },
  {
   "cell_type": "code",
   "execution_count": 22,
   "id": "93eb2808",
   "metadata": {},
   "outputs": [
    {
     "data": {
      "text/plain": [
       "array([1, 1, 0, ..., 1, 1, 0])"
      ]
     },
     "execution_count": 22,
     "metadata": {},
     "output_type": "execute_result"
    }
   ],
   "source": [
    "model.predict(X_test_vec)"
   ]
  },
  {
   "cell_type": "code",
   "execution_count": 24,
   "id": "2f977847",
   "metadata": {},
   "outputs": [
    {
     "data": {
      "text/plain": [
       "'Gostei do material, o violão é leve e tem boa sonorização, porém o detalhe é que o kit não é tão completo assim como diz a propaganda. O violão não vem com a roldana fixada para colocar a Correia, nem tão pouco mandaram junto a roldana para que fosse afixada posteriormente. Então quem vier a comprar o produto se prepare para investir mais um dinheirinho (valor mínimo de 15,00) para tornar o produto completo. De resto sem problemas.'"
      ]
     },
     "execution_count": 24,
     "metadata": {},
     "output_type": "execute_result"
    }
   ],
   "source": [
    "X_test.loc[66224]"
   ]
  },
  {
   "cell_type": "code",
   "execution_count": 25,
   "id": "c70d42e8",
   "metadata": {},
   "outputs": [
    {
     "data": {
      "text/plain": [
       "submission_date                                        2018-03-22 06:32:41\n",
       "reviewer_id              242266d87e96053c89ea56618ba41082294ca1dc4ab210...\n",
       "product_id                                                        18541480\n",
       "product_name             Kit Violão Giannini Flat Eletroacústico Nf14 B...\n",
       "product_brand                                                          NaN\n",
       "site_category_lv1                                    Instrumentos Musicais\n",
       "site_category_lv2                                                      NaN\n",
       "review_title                                   Gostei do violão, porém...!\n",
       "overall_rating                                                           3\n",
       "recommend_to_a_friend                                                  Yes\n",
       "review_text              Gostei do material, o violão é leve e tem boa ...\n",
       "reviewer_birth_year                                                 1980.0\n",
       "reviewer_gender                                                          M\n",
       "reviewer_state                                                          SP\n",
       "label                                                                    0\n",
       "Name: 66224, dtype: object"
      ]
     },
     "execution_count": 25,
     "metadata": {},
     "output_type": "execute_result"
    }
   ],
   "source": [
    "df.loc[66224]"
   ]
  },
  {
   "cell_type": "code",
   "execution_count": 26,
   "id": "9932d4e0",
   "metadata": {},
   "outputs": [
    {
     "data": {
      "text/plain": [
       "0.8543377226955848"
      ]
     },
     "execution_count": 26,
     "metadata": {},
     "output_type": "execute_result"
    }
   ],
   "source": [
    "from sklearn.metrics import accuracy_score\n",
    "\n",
    "accuracy_score(y_test, model.predict(X_test_vec))"
   ]
  },
  {
   "cell_type": "code",
   "execution_count": 29,
   "id": "45598465",
   "metadata": {},
   "outputs": [
    {
     "data": {
      "image/png": "[encoded data removed]",
      "text/plain": [
       "<Figure size 432x288 with 2 Axes>"
      ]
     },
     "metadata": {
      "needs_background": "light"
     },
     "output_type": "display_data"
    }
   ],
   "source": [
    "import matplotlib.pyplot as plt\n",
    "from sklearn.metrics import confusion_matrix, ConfusionMatrixDisplay\n",
    "\n",
    "cm = confusion_matrix(y_test, model.predict(X_test_vec))\n",
    "\n",
    "disp = ConfusionMatrixDisplay(confusion_matrix=cm,\n",
    "                              display_labels=classifier.classes_)\n",
    "disp.plot()\n",
    "plt.show()"
   ]
  },
  {
   "cell_type": "code",
   "execution_count": 36,
   "id": "a4339686",
   "metadata": {},
   "outputs": [
    {
     "data": {
      "text/plain": [
       "array([0])"
      ]
     },
     "execution_count": 36,
     "metadata": {},
     "output_type": "execute_result"
    }
   ],
   "source": [
    "my_input = 'não gostei do produto, não foi muito barato'\n",
    "my_input = tfidf.transform([my_input])\n",
    "model.predict(my_input)"
   ]
  },
  {
   "cell_type": "code",
   "execution_count": 37,
   "id": "3af75bf6",
   "metadata": {},
   "outputs": [
    {
     "data": {
      "text/plain": [
       "array([39818., 63460.])"
      ]
     },
     "execution_count": 37,
     "metadata": {},
     "output_type": "execute_result"
    }
   ],
   "source": [
    "classifier.class_count_"
   ]
  },
  {
   "cell_type": "code",
   "execution_count": 40,
   "id": "a6bed892",
   "metadata": {},
   "outputs": [
    {
     "data": {
      "text/plain": [
       "array([71.10288227,  9.51773299,  0.46260314, ...,  0.        ,\n",
       "        0.        ,  0.        ])"
      ]
     },
     "execution_count": 40,
     "metadata": {},
     "output_type": "execute_result"
    }
   ],
   "source": [
    "classifier.feature_count_[0]"
   ]
  },
  {
   "cell_type": "code",
   "execution_count": 49,
   "id": "8cf39068",
   "metadata": {},
   "outputs": [
    {
     "data": {
      "text/plain": [
       "array(['absurdooooooooooooooooooo', 'absurdos', 'absuro',\n",
       "       'absuroooooooooooooooooooooooooo', 'absusrdo', 'abto', 'abundante',\n",
       "       'abundância', 'abusando', 'abusar'], dtype=object)"
      ]
     },
     "execution_count": 49,
     "metadata": {},
     "output_type": "execute_result"
    }
   ],
   "source": [
    "tfidf.get_feature_names_out()[2000:2010]"
   ]
  },
  {
   "cell_type": "code",
   "execution_count": 50,
   "id": "34636d83",
   "metadata": {},
   "outputs": [
    {
     "data": {
      "text/plain": [
       "array([0.36115483, 1.31020593, 0.2602684 , 0.67912031, 0.45145891,\n",
       "       0.28398471, 0.        , 0.2644584 , 0.39946476, 0.57225871])"
      ]
     },
     "execution_count": 50,
     "metadata": {},
     "output_type": "execute_result"
    }
   ],
   "source": [
    "classifier.feature_count_[0][2000:2010]"
   ]
  },
  {
   "cell_type": "code",
   "execution_count": 51,
   "id": "193dc2fd",
   "metadata": {},
   "outputs": [
    {
     "data": {
      "text/plain": [
       "array([0.        , 0.54931623, 0.        , 0.        , 0.        ,\n",
       "       0.        , 0.37086102, 0.5422437 , 0.        , 0.        ])"
      ]
     },
     "execution_count": 51,
     "metadata": {},
     "output_type": "execute_result"
    }
   ],
   "source": [
    "classifier.feature_count_[1][2000:2010]"
   ]
  },
  {
   "cell_type": "code",
   "execution_count": null,
   "id": "bd404da9",
   "metadata": {},
   "outputs": [],
   "source": []
  }
 ],
 "metadata": {
  "kernelspec": {
   "display_name": "Python 3 (ipykernel)",
   "language": "python",
   "name": "python3"
  },
  "language_info": {
   "codemirror_mode": {
    "name": "ipython",
    "version": 3
   },
   "file_extension": ".py",
   "mimetype": "text/x-python",
   "name": "python",
   "nbconvert_exporter": "python",
   "pygments_lexer": "ipython3",
   "version": "3.10.4"
  }
 },
 "nbformat": 4,
 "nbformat_minor": 5
}
